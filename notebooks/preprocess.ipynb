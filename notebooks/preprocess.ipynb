{
 "cells": [
  {
   "cell_type": "code",
   "execution_count": 1,
   "metadata": {},
   "outputs": [],
   "source": [
    "import sys\n",
    "\n",
    "sys.path.append(\"../python\")"
   ]
  },
  {
   "cell_type": "code",
   "execution_count": 2,
   "metadata": {},
   "outputs": [
    {
     "data": {
      "text/plain": [
       "<module 'utils' from '../python/utils.py'>"
      ]
     },
     "execution_count": 2,
     "metadata": {},
     "output_type": "execute_result"
    }
   ],
   "source": [
    "import utils\n",
    "reload(utils)"
   ]
  },
  {
   "cell_type": "code",
   "execution_count": 3,
   "metadata": {},
   "outputs": [],
   "source": [
    "emb_dict = utils.load_glove_embedding(utils.glove_embedding_path(25))"
   ]
  },
  {
   "cell_type": "code",
   "execution_count": 4,
   "metadata": {},
   "outputs": [
    {
     "data": {
      "text/plain": [
       "Index(['id', 'lang', 'retweet_count', 'retweeted', 'text', 'truncated',\n",
       "       'user/name'],\n",
       "      dtype='object')"
      ]
     },
     "execution_count": 4,
     "metadata": {},
     "output_type": "execute_result"
    }
   ],
   "source": [
    "df = utils.load_all_tweets(\"../data/raw\")\n",
    "\n",
    "df.columns"
   ]
  },
  {
   "cell_type": "code",
   "execution_count": 33,
   "metadata": {},
   "outputs": [],
   "source": [
    "non_words  = '🤖👌➡️➡️👉🤖🎓🌐🚀💻\\u2066😎\\xa0👩\\u200d🏫🎬💻🤖🌐🎓🚀\\u2069™✨\\U0001f9e0\\u200b💪😍🤓🎉🚀🚀👋🔹👉👉✍🏽🌟✨🏆🎉👾😃✅'\n",
    "non_words += '🌐☞☞😷\\xa0\\xa0\\xa0👇😁😁😁👏——🔗📽️⚡️⚡️👍——🙏🏻🙌🏼❤️🚀🤓☞\\xa0🍷👉🖥️💡🔸👏👏👏✌😉☞💵☺️🤜🤛💪🇬🇧🇨🇦🚀🎥😬👌🏼🍸🇬🇷💙☞\\xa0😳👊👏📸▶️🎊'\n",
    "non_words += '✨📊📉🌱💙📺😇\\xa0—👁📊☞👉🏽🚀🌳👩🏽\\u200d🏫🌊👨🏻\\u200d🌾📚✏️💕\\U0001f970🙋'\n",
    "non_words += '🏻\\u200d♂️🙌🏼👍🏼#\\U0001f9fb💪➱➱–📝👊🏻🤷🏽\\u200d♂️🍁✍️🤖\\U0001f928📊📈✨🌟🏆🎉️⃣️⃣✔🔝《⚡⏱✈️🤔\\U0001f928🤔¡⠀👉'\n",
    "non_words += '\\u2063\\u2063\\u2063\\u2063☞–💻🤔☞🇯🇵🇮🇳👏🏽–🎉❤️🎓🏛️🤔✈️👉\\u200a—\\u200a✒️\\xa0😍😬🌐😊😁😍👀☞❤️\\U0001f929✨🔑🤖🤖🎓🏡🤝📽😎🚨🚨🤖🚖—》💥💥🔥🏙🔥'\n",
    "non_words += '🔲´🖼😂😏💚💜💜🌍😲📒📋🥇👑💎\\u3000📣🕴🚚💰🦈🙂💧🍅🍎🍐🍊🥑🍉🍇🏎📖💯💯🤣🐵📣🔖\\U0001f9fe📑\\xad\\xad😆🎡📢📷💁😮😲😂😂😂😀🎂🥗🎙⚽„😭😭😭😭💃💫'\n",
    "non_words += '😧⤵🍳🔟'\n",
    "non_words = non_words.replace(\"#\",\"\").replace(\"&\",\"\")\n",
    "\n",
    "pre_filters = non_words\n",
    "post_filters='!\"“”‘’’’’$%&()*+,-./:;=?@[\\\\]^_`{|}~…\\t\\n'\n",
    "\n",
    "df[\"preproc_text\"] = df[\"text\"].apply(lambda x: utils.cleanup_text(x,pre_filters=pre_filters,post_filters=post_filters) )"
   ]
  },
  {
   "cell_type": "code",
   "execution_count": 34,
   "metadata": {},
   "outputs": [
    {
     "data": {
      "text/plain": [
       "[['Sr. Data Scientist - Brainworks ( New York, NY, USA )  - [ 📋 More Info  https://t.co/iQFniYdezZ ] #AI #AiJobs… https://t.co/zEUNZuDqbl',\n",
       "  'Sr Data Scientist Brainworks New York NY USA More Info <url> <hashtag> #ai <trunc> <url> <stop>',\n",
       "  True],\n",
       " ['Your tip sheet to become the best data scientist, from the veteran himself Mr Joydeep Dam https://t.co/hd7G7DBO2B… https://t.co/aoTNGVJnRn',\n",
       "  'Your tip sheet to become the best data scientist from the veteran himself Mr Joydeep Dam <trunc> <url> <stop>',\n",
       "  True],\n",
       " ['LEARNING PATH: Python: Advanced Machine Learning with Python https://t.co/j0eh2vuU7C  #MachineLearning #DataScience #ad',\n",
       "  'LEARNING PATH Python Advanced Machine Learning with Python <url> <hashtag> #machinelearning <hashtag> #datascience <hashtag> #ad <stop>',\n",
       "  False],\n",
       " ['RT @machinelearnflx: Beginning Application Development with TensorFlow and Keras https://t.co/qZQehP8eaG  #MachineLearning #DataScience #ad',\n",
       "  'RT <user> Beginning Application Development with TensorFlow and Keras <url> <hashtag> #machinelearning <hashtag> #datascience <hashtag> #ad <stop>',\n",
       "  False],\n",
       " ['RT: KirkDBorne: Reimagining #SmartCities with the Arrival of Smart Connected Consumer Products:… https://t.co/0VJ29njR9b',\n",
       "  'RT KirkDBorne Reimagining <hashtag> #smartcities with the Arrival of Smart Connected Consumer <trunc> <url> <stop>',\n",
       "  True],\n",
       " ['RT @DaisyAAUdk: Congratulations to our colleague Bin Yang for receiving the Sapere Aude honor! Read more about his project titled \"A Data-I…',\n",
       "  'RT <user> Congratulations to our colleague Bin Yang for receiving the Sapere Aude honor Read more about his project titled A <trunc> <stop>',\n",
       "  False],\n",
       " ['Today @amazon announced that they will release Amazon Web Services in Sweden. \\nWhat do you think about that?… https://t.co/9rCdpnq8st',\n",
       "  'Today <user> announced that they will release Amazon Web Services in Sweden What do you think about <trunc> <url> <stop>',\n",
       "  True],\n",
       " ['RT @Datascience__: Big Data Modeling and Management Systems https://t.co/JFKj8WeG0l  #MachineLearning #DataScience #ad',\n",
       "  'RT <user> Big Data Modeling and Management Systems <url> <hashtag> #machinelearning <hashtag> #datascience <hashtag> #ad <stop>',\n",
       "  False],\n",
       " ['RT @marko_stam: phenomenal invited talk by @drmichaellevin at #NeurIPS2018 ranging from using biological plasticity as a model for computat…',\n",
       "  'RT <user> phenomenal invited talk by <user> at <hashtag> #neurips2018 ranging from using biological plasticity as a model for <trunc> <stop>',\n",
       "  False],\n",
       " [\"https://t.co/JGncISFURl, Volkswagen's AI research team just published their ML course materials which were used for… https://t.co/76POR9MHtP\",\n",
       "  ' <url> Volkswagen s AI research team just published their ML course materials which were used <trunc> <url> <stop>',\n",
       "  True],\n",
       " ['Salesforce Einstein Discovery - Easy AI and Machine Learning https://t.co/uWWGjnmVuT  #machinelearning #ad   @machinelearnflx',\n",
       "  'Salesforce Einstein Discovery Easy AI and Machine Learning <url> <hashtag> #machinelearning <hashtag> #ad <user> <stop>',\n",
       "  False],\n",
       " ['Power of Platforms: Driving Innovation through a Full-Stack Approach.  Read my latest article to learn more:… https://t.co/2BPGdOnmst',\n",
       "  'Power of Platforms Driving Innovation through a Full Stack Approach Read my latest article to learn <trunc> <url> <stop>',\n",
       "  True],\n",
       " ['RT @lfaguer: Sales for @stitchfix (#subscriptionbox filled with machine- and human-curated selections) jumped 24 percent during the quarter…',\n",
       "  'RT <user> Sales for <user> <hashtag> #subscriptionbox filled with machine and human curated selections jumped <number> percent during the <trunc> <stop>',\n",
       "  False],\n",
       " ['The latest The Chatbots Daily! https://t.co/rwXq0Ve9RS Thanks to @Arcape_Intl #ai #machinelearning',\n",
       "  'The latest The Chatbots Daily <url> Thanks to <user> <hashtag> #ai <hashtag> #machinelearning <stop>',\n",
       "  False],\n",
       " ['UBS hires Deutsche Bank research COO in big data push - Financial News\\n\\nRead more here: https://t.co/Y5gnEwBBK1… https://t.co/tC3ZC5LU9T',\n",
       "  'UBS hires Deutsche Bank research COO in big data push Financial News Read more here <trunc> <url> <stop>',\n",
       "  True],\n",
       " ['RT @lucasoft_co_uk: RT @bigrideoncloud Alibaba Cloud Super Computing Cluster can really be useful for AI,DL,ML, Big Data as it has RDMA and…',\n",
       "  'RT <user> RT <user> Alibaba Cloud Super Computing Cluster can really be useful for AI DL ML Big Data as it has RDMA <trunc> <stop>',\n",
       "  False],\n",
       " ['RT @chboursin: #AI-infused #autonomous retail checkout &gt;&gt;&gt; @standardAI via @MikeQuindazzi &gt;&gt;&gt; #eCommerce #IoT #AI #MachineLearning #DeepLea…',\n",
       "  'RT <user> <hashtag> #ai infused <hashtag> #autonomous retail checkout gt gt gt <user> via <user> gt gt gt <hashtag> #ecommerce <hashtag> #iot <hashtag> #ai <hashtag> #machinelearning <trunc> <stop>',\n",
       "  False],\n",
       " ['Insurance Analytics market outlook, geographical segmentation, industry size &amp; share, comprehensive analysis... - W… https://t.co/VdCrPSrHvP',\n",
       "  'Insurance Analytics market outlook geographical segmentation industry size amp share comprehensive analysis <repeat> <trunc> <url> <stop>',\n",
       "  True],\n",
       " ['RT @DataRobot: Do you have what it takes for the #futureofwork? Yes. \\nRead about the value of a humanities education, the truth about autom…',\n",
       "  'RT <user> Do you have what it takes for the <hashtag> #futureofwork Yes Read about the value of a humanities education the truth about <trunc> <stop>',\n",
       "  False],\n",
       " ['RT @TheIotWarehouse: #DeepLearning In Healthcare\\nhttps://t.co/hi4jmtGxuH  [by slavakurilyak v/ produvia]\\n#AI #MachineLearning #HealthTech #…',\n",
       "  'RT <user> <hashtag> #deeplearning In Healthcare <url> by slavakurilyak v produvia <hashtag> #ai <hashtag> #machinelearning <hashtag> #healthtech <trunc> <stop>',\n",
       "  False]]"
      ]
     },
     "execution_count": 34,
     "metadata": {},
     "output_type": "execute_result"
    }
   ],
   "source": [
    "df[[\"text\",\"preproc_text\"# ,\"user/name\"\n",
    "    ,\"truncated\"\n",
    "   ]].sample(20).values.tolist()"
   ]
  },
  {
   "cell_type": "code",
   "execution_count": 35,
   "metadata": {},
   "outputs": [],
   "source": [
    "from keras.preprocessing.text import Tokenizer"
   ]
  },
  {
   "cell_type": "code",
   "execution_count": 36,
   "metadata": {},
   "outputs": [
    {
     "name": "stdout",
     "output_type": "stream",
     "text": [
      "duplicated tweets: 0/23888 0.000000\n"
     ]
    }
   ],
   "source": [
    "tmptk = Tokenizer(filters=\"\", # already applied\n",
    "               lower=True,\n",
    "               split=\" \")\n",
    "tmptk.fit_on_texts(df[\"preproc_text\"].apply(lambda x: x.replace(\"RT <user>\",\"\")))\n",
    "\n",
    "last = None\n",
    "def duplicate(x):\n",
    "    global last\n",
    "    if x == last:\n",
    "        return True\n",
    "    last = x\n",
    "    return False\n",
    "\n",
    "df[\"sequences\"] = tmptk.texts_to_sequences(df[\"preproc_text\"])\n",
    "duplicates = df[\"sequences\"].sort_values().apply(duplicate)\n",
    "duplicates.sort_index(inplace=True)\n",
    "\n",
    "print(\"duplicated tweets: %d/%d %f\" % ( duplicates.sum(), duplicates.shape[0], duplicates.sum()/duplicates.shape[0]) )"
   ]
  },
  {
   "cell_type": "code",
   "execution_count": 37,
   "metadata": {},
   "outputs": [],
   "source": [
    "df = df[~duplicates]\n",
    "\n",
    "del df[\"sequences\"]"
   ]
  },
  {
   "cell_type": "code",
   "execution_count": 38,
   "metadata": {},
   "outputs": [],
   "source": [
    "df.to_hdf(\"../data/preproc/tweets.hd5\",\"tweets\")"
   ]
  },
  {
   "cell_type": "code",
   "execution_count": 39,
   "metadata": {},
   "outputs": [],
   "source": [
    "tk = Tokenizer(filters=\"\", # already applied\n",
    "               lower=True,\n",
    "               split=\" \")\n",
    "tk.fit_on_texts(df[\"preproc_text\"])"
   ]
  },
  {
   "cell_type": "code",
   "execution_count": 40,
   "metadata": {},
   "outputs": [
    {
     "data": {
      "text/plain": [
       "[('<hashtag>', 1),\n",
       " ('<stop>', 2),\n",
       " ('<user>', 3),\n",
       " ('<url>', 4),\n",
       " ('<trunc>', 5),\n",
       " ('rt', 6),\n",
       " ('the', 7),\n",
       " ('#machinelearning', 8),\n",
       " ('to', 9),\n",
       " ('and', 10),\n",
       " ('<number>', 11),\n",
       " ('#ai', 12),\n",
       " ('of', 13),\n",
       " ('in', 14),\n",
       " ('a', 15),\n",
       " ('for', 16),\n",
       " ('is', 17),\n",
       " ('gt', 18),\n",
       " ('learning', 19),\n",
       " ('on', 20)]"
      ]
     },
     "execution_count": 40,
     "metadata": {},
     "output_type": "execute_result"
    }
   ],
   "source": [
    "list( tk.word_index.items() )[:20]"
   ]
  },
  {
   "cell_type": "code",
   "execution_count": 41,
   "metadata": {},
   "outputs": [
    {
     "data": {
      "text/plain": [
       "['<hashtag>',\n",
       " '<stop>',\n",
       " '<user>',\n",
       " '<url>',\n",
       " '<trunc>',\n",
       " 'rt',\n",
       " 'the',\n",
       " '#machinelearning',\n",
       " 'to',\n",
       " 'and',\n",
       " '<number>',\n",
       " '#ai',\n",
       " 'of',\n",
       " 'in',\n",
       " 'a',\n",
       " 'for',\n",
       " 'is',\n",
       " 'gt',\n",
       " 'learning',\n",
       " 'on']"
      ]
     },
     "execution_count": 41,
     "metadata": {},
     "output_type": "execute_result"
    }
   ],
   "source": [
    "list( tk.word_index.keys() )[:20]"
   ]
  },
  {
   "cell_type": "code",
   "execution_count": 42,
   "metadata": {},
   "outputs": [
    {
     "data": {
      "text/plain": [
       "Text(0,0.5,'fraction of words in corpus')"
      ]
     },
     "execution_count": 42,
     "metadata": {},
     "output_type": "execute_result"
    },
    {
     "data": {
      "image/png": "[encoded data removed]",
      "text/plain": [
       "<matplotlib.figure.Figure at 0x7f6f5d2070f0>"
      ]
     },
     "metadata": {},
     "output_type": "display_data"
    }
   ],
   "source": [
    "pdf = np.array(list(map(lambda x: x[1], sorted( tk.word_counts.items(), key=lambda x: x[1], reverse=True)))).astype(np.float)\n",
    "cdf = pdf.cumsum()\n",
    "# pdf //= cdf[-1]\n",
    "cdf /= cdf[-1]\n",
    " \n",
    "plt.plot( pdf[pdf<100],1-cdf[pdf<100] )\n",
    "# plt.plot( cdf[pdf<10] )\n",
    "plt.grid()\n",
    "plt.xlabel(\"# of occurences\")\n",
    "plt.ylabel(\"fraction of words in corpus\")\n"
   ]
  },
  {
   "cell_type": "code",
   "execution_count": 43,
   "metadata": {},
   "outputs": [
    {
     "name": "stdout",
     "output_type": "stream",
     "text": [
      "Fraction of corpus: 0.9.\n",
      "Fraction of dictionary: 2300 / 17831.\n",
      "Max ingored occurence: 13.0 \n"
     ]
    }
   ],
   "source": [
    "threshold = 0.90\n",
    "max_words = int( np.ceil( (cdf>threshold).argmax() / 100) * 100 )\n",
    "\n",
    "print( \"Fraction of corpus: {}.\\nFraction of dictionary: {} / {}.\\nMax ingored occurence: {} \" .format(threshold, max_words, len(tk.word_index), pdf[max_words]) )"
   ]
  },
  {
   "cell_type": "code",
   "execution_count": 44,
   "metadata": {},
   "outputs": [],
   "source": [
    "# max_words = 1700\n",
    "missing,hashtags = utils.get_uknown_words(tk.word_index,emb_dict,max_words)\n"
   ]
  },
  {
   "cell_type": "code",
   "execution_count": 45,
   "metadata": {},
   "outputs": [
    {
     "data": {
      "text/plain": [
       "[('<stop>', 2), ('<trunc>', 5)]"
      ]
     },
     "execution_count": 45,
     "metadata": {},
     "output_type": "execute_result"
    }
   ],
   "source": [
    "list(filter(lambda x: \"<\" in x[0] or \">\" in x[0],missing))\n"
   ]
  },
  {
   "cell_type": "code",
   "execution_count": 46,
   "metadata": {},
   "outputs": [
    {
     "data": {
      "text/plain": [
       "(52, 208, 2300)"
      ]
     },
     "execution_count": 46,
     "metadata": {},
     "output_type": "execute_result"
    }
   ],
   "source": [
    "len(missing), len(hashtags), max_words"
   ]
  },
  {
   "cell_type": "code",
   "execution_count": 47,
   "metadata": {},
   "outputs": [
    {
     "data": {
      "text/plain": [
       "'<><>'"
      ]
     },
     "execution_count": 47,
     "metadata": {},
     "output_type": "execute_result"
    }
   ],
   "source": [
    "import re\n",
    "non_words = map(lambda x: re.sub(\"\\w\",\"\",x[0]), missing)\n",
    "\n",
    "non_words = list(non_words)\n",
    "\n",
    "''.join(non_words).replace(\"#\",\"\")"
   ]
  },
  {
   "cell_type": "code",
   "execution_count": 48,
   "metadata": {},
   "outputs": [
    {
     "data": {
      "text/plain": [
       "[('<stop>', 2),\n",
       " ('<trunc>', 5),\n",
       " ('vanloon', 104),\n",
       " ('mikequindazzi', 183),\n",
       " ('tensorflow', 298),\n",
       " ('neurips', 424),\n",
       " ('machinelearning', 491),\n",
       " ('whova', 566),\n",
       " ('convolutional', 689),\n",
       " ('kirkdborne', 735),\n",
       " ('chatbots', 738),\n",
       " ('poptimize', 767),\n",
       " ('pulipaka', 848),\n",
       " ('chatbot', 961),\n",
       " ('nodexl', 994),\n",
       " ('datasciencectrl', 1099),\n",
       " ('interpretability', 1112),\n",
       " ('kdnuggets', 1157),\n",
       " ('v1', 1263),\n",
       " ('pytorch', 1267)]"
      ]
     },
     "execution_count": 48,
     "metadata": {},
     "output_type": "execute_result"
    }
   ],
   "source": [
    "missing[:20]"
   ]
  },
  {
   "cell_type": "code",
   "execution_count": 49,
   "metadata": {},
   "outputs": [],
   "source": [
    "sequences = tk.texts_to_sequences(df[\"preproc_text\"])"
   ]
  },
  {
   "cell_type": "code",
   "execution_count": 50,
   "metadata": {},
   "outputs": [],
   "source": [
    "id_to_hash = { x[1] : x[0] for x in hashtags }#+missing  }\n",
    "\n",
    "def hashtags_from_seq(seq):   \n",
    "    return filter(lambda y: y is not None, map(lambda x: id_to_hash.get(x,None), seq))\n",
    "        \n",
    "hastags_seqs = map(lambda x: \" \".join(list(hashtags_from_seq(x))), sequences)    \n",
    "\n",
    "with open(\"../data/preproc/hash_corpus.txt\",\"w+\") as co:\n",
    "    co.write( \"\\n\".join(list(filter(lambda x: len(x)>0,hastags_seqs))))"
   ]
  },
  {
   "cell_type": "code",
   "execution_count": null,
   "metadata": {},
   "outputs": [],
   "source": []
  }
 ],
 "metadata": {
  "kernelspec": {
   "display_name": "Python 3",
   "language": "python",
   "name": "python3"
  },
  "language_info": {
   "codemirror_mode": {
    "name": "ipython",
    "version": 3
   },
   "file_extension": ".py",
   "mimetype": "text/x-python",
   "name": "python",
   "nbconvert_exporter": "python",
   "pygments_lexer": "ipython3",
   "version": "3.6.4"
  }
 },
 "nbformat": 4,
 "nbformat_minor": 2
}
