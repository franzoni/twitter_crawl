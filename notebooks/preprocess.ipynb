{
 "cells": [
  {
   "cell_type": "code",
   "execution_count": 2,
   "metadata": {},
   "outputs": [],
   "source": [
    "import sys\n",
    "\n",
    "sys.path.append(\"../python\")"
   ]
  },
  {
   "cell_type": "code",
   "execution_count": 24,
   "metadata": {},
   "outputs": [
    {
     "data": {
      "text/plain": [
       "<module 'utils' from '../python/utils.py'>"
      ]
     },
     "execution_count": 24,
     "metadata": {},
     "output_type": "execute_result"
    }
   ],
   "source": [
    "import utils\n",
    "reload(utils)"
   ]
  },
  {
   "cell_type": "code",
   "execution_count": 25,
   "metadata": {},
   "outputs": [],
   "source": [
    "emb_dict = utils.load_glove_embedding(utils.glove_embedding_path(25))"
   ]
  },
  {
   "cell_type": "code",
   "execution_count": 26,
   "metadata": {},
   "outputs": [
    {
     "name": "stdout",
     "output_type": "stream",
     "text": [
      "Error reading ../data/raw/tweet_72950.txt: Expecting value: line 1 column 1 (char 0)\n"
     ]
    },
    {
     "data": {
      "text/plain": [
       "Index(['id', 'lang', 'retweet_count', 'retweeted', 'text', 'truncated',\n",
       "       'user/name'],\n",
       "      dtype='object')"
      ]
     },
     "execution_count": 26,
     "metadata": {},
     "output_type": "execute_result"
    }
   ],
   "source": [
    "df = utils.load_all_tweets(\"../data/raw\")\n",
    "\n",
    "df.columns"
   ]
  },
  {
   "cell_type": "code",
   "execution_count": 57,
   "metadata": {},
   "outputs": [],
   "source": [
    "non_words  = '🤖👌➡️➡️👉🤖🎓🌐🚀💻\\u2066😎\\xa0👩\\u200d🏫🎬💻🤖🌐🎓🚀\\u2069™✨\\U0001f9e0\\u200b💪😍🤓🎉🚀🚀👋🔹👉👉✍🏽🌟✨🏆🎉👾😃✅'\n",
    "non_words += '🌐☞☞😷\\xa0\\xa0\\xa0👇😁😁😁👏——🔗📽️⚡️⚡️👍——🙏🏻🙌🏼❤️🚀🤓☞\\xa0🍷👉🖥️💡🔸👏👏👏✌😉☞💵☺️🤜🤛💪🇬🇧🇨🇦🚀🎥😬👌🏼🍸🇬🇷💙☞\\xa0😳👊👏📸▶️🎊'\n",
    "non_words += '✨📊📉🌱💙📺😇\\xa0—👁📊☞👉🏽🚀🌳👩🏽\\u200d🏫🌊👨🏻\\u200d🌾📚✏️💕\\U0001f970🙋'\n",
    "non_words += '🏻\\u200d♂️🙌🏼👍🏼#\\U0001f9fb💪➱➱–📝👊🏻🤷🏽\\u200d♂️🍁✍️🤖\\U0001f928📊📈✨🌟🏆🎉️⃣️⃣✔🔝《⚡⏱✈️🤔\\U0001f928🤔¡⠀👉'\n",
    "non_words += '\\u2063\\u2063\\u2063\\u2063☞–💻🤔☞🇯🇵🇮🇳👏🏽–🎉❤️🎓🏛️🤔✈️👉\\u200a—\\u200a✒️\\xa0😍😬🌐😊😁😍👀☞❤️\\U0001f929✨🔑🤖🤖🎓🏡🤝📽😎🚨🚨🤖🚖—》💥💥🔥🏙🔥'\n",
    "non_words += '🔲´🖼😂😏💚💜💜🌍😲📒📋🥇👑💎\\u3000📣🕴🚚💰🦈🙂💧🍅🍎🍐🍊🥑🍉🍇🏎📖💯💯🤣🐵📣🔖\\U0001f9fe📑\\xad\\xad😆🎡📢📷💁😮😲😂😂😂😀🎂🥗🎙⚽„😭😭😭😭💃💫'\n",
    "non_words += '😧⤵🍳🔟<>🔬<>€<><><>🏾\\U0001f92f\\x9d<><>\\U0001f973‑'\n",
    "non_words = non_words.replace(\"#\",\"\").replace(\"&\",\"\").replace(\"<\",\"\").replace(\">\",\"\")\n",
    "\n",
    "pre_filters = non_words\n",
    "post_filters='!\"“”‘’’’’$%&()*+,-./:;=?@[\\\\]^_`{|}~…\\t\\n'\n",
    "\n",
    "df[\"preproc_text\"] = df[\"text\"].apply(lambda x: utils.cleanup_text(x,pre_filters=pre_filters,post_filters=post_filters) )"
   ]
  },
  {
   "cell_type": "code",
   "execution_count": 58,
   "metadata": {},
   "outputs": [
    {
     "data": {
      "text/plain": [
       "[['What are the #MachineLearning use cases for #Federal.  #CyberSecurity #InsiderThreat #Fraud #CounterTerrorism… https://t.co/VCYR2Ipz28',\n",
       "  'What are the <hashtag> #machinelearning use cases for <hashtag> #federal <hashtag> #cybersecurity <hashtag> #insiderthreat <hashtag> #fraud <url> <stop>',\n",
       "  True],\n",
       " ['RT @mvollmer1: Digitalist Flash Briefing: #Blockchain: Farm To Consumer Is A Journey Of Trust https://t.co/xuCXqQkbiU\\n#procurement #SupplyC…',\n",
       "  'RT <user> Digitalist Flash Briefing <hashtag> #blockchain Farm To Consumer Is A Journey Of Trust <url> <hashtag> #procurement  <stop>',\n",
       "  False],\n",
       " ['Element AI is looking for Research Engineer - Robotics  at #neurips2018. Check the Whova app for more details. https://t.co/VZVHTRVN4U',\n",
       "  'Element AI is looking for Research Engineer Robotics at <hashtag> #neurips2018 Check the Whova app for more details <url> <stop>',\n",
       "  False],\n",
       " ['@CriteoAILab Grenoble at #NeurIPS2018 in @MTLINTL #MontrealLove https://t.co/6uLPVlLqnT',\n",
       "  '<user> Grenoble at <hashtag> #neurips2018 in <user> <hashtag> #montreallove <url> <stop>',\n",
       "  False],\n",
       " ['RT @silicontalent: The rise of #robots might make coffee obsolete, according to RBC analysts. #AI #MachineLearning #BigData #Analytics #Aut…',\n",
       "  'RT <user> The rise of <hashtag> #robots might make coffee obsolete according to RBC analysts <hashtag> #ai <hashtag> #machinelearning <hashtag> #bigdata <hashtag> #analytics  <stop>',\n",
       "  False],\n",
       " ['Speechmatics takes language accuracy to the next level. #MachineLearning innovation leads to Next Generation langua… https://t.co/r70JrGYtwU',\n",
       "  'Speechmatics takes language accuracy to the next level <hashtag> #machinelearning innovation leads to Next Generation <url> <stop>',\n",
       "  True],\n",
       " ['How do you recreate an old dashboard to work in the 7x version of Splunk?\\nhttps://t.co/nWFYsixgCg\\n#splunk #MachineLearning',\n",
       "  'How do you recreate an old dashboard to work in the <number> x version of Splunk <url> <hashtag> #splunk <hashtag> #machinelearning <stop>',\n",
       "  False],\n",
       " ['Learn Batman from Scratch (Advance Hadoop + Unix Commands) https://t.co/9ImnCC3Alh #MachineLearning #DataScience #ad',\n",
       "  'Learn Batman from Scratch Advance Hadoop Unix Commands <url> <hashtag> #machinelearning <hashtag> #datascience <hashtag> #ad <stop>',\n",
       "  False],\n",
       " ['#INDIA #STARTUP:Investments in #deeptech start-ups, such as those driven by #artificialintelligence (#AI),… https://t.co/wCHVboEGgn',\n",
       "  ' <hashtag> #india <hashtag> #startup Investments in <hashtag> #deeptech start ups such as those driven by <hashtag> #artificialintelligence <url> <stop>',\n",
       "  True],\n",
       " ['Image recognition refers to the ability of software to identify people, objects or actions in images - all this don… https://t.co/FKSKKpUUry',\n",
       "  'Image recognition refers to the ability of software to identify people objects or actions in images all this <url> <stop>',\n",
       "  True],\n",
       " ['Survey of trends in artificial intelligence finds advances in working with human languages, global reach… https://t.co/P6mJa7skYM',\n",
       "  'Survey of trends in artificial intelligence finds advances in working with human languages global <url> <stop>',\n",
       "  True],\n",
       " ['RT @Reactionpower: Did you know that YouTube is the world’s most popular video sharing website, and the second most-popular search... https…',\n",
       "  'RT <user> Did you know that YouTube is the world s most popular video sharing website and the second most popular search <repeat>  <stop>',\n",
       "  False],\n",
       " ['RT @VladoBotsvadze: These are the skills you will need to outsmart the robot overlords in the workplace: \\n\\n1. Complex problem solving \\n2. C…',\n",
       "  'RT <user> These are the skills you will need to outsmart the robot overlords in the workplace <number> Complex problem solving <number>  <stop>',\n",
       "  False],\n",
       " ['\"It’s difficult to write this in a job description let alone actually find it.\" Related: why does the European term… https://t.co/hrZuzu9Zg1',\n",
       "  ' It iss difficult to write this in a job description let alone actually find it Related why does the European <url> <stop>',\n",
       "  True],\n",
       " ['RT Ronald_vanLoon \"5 Ways You Use #Quantum #Technology Every Day [#INFOGRAPHICS] \\n by DominicWalliman |… https://t.co/YYlfWSD4qk',\n",
       "  'RT Ronald vanLoon <number> Ways You Use <hashtag> #quantum <hashtag> #technology Every Day <hashtag> #infographics by DominicWalliman <url> <stop>',\n",
       "  True],\n",
       " ['Monitoring beehive activities through the sounds of the hive #MachineLearning https://t.co/zXDb59TFBb',\n",
       "  'Monitoring beehive activities through the sounds of the hive <hashtag> #machinelearning <url> <stop>',\n",
       "  False],\n",
       " ['RT @vedransekara: Want to know what @UNICEFinnovate  is doing in the space of AI?\\n\\nCome by the AI 4 Social Good workshop at @NipsConference…',\n",
       "  'RT <user> Want to know what <user> is doing in the space of AI Come by the AI <number> Social Good workshop at  <stop>',\n",
       "  False],\n",
       " ['RT @techjunkiejh: #DataMining  Vs #ArtificialIntelligence  Vs #MachineLearning : The Similarities and Differences https://t.co/ykUO4dGP4v #…',\n",
       "  'RT <user> <hashtag> #datamining Vs <hashtag> #artificialintelligence Vs <hashtag> #machinelearning The Similarities and Differences <url>  <stop>',\n",
       "  False],\n",
       " ['The latest The AvatarNemo Daily! https://t.co/nkxtLRFLKA Thanks to @ABPolitical @Couponmamacita @IliyanYurukov #ai #machinelearning',\n",
       "  'The latest The AvatarNemo Daily <url> Thanks to <user> <user> <user> <hashtag> #ai <hashtag> #machinelearning <stop>',\n",
       "  False],\n",
       " ['This tweet, \"RT WorldTrendsInfo: #Infographic 👌: What are the #BigData 8 V\\'s? via Fisher85M \\n#MachineLearning… https://t.co/m7ga9LOfR2',\n",
       "  'This tweet RT WorldTrendsInfo <hashtag> #infographic What are the <hashtag> #bigdata <number> V s via Fisher85M <url> <stop>',\n",
       "  True]]"
      ]
     },
     "execution_count": 58,
     "metadata": {},
     "output_type": "execute_result"
    }
   ],
   "source": [
    "df[[\"text\",\"preproc_text\"# ,\"user/name\"\n",
    "    ,\"truncated\"\n",
    "   ]].sample(20).values.tolist()"
   ]
  },
  {
   "cell_type": "code",
   "execution_count": 59,
   "metadata": {},
   "outputs": [],
   "source": [
    "from keras.preprocessing.text import Tokenizer"
   ]
  },
  {
   "cell_type": "code",
   "execution_count": 60,
   "metadata": {},
   "outputs": [
    {
     "name": "stdout",
     "output_type": "stream",
     "text": [
      "duplicated tweets: 1/28162 0.000036\n"
     ]
    }
   ],
   "source": [
    "tmptk = Tokenizer(filters=\"\", # already applied\n",
    "               lower=True,\n",
    "               split=\" \")\n",
    "tmptk.fit_on_texts(df[\"preproc_text\"].apply(lambda x: x.replace(\"RT <user>\",\"\")))\n",
    "\n",
    "last = None\n",
    "def duplicate(x):\n",
    "    global last\n",
    "    if x == last:\n",
    "        return True\n",
    "    last = x\n",
    "    return False\n",
    "\n",
    "df[\"sequences\"] = tmptk.texts_to_sequences(df[\"preproc_text\"])\n",
    "duplicates = df[\"sequences\"].sort_values().apply(duplicate)\n",
    "duplicates.sort_index(inplace=True)\n",
    "\n",
    "print(\"duplicated tweets: %d/%d %f\" % ( duplicates.sum(), duplicates.shape[0], duplicates.sum()/duplicates.shape[0]) )"
   ]
  },
  {
   "cell_type": "code",
   "execution_count": 61,
   "metadata": {},
   "outputs": [],
   "source": [
    "df = df[~duplicates]\n",
    "\n",
    "del df[\"sequences\"]"
   ]
  },
  {
   "cell_type": "code",
   "execution_count": 62,
   "metadata": {},
   "outputs": [],
   "source": [
    "df.to_hdf(\"../data/preproc/tweets.hd5\",\"tweets\")"
   ]
  },
  {
   "cell_type": "code",
   "execution_count": 63,
   "metadata": {},
   "outputs": [],
   "source": [
    "tk = Tokenizer(filters=\"\", # already applied\n",
    "               lower=True,\n",
    "               split=\" \")\n",
    "tk.fit_on_texts(df[\"preproc_text\"])"
   ]
  },
  {
   "cell_type": "code",
   "execution_count": 64,
   "metadata": {},
   "outputs": [
    {
     "data": {
      "text/plain": [
       "[('<hashtag>', 1),\n",
       " ('<stop>', 2),\n",
       " ('<user>', 3),\n",
       " ('<url>', 4),\n",
       " ('rt', 5),\n",
       " ('the', 6),\n",
       " ('#machinelearning', 7),\n",
       " ('to', 8),\n",
       " ('and', 9),\n",
       " ('<number>', 10),\n",
       " ('#ai', 11),\n",
       " ('of', 12),\n",
       " ('in', 13),\n",
       " ('a', 14),\n",
       " ('for', 15),\n",
       " ('is', 16),\n",
       " ('learning', 17),\n",
       " ('gt', 18),\n",
       " ('on', 19),\n",
       " ('with', 20)]"
      ]
     },
     "execution_count": 64,
     "metadata": {},
     "output_type": "execute_result"
    }
   ],
   "source": [
    "list( tk.word_index.items() )[:20]"
   ]
  },
  {
   "cell_type": "code",
   "execution_count": 65,
   "metadata": {},
   "outputs": [
    {
     "data": {
      "text/plain": [
       "['<hashtag>',\n",
       " '<stop>',\n",
       " '<user>',\n",
       " '<url>',\n",
       " 'rt',\n",
       " 'the',\n",
       " '#machinelearning',\n",
       " 'to',\n",
       " 'and',\n",
       " '<number>',\n",
       " '#ai',\n",
       " 'of',\n",
       " 'in',\n",
       " 'a',\n",
       " 'for',\n",
       " 'is',\n",
       " 'learning',\n",
       " 'gt',\n",
       " 'on',\n",
       " 'with']"
      ]
     },
     "execution_count": 65,
     "metadata": {},
     "output_type": "execute_result"
    }
   ],
   "source": [
    "list( tk.word_index.keys() )[:20]"
   ]
  },
  {
   "cell_type": "code",
   "execution_count": 66,
   "metadata": {},
   "outputs": [
    {
     "data": {
      "text/plain": [
       "Text(0,0.5,'fraction of words in corpus')"
      ]
     },
     "execution_count": 66,
     "metadata": {},
     "output_type": "execute_result"
    },
    {
     "data": {
      "image/png": "[encoded data removed]",
      "text/plain": [
       "<matplotlib.figure.Figure at 0x7fd28bee1e48>"
      ]
     },
     "metadata": {},
     "output_type": "display_data"
    }
   ],
   "source": [
    "pdf = np.array(list(map(lambda x: x[1], sorted( tk.word_counts.items(), key=lambda x: x[1], reverse=True)))).astype(np.float)\n",
    "cdf = pdf.cumsum()\n",
    "# pdf //= cdf[-1]\n",
    "cdf /= cdf[-1]\n",
    " \n",
    "plt.plot( pdf[pdf<100],1-cdf[pdf<100] )\n",
    "# plt.plot( cdf[pdf<10] )\n",
    "plt.grid()\n",
    "plt.xlabel(\"# of occurences\")\n",
    "plt.ylabel(\"fraction of words in corpus\")\n"
   ]
  },
  {
   "cell_type": "code",
   "execution_count": 67,
   "metadata": {},
   "outputs": [
    {
     "name": "stdout",
     "output_type": "stream",
     "text": [
      "Fraction of corpus: 0.9.\n",
      "Fraction of dictionary: 2400 / 19520.\n",
      "Max ingored occurence: 15.0 \n"
     ]
    }
   ],
   "source": [
    "threshold = 0.90\n",
    "max_words = int( np.ceil( (cdf>threshold).argmax() / 100) * 100 )\n",
    "\n",
    "print( \"Fraction of corpus: {}.\\nFraction of dictionary: {} / {}.\\nMax ingored occurence: {} \" .format(threshold, max_words, len(tk.word_index), pdf[max_words]) )"
   ]
  },
  {
   "cell_type": "code",
   "execution_count": 68,
   "metadata": {},
   "outputs": [],
   "source": [
    "# max_words = 1700\n",
    "missing,hashtags = utils.get_uknown_words(tk.word_index,emb_dict,max_words)\n"
   ]
  },
  {
   "cell_type": "code",
   "execution_count": 69,
   "metadata": {},
   "outputs": [
    {
     "data": {
      "text/plain": [
       "[('<stop>', 2)]"
      ]
     },
     "execution_count": 69,
     "metadata": {},
     "output_type": "execute_result"
    }
   ],
   "source": [
    "list(filter(lambda x: \"<\" in x[0] or \">\" in x[0],missing))\n"
   ]
  },
  {
   "cell_type": "code",
   "execution_count": 70,
   "metadata": {},
   "outputs": [
    {
     "data": {
      "text/plain": [
       "(57, 219, 2400)"
      ]
     },
     "execution_count": 70,
     "metadata": {},
     "output_type": "execute_result"
    }
   ],
   "source": [
    "len(missing), len(hashtags), max_words"
   ]
  },
  {
   "cell_type": "code",
   "execution_count": 71,
   "metadata": {},
   "outputs": [
    {
     "data": {
      "text/plain": [
       "'<>'"
      ]
     },
     "execution_count": 71,
     "metadata": {},
     "output_type": "execute_result"
    }
   ],
   "source": [
    "import re\n",
    "non_words = map(lambda x: re.sub(\"\\w\",\"\",x[0]), missing)\n",
    "\n",
    "non_words = list(non_words)\n",
    "\n",
    "''.join(non_words).replace(\"#\",\"\")"
   ]
  },
  {
   "cell_type": "code",
   "execution_count": 72,
   "metadata": {},
   "outputs": [
    {
     "data": {
      "text/plain": [
       "[('<stop>', 2),\n",
       " ('vanloon', 99),\n",
       " ('mikequindazzi', 181),\n",
       " ('tensorflow', 290),\n",
       " ('neurips', 466),\n",
       " ('machinelearning', 508),\n",
       " ('kirkdborne', 634),\n",
       " ('whova', 660),\n",
       " ('convolutional', 670),\n",
       " ('chatbots', 704),\n",
       " ('poptimize', 757),\n",
       " ('pulipaka', 777),\n",
       " ('chatbot', 793),\n",
       " ('kdnuggets', 964),\n",
       " ('fisher85m', 1068),\n",
       " ('nodexl', 1137),\n",
       " ('datasciencectrl', 1217),\n",
       " ('interpretability', 1228),\n",
       " ('daysofmlcode', 1262),\n",
       " ('v1', 1310)]"
      ]
     },
     "execution_count": 72,
     "metadata": {},
     "output_type": "execute_result"
    }
   ],
   "source": [
    "missing[:20]"
   ]
  },
  {
   "cell_type": "code",
   "execution_count": 73,
   "metadata": {},
   "outputs": [],
   "source": [
    "sequences = tk.texts_to_sequences(df[\"preproc_text\"])"
   ]
  },
  {
   "cell_type": "code",
   "execution_count": 74,
   "metadata": {},
   "outputs": [],
   "source": [
    "id_to_hash = { x[1] : x[0] for x in hashtags }#+missing  }\n",
    "\n",
    "def hashtags_from_seq(seq):   \n",
    "    return filter(lambda y: y is not None, map(lambda x: id_to_hash.get(x,None), seq))\n",
    "        \n",
    "hastags_seqs = map(lambda x: \" \".join(list(hashtags_from_seq(x))), sequences)    \n",
    "\n",
    "with open(\"../data/preproc/hash_corpus.txt\",\"w+\") as co:\n",
    "    co.write( \"\\n\".join(list(filter(lambda x: len(x)>0,hastags_seqs))))"
   ]
  },
  {
   "cell_type": "code",
   "execution_count": null,
   "metadata": {},
   "outputs": [],
   "source": []
  }
 ],
 "metadata": {
  "kernelspec": {
   "display_name": "Python 3",
   "language": "python",
   "name": "python3"
  },
  "language_info": {
   "codemirror_mode": {
    "name": "ipython",
    "version": 3
   },
   "file_extension": ".py",
   "mimetype": "text/x-python",
   "name": "python",
   "nbconvert_exporter": "python",
   "pygments_lexer": "ipython3",
   "version": "3.6.4"
  }
 },
 "nbformat": 4,
 "nbformat_minor": 2
}
