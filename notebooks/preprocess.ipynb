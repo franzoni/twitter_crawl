{
 "cells": [
  {
   "cell_type": "code",
   "execution_count": 24,
   "metadata": {},
   "outputs": [],
   "source": [
    "import sys\n",
    "\n",
    "sys.path.append(\"../python\")"
   ]
  },
  {
   "cell_type": "code",
   "execution_count": 25,
   "metadata": {},
   "outputs": [
    {
     "data": {
      "text/plain": [
       "<module 'utils' from '../python/utils.py'>"
      ]
     },
     "execution_count": 25,
     "metadata": {},
     "output_type": "execute_result"
    }
   ],
   "source": [
    "import utils\n",
    "reload(utils)"
   ]
  },
  {
   "cell_type": "code",
   "execution_count": 26,
   "metadata": {},
   "outputs": [],
   "source": [
    "emb_dict = utils.load_glove_embedding(utils.glove_embedding_path(25))"
   ]
  },
  {
   "cell_type": "code",
   "execution_count": 27,
   "metadata": {},
   "outputs": [
    {
     "data": {
      "text/plain": [
       "Index(['id', 'lang', 'retweet_count', 'retweeted', 'text', 'truncated',\n",
       "       'user/name'],\n",
       "      dtype='object')"
      ]
     },
     "execution_count": 27,
     "metadata": {},
     "output_type": "execute_result"
    }
   ],
   "source": [
    "df = utils.load_all_tweets(\"../data/raw\")\n",
    "\n",
    "df.columns"
   ]
  },
  {
   "cell_type": "code",
   "execution_count": 28,
   "metadata": {},
   "outputs": [],
   "source": [
    "non_words  = '🤖👌➡️➡️👉🤖🎓🌐🚀💻\\u2066😎\\xa0👩\\u200d🏫🎬💻🤖🌐🎓🚀\\u2069™✨\\U0001f9e0\\u200b💪😍🤓🎉🚀🚀👋🔹👉👉✍🏽🌟✨🏆🎉👾😃✅'\n",
    "non_words += '🌐☞☞😷\\xa0\\xa0\\xa0👇😁😁😁👏——🔗📽️⚡️⚡️👍——🙏🏻🙌🏼❤️🚀🤓☞\\xa0🍷👉🖥️💡🔸👏👏👏✌😉☞💵☺️🤜🤛💪🇬🇧🇨🇦🚀🎥😬👌🏼🍸🇬🇷💙☞\\xa0😳👊👏📸▶️🎊'\n",
    "non_words += '✨📊📉🌱💙📺😇\\xa0—👁📊☞👉🏽🚀🌳👩🏽\\u200d🏫🌊👨🏻\\u200d🌾📚✏️💕\\U0001f970🙋'\n",
    "non_words += '🏻\\u200d♂️🙌🏼👍🏼#\\U0001f9fb💪➱➱–📝👊🏻🤷🏽\\u200d♂️🍁✍️🤖\\U0001f928📊📈✨🌟🏆🎉️⃣️⃣✔🔝《⚡⏱✈️🤔\\U0001f928🤔¡⠀👉'\n",
    "non_words += '\\u2063\\u2063\\u2063\\u2063☞–💻🤔☞🇯🇵🇮🇳👏🏽–🎉❤️🎓🏛️🤔✈️👉\\u200a—\\u200a✒️\\xa0😍😬🌐😊😁😍👀☞❤️\\U0001f929✨🔑🤖🤖🎓🏡🤝📽😎🚨🚨🤖🚖—》💥💥🔥🏙🔥'\n",
    "non_words += '🔲´🖼😂😏💚💜💜🌍😲📒📋🥇👑💎\\u3000📣🕴🚚💰🦈🙂💧🍅🍎🍐🍊🥑🍉🍇🏎📖💯💯🤣🐵📣🔖\\U0001f9fe📑\\xad\\xad😆🎡📢📷💁😮😲😂😂😂😀🎂🥗🎙⚽„😭😭😭😭💃💫'\n",
    "non_words += '😧⤵🍳🔟'\n",
    "non_words = non_words.replace(\"#\",\"\").replace(\"&\",\"\")\n",
    "\n",
    "pre_filters = non_words\n",
    "post_filters='!\"“”‘$%&()*+,-./:;=?@[\\\\]^_`{|}~…\\t\\n'\n",
    "\n",
    "df[\"preproc_text\"] = df[\"text\"].apply(lambda x: utils.cleanup_text(x,pre_filters=pre_filters,post_filters=post_filters) )"
   ]
  },
  {
   "cell_type": "code",
   "execution_count": 29,
   "metadata": {},
   "outputs": [
    {
     "data": {
      "text/plain": [
       "[['RT @IBMDb2: Use #IBM #Watson Machine Learning and Watson Studio to quickly build and prototype #machinelearning models: https://t.co/0E5ucj…',\n",
       "  'RT <user> Use <hashtag> #ibm <hashtag> #watson Machine Learning and Watson Studio to quickly build and prototype <hashtag> #machinelearning models <trunc> <stop>',\n",
       "  False],\n",
       " ['We need rigorous #5G testing before we get in the #driverless car\\n https://t.co/iz3kNaNYsN\\n#autonomous #SmartCity… https://t.co/qAjI9m1659',\n",
       "  'We need rigorous #<number> G testing before we get in the <hashtag> #driverless car <url> <hashtag> #autonomous <trunc> <url> <stop>',\n",
       "  True],\n",
       " [\"RT @bigdataconf: https://t.co/faPBwsew3a Raises $11M to Decode the World's Unstructured Data https://t.co/yVD1tu75Fz #ArtificialIntelligenc…\",\n",
       "  'RT <user> <url> Raises <number> M to Decode the World s Unstructured Data <url> <trunc> <stop>',\n",
       "  False],\n",
       " ['RT @jackcoleman219: #Robots + #IIoT expediting competitive advantage with #advancedmanufacturing &gt;&gt;&gt; @raconteur via @MikeQuindazzi &gt;&gt;&gt; #IoT…',\n",
       "  'RT <user> <hashtag> #robots <hashtag> #iiot expediting competitive advantage with <hashtag> #advancedmanufacturing gt gt gt <user> via <user> gt gt gt <trunc> <stop>',\n",
       "  False],\n",
       " ['RT @machinelearnflx: Introduction to Internet of Things https://t.co/kRDQohocPH  #MachineLearning #DataScience #ad',\n",
       "  'RT <user> Introduction to Internet of Things <url> <hashtag> #machinelearning <hashtag> #datascience <hashtag> #ad <stop>',\n",
       "  False],\n",
       " ['RT @ADASEgroup: @oseledetsivan and @burnaevevgeny  PhDs @Maremun and @yeahrmek presenting the poster for the #NeurIPS2018 spotlight on Qadr…',\n",
       "  'RT <user> <user> and <user> PhDs <user> and <user> presenting the poster for the <hashtag> #neurips2018 spotlight on <trunc> <stop>',\n",
       "  False],\n",
       " ['The latest Think Edge iNews! https://t.co/A5oJWdfT21 Thanks to @nickialanoche @nuclearban #machinelearning #ai',\n",
       "  'The latest Think Edge iNews <url> Thanks to <user> <user> <hashtag> #machinelearning <hashtag> #ai <stop>',\n",
       "  False],\n",
       " ['RT @cloudpreacher: Evolution of Artificial Intelligence!\\n\\nhttps://t.co/0SYCMuWPqn\\n\\n#artificialintelligence #AI #MachineLearning  #ML #DL #D…',\n",
       "  'RT <user> Evolution of Artificial Intelligence <url> <hashtag> #artificialintelligence <hashtag> #ai <hashtag> #machinelearning <hashtag> #ml <hashtag> #dl <trunc> <stop>',\n",
       "  False],\n",
       " ['Google wants to use AI to deliver personalized news to your smart speaker https://t.co/tTXTnDn6qQ\\n\\n#AI… https://t.co/zCeSEjGBGM',\n",
       "  'Google wants to use AI to deliver personalized news to your smart speaker <trunc> <url> <stop>',\n",
       "  True],\n",
       " ['10 Machine Learning, Data Science, and Deep Learning Courses for Programmers - https://t.co/FizzA0lVcv\\n-… https://t.co/Fp97rwrY3S',\n",
       "  ' <number> Machine Learning Data Science and Deep Learning Courses for Programmers <trunc> <url> <stop>',\n",
       "  True],\n",
       " ['RT @BristowColin: Big data: The devil is in the details - Greenhouse Canada\\nRead more here: https://t.co/nPXqh4042Q\\n\\n#BigData #DataScience…',\n",
       "  'RT <user> Big data The devil is in the details Greenhouse Canada Read more here <url> <hashtag> #bigdata <trunc> <stop>',\n",
       "  False],\n",
       " ['RT @balajiln: Slides for my talk on \"Probabilistic model ensembles for predictive uncertainty estimation\" at the Bayesian deep learning wor…',\n",
       "  'RT <user> Slides for my talk on Probabilistic model ensembles for predictive uncertainty estimation at the Bayesian deep learning <trunc> <stop>',\n",
       "  False],\n",
       " ['RT @mvollmer1: RT @Fabriziobustama Dr Ola Engkvist, AstraZeneca, explains how the drug discovery process benefits from artificial intellige…',\n",
       "  'RT <user> RT <user> Dr Ola Engkvist AstraZeneca explains how the drug discovery process benefits from artificial <trunc> <stop>',\n",
       "  False],\n",
       " ['RT @Ronald_vanLoon: This is Yape, self-driving delivery #robot that uses #facialrecognition to unlock\\nvia @futurism |\\n \\n#AI #MachineLearnin…',\n",
       "  'RT <user> This is Yape self driving delivery <hashtag> #robot that uses <hashtag> #facialrecognition to unlock via <user> <hashtag> #ai <trunc> <stop>',\n",
       "  False],\n",
       " ['RT @GoogleAI: Come by the #NeurIPS2018 Google booth now to learn about a @TensorFlow-based reinforcement learning framework with @pcastr. I…',\n",
       "  'RT <user> Come by the <hashtag> #neurips2018 Google booth now to learn about a <user> based reinforcement learning framework with <user> <trunc> <stop>',\n",
       "  False],\n",
       " [\"About to spend an evening cranking out more #PhD work, but figured it'd be a good reflect on my impressions so far… https://t.co/N0U7sQdavX\",\n",
       "  'About to spend an evening cranking out more <hashtag> #phd work but figured it would be a good reflect on my impressions so <trunc> <url> <stop>',\n",
       "  True],\n",
       " ['12 Facts you need to know about #IoT and its usage and implications #Infographic #IIoT #CyberSecurity #BigData… https://t.co/tPxoDWfKIj',\n",
       "  ' <number> Facts you need to know about <hashtag> #iot and its usage and implications <hashtag> #infographic <hashtag> #iiot <hashtag> #cybersecurity <trunc> <url> <stop>',\n",
       "  True],\n",
       " ['RT @GullFerrara: RT @IainLJBrown: 5 Artificial Intelligence Trends To Watch Out For In 2019 - Forbes\\n\\nRead more her… https://t.co/SPnu27YQ8X',\n",
       "  'RT <user> RT <user> <number> Artificial Intelligence Trends To Watch Out For In <number> Forbes Read more <trunc> <url> <stop>',\n",
       "  True],\n",
       " [\"RT @daoteajing: I've been considering picking up TensorFlow for a while, but now that there's Keras integration? I'm so sold. https://t.co/…\",\n",
       "  'RT <user> I have been considering picking up TensorFlow for a while but now that there iss Keras integration I am so sold <trunc> <stop>',\n",
       "  False],\n",
       " ['RT @_LXAI: Watch our livestream from the first ever #LatinXinAI Research workshop at #NeurIPS2018!\\n\\n@InclusioninML @NipsConference  #AI #Ar…',\n",
       "  'RT <user> Watch our livestream from the first ever <hashtag> #latinxinai Research workshop at <hashtag> #neurips2018 <user> <user> <hashtag> #ai <trunc> <stop>',\n",
       "  False]]"
      ]
     },
     "execution_count": 29,
     "metadata": {},
     "output_type": "execute_result"
    }
   ],
   "source": [
    "df[[\"text\",\"preproc_text\"# ,\"user/name\"\n",
    "    ,\"truncated\"\n",
    "   ]].sample(20).values.tolist()"
   ]
  },
  {
   "cell_type": "code",
   "execution_count": 30,
   "metadata": {},
   "outputs": [],
   "source": [
    "df.to_hdf(\"../data/preproc/tweets.hd5\",\"tweets\")"
   ]
  },
  {
   "cell_type": "code",
   "execution_count": 31,
   "metadata": {},
   "outputs": [],
   "source": [
    "from keras.preprocessing.text import Tokenizer"
   ]
  },
  {
   "cell_type": "code",
   "execution_count": 32,
   "metadata": {},
   "outputs": [],
   "source": [
    "tk = Tokenizer(filters=\"\", # already applied\n",
    "               lower=True,\n",
    "               split=\" \")\n",
    "tk.fit_on_texts(df[\"preproc_text\"])"
   ]
  },
  {
   "cell_type": "code",
   "execution_count": 33,
   "metadata": {},
   "outputs": [
    {
     "data": {
      "text/plain": [
       "[('<hashtag>', 1),\n",
       " ('<user>', 2),\n",
       " ('<stop>', 3),\n",
       " ('<trunc>', 4),\n",
       " ('rt', 5),\n",
       " ('<url>', 6),\n",
       " ('the', 7),\n",
       " ('to', 8),\n",
       " ('#machinelearning', 9),\n",
       " ('#ai', 10),\n",
       " ('<number>', 11),\n",
       " ('gt', 12),\n",
       " ('and', 13),\n",
       " ('of', 14),\n",
       " ('in', 15),\n",
       " ('for', 16),\n",
       " ('a', 17),\n",
       " ('is', 18),\n",
       " ('learning', 19),\n",
       " ('on', 20)]"
      ]
     },
     "execution_count": 33,
     "metadata": {},
     "output_type": "execute_result"
    }
   ],
   "source": [
    "list( tk.word_index.items() )[:20]"
   ]
  },
  {
   "cell_type": "code",
   "execution_count": 34,
   "metadata": {},
   "outputs": [
    {
     "data": {
      "text/plain": [
       "['<hashtag>',\n",
       " '<user>',\n",
       " '<stop>',\n",
       " '<trunc>',\n",
       " 'rt',\n",
       " '<url>',\n",
       " 'the',\n",
       " 'to',\n",
       " '#machinelearning',\n",
       " '#ai',\n",
       " '<number>',\n",
       " 'gt',\n",
       " 'and',\n",
       " 'of',\n",
       " 'in',\n",
       " 'for',\n",
       " 'a',\n",
       " 'is',\n",
       " 'learning',\n",
       " 'on']"
      ]
     },
     "execution_count": 34,
     "metadata": {},
     "output_type": "execute_result"
    }
   ],
   "source": [
    "list( tk.word_index.keys() )[:20]"
   ]
  },
  {
   "cell_type": "code",
   "execution_count": 35,
   "metadata": {},
   "outputs": [
    {
     "data": {
      "text/plain": [
       "Text(0,0.5,'fraction of words in corpus')"
      ]
     },
     "execution_count": 35,
     "metadata": {},
     "output_type": "execute_result"
    },
    {
     "data": {
      "image/png": "[encoded data removed]",
      "text/plain": [
       "<matplotlib.figure.Figure at 0x7fb973429898>"
      ]
     },
     "metadata": {},
     "output_type": "display_data"
    }
   ],
   "source": [
    "pdf = np.array(list(map(lambda x: x[1], sorted( tk.word_counts.items(), key=lambda x: x[1], reverse=True)))).astype(np.float)\n",
    "cdf = pdf.cumsum()\n",
    "# pdf //= cdf[-1]\n",
    "cdf /= cdf[-1]\n",
    " \n",
    "plt.plot( pdf[pdf<100],1-cdf[pdf<100] )\n",
    "# plt.plot( cdf[pdf<10] )\n",
    "plt.grid()\n",
    "plt.xlabel(\"# of occurences\")\n",
    "plt.ylabel(\"fraction of words in corpus\")\n"
   ]
  },
  {
   "cell_type": "code",
   "execution_count": 55,
   "metadata": {},
   "outputs": [
    {
     "name": "stdout",
     "output_type": "stream",
     "text": [
      "Fraction of corpus: 0.9.\n",
      "Fraction of dictionary: 1600 / 16035.\n",
      "Max ingored occurence: 45.0 \n"
     ]
    }
   ],
   "source": [
    "threshold = 0.90\n",
    "max_words = int( np.ceil( (cdf>threshold).argmax() / 100) * 100 )\n",
    "\n",
    "print( \"Fraction of corpus: {}.\\nFraction of dictionary: {} / {}.\\nMax ingored occurence: {} \" .format(threshold, max_words, len(tk.word_index), pdf[max_words]) )"
   ]
  },
  {
   "cell_type": "code",
   "execution_count": 37,
   "metadata": {},
   "outputs": [],
   "source": [
    "# max_words = 1700\n",
    "missing,hashtags = utils.get_uknown_words(tk.word_index,emb_dict,max_words)\n"
   ]
  },
  {
   "cell_type": "code",
   "execution_count": 38,
   "metadata": {},
   "outputs": [
    {
     "data": {
      "text/plain": [
       "[('<stop>', 3), ('<trunc>', 4)]"
      ]
     },
     "execution_count": 38,
     "metadata": {},
     "output_type": "execute_result"
    }
   ],
   "source": [
    "list(filter(lambda x: \"<\" in x[0] or \">\" in x[0],missing))\n"
   ]
  },
  {
   "cell_type": "code",
   "execution_count": 39,
   "metadata": {},
   "outputs": [
    {
     "data": {
      "text/plain": [
       "(34, 155, 1551)"
      ]
     },
     "execution_count": 39,
     "metadata": {},
     "output_type": "execute_result"
    }
   ],
   "source": [
    "len(missing), len(hashtags), max_words"
   ]
  },
  {
   "cell_type": "code",
   "execution_count": 40,
   "metadata": {},
   "outputs": [
    {
     "data": {
      "text/plain": [
       "'<><>’’’'"
      ]
     },
     "execution_count": 40,
     "metadata": {},
     "output_type": "execute_result"
    }
   ],
   "source": [
    "import re\n",
    "non_words = map(lambda x: re.sub(\"\\w\",\"\",x[0]), missing)\n",
    "\n",
    "non_words = list(non_words)\n",
    "\n",
    "''.join(non_words).replace(\"#\",\"\")"
   ]
  },
  {
   "cell_type": "code",
   "execution_count": 41,
   "metadata": {},
   "outputs": [
    {
     "data": {
      "text/plain": [
       "[('<stop>', 3),\n",
       " ('<trunc>', 4),\n",
       " ('vanloon', 174),\n",
       " ('deeplearn007', 254),\n",
       " ('mikequindazzi', 265),\n",
       " ('neurips', 325),\n",
       " ('tensorflow', 492),\n",
       " ('spirosmargaris', 575),\n",
       " ('nodexl', 583),\n",
       " ('jimmarous', 620),\n",
       " ('convolutional', 623),\n",
       " ('datax', 700),\n",
       " ('chatbot', 888),\n",
       " ('yape', 902),\n",
       " ('ipfconline1', 970),\n",
       " ('probabilistic', 1013),\n",
       " ('variational', 1020),\n",
       " ('machinelearning', 1041),\n",
       " ('pineau', 1065),\n",
       " ('chatbots', 1097)]"
      ]
     },
     "execution_count": 41,
     "metadata": {},
     "output_type": "execute_result"
    }
   ],
   "source": [
    "missing[:20]"
   ]
  },
  {
   "cell_type": "code",
   "execution_count": 42,
   "metadata": {},
   "outputs": [],
   "source": [
    "sequences = tk.texts_to_sequences(df[\"preproc_text\"])"
   ]
  },
  {
   "cell_type": "code",
   "execution_count": 43,
   "metadata": {},
   "outputs": [],
   "source": [
    "id_to_hash = { x[1] : x[0] for x in hashtags }#+missing  }\n",
    "\n",
    "def hashtags_from_seq(seq):   \n",
    "    return filter(lambda y: y is not None, map(lambda x: id_to_hash.get(x,None), seq))\n",
    "        \n",
    "hastags_seqs = map(lambda x: \" \".join(list(hashtags_from_seq(x))), sequences)    \n",
    "\n",
    "with open(\"../data/preproc/hash_corpus.txt\",\"w+\") as co:\n",
    "    co.write( \"\\n\".join(list(filter(lambda x: len(x)>0,hastags_seqs))))"
   ]
  },
  {
   "cell_type": "code",
   "execution_count": null,
   "metadata": {},
   "outputs": [],
   "source": []
  }
 ],
 "metadata": {
  "kernelspec": {
   "display_name": "Python 3",
   "language": "python",
   "name": "python3"
  },
  "language_info": {
   "codemirror_mode": {
    "name": "ipython",
    "version": 3
   },
   "file_extension": ".py",
   "mimetype": "text/x-python",
   "name": "python",
   "nbconvert_exporter": "python",
   "pygments_lexer": "ipython3",
   "version": "3.6.4"
  }
 },
 "nbformat": 4,
 "nbformat_minor": 2
}
