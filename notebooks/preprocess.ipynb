{
 "cells": [
  {
   "cell_type": "code",
   "execution_count": 75,
   "metadata": {},
   "outputs": [],
   "source": [
    "import sys\n",
    "\n",
    "sys.path.append(\"../python\")"
   ]
  },
  {
   "cell_type": "code",
   "execution_count": 93,
   "metadata": {},
   "outputs": [
    {
     "data": {
      "text/plain": [
       "<module 'utils' from '../python/utils.py'>"
      ]
     },
     "execution_count": 93,
     "metadata": {},
     "output_type": "execute_result"
    }
   ],
   "source": [
    "import utils\n",
    "reload(utils)"
   ]
  },
  {
   "cell_type": "code",
   "execution_count": 91,
   "metadata": {},
   "outputs": [],
   "source": [
    "emb_dict = utils.load_glove_embedding(utils.glove_embedding_path(25))"
   ]
  },
  {
   "cell_type": "code",
   "execution_count": 94,
   "metadata": {},
   "outputs": [
    {
     "name": "stdout",
     "output_type": "stream",
     "text": [
      "Error reading ../data/raw/tweet_72950.txt.gz: Expecting value: line 1 column 1 (char 0)\n"
     ]
    },
    {
     "data": {
      "text/plain": [
       "Index(['extended_tweet/full_text', 'id', 'lang', 'retweet_count', 'retweeted',\n",
       "       'retweeted_status/extended_tweet/full_text', 'text', 'truncated',\n",
       "       'user/name'],\n",
       "      dtype='object')"
      ]
     },
     "execution_count": 94,
     "metadata": {},
     "output_type": "execute_result"
    }
   ],
   "source": [
    "df = utils.load_all_tweets(\"../data/raw\")\n",
    "\n",
    "df.columns"
   ]
  },
  {
   "cell_type": "code",
   "execution_count": 95,
   "metadata": {},
   "outputs": [
    {
     "data": {
      "text/plain": [
       "['RT @InfoProNetwork: IAM Platform Curated Retweet:\\n\\nVia: https://t.co/Uv7cPR0434\\n\\n#ICYMI Researchers used #DeepLearning methods to predict s…',\n",
       " 'IAM Platform Curated Retweet:\\n\\nVia: https://t.co/Uv7cPR0434\\n\\n#ICYMI Researchers used #DeepLearning methods to predict several severe complications in ICU patients. #MachineLearning #MedTech \\n\\nhttps://t.co/TS7tYwCESd\\n\\n#IAMPlatform\\n#TopInfluence\\n#HealthCareTechnology',\n",
       " None]"
      ]
     },
     "execution_count": 95,
     "metadata": {},
     "output_type": "execute_result"
    }
   ],
   "source": [
    "df.loc[88477,[\"text\",\"retweeted_status/extended_tweet/full_text\",\"extended_tweet/full_text\"]].tolist()"
   ]
  },
  {
   "cell_type": "code",
   "execution_count": 107,
   "metadata": {},
   "outputs": [],
   "source": [
    "# df[\"has_full_text\"] = ~df[\"extended_tweet/full_text\"].isna()\n",
    "# df[\"has_rt_full_text\"] = ~df[\"retweeted_status/extended_tweet/full_text\"].isna()\n",
    "\n",
    "# df.loc[ df[\"has_full_text\"], \"text\"] = df[\"extended_tweet/full_text\"].dropna()\n",
    "# df.loc[ (df[\"has_rt_full_text\"] & ~df[\"has_full_text\"]), \"text\"] = df[\"retweeted_status/extended_tweet/full_text\"].dropna()\n",
    "\n",
    "# df[\"truncated\"] = df[\"truncated\"] & ~(df[\"has_rt_full_text\"] | df[\"has_full_text\"])\n",
    "\n",
    "# (~df[\"truncated\"]).sum()"
   ]
  },
  {
   "cell_type": "code",
   "execution_count": 108,
   "metadata": {},
   "outputs": [],
   "source": [
    "non_words  = '🤖👌➡️➡️👉🤖🎓🌐🚀💻\\u2066😎\\xa0👩\\u200d🏫🎬💻🤖🌐🎓🚀\\u2069™✨\\U0001f9e0\\u200b💪😍🤓🎉🚀🚀👋🔹👉👉✍🏽🌟✨🏆🎉👾😃✅'\n",
    "non_words += '🌐☞☞😷\\xa0\\xa0\\xa0👇😁😁😁👏——🔗📽️⚡️⚡️👍——🙏🏻🙌🏼❤️🚀🤓☞\\xa0🍷👉🖥️💡🔸👏👏👏✌😉☞💵☺️🤜🤛💪🇬🇧🇨🇦🚀🎥😬👌🏼🍸🇬🇷💙☞\\xa0😳👊👏📸▶️🎊'\n",
    "non_words += '✨📊📉🌱💙📺😇\\xa0—👁📊☞👉🏽🚀🌳👩🏽\\u200d🏫🌊👨🏻\\u200d🌾📚✏️💕\\U0001f970🙋'\n",
    "non_words += '🏻\\u200d♂️🙌🏼👍🏼#\\U0001f9fb💪➱➱–📝👊🏻🤷🏽\\u200d♂️🍁✍️🤖\\U0001f928📊📈✨🌟🏆🎉️⃣️⃣✔🔝《⚡⏱✈️🤔\\U0001f928🤔¡⠀👉'\n",
    "non_words += '\\u2063\\u2063\\u2063\\u2063☞–💻🤔☞🇯🇵🇮🇳👏🏽–🎉❤️🎓🏛️🤔✈️👉\\u200a—\\u200a✒️\\xa0😍😬🌐😊😁😍👀☞❤️\\U0001f929✨🔑🤖🤖🎓🏡🤝📽😎🚨🚨🤖🚖—》💥💥🔥🏙🔥'\n",
    "non_words += '🔲´🖼😂😏💚💜💜🌍😲📒📋🥇👑💎\\u3000📣🕴🚚💰🦈🙂💧🍅🍎🍐🍊🥑🍉🍇🏎📖💯💯🤣🐵📣🔖\\U0001f9fe📑\\xad\\xad😆🎡📢📷💁😮😲😂😂😂😀🎂🥗🎙⚽„😭😭😭😭💃💫'\n",
    "non_words += '😧⤵🍳🔟<>🔬<>€<><><>🏾\\U0001f92f\\x9d<><>\\U0001f973‑'\n",
    "non_words = non_words.replace(\"#\",\"\").replace(\"&\",\"\").replace(\"<\",\"\").replace(\">\",\"\")\n",
    "\n",
    "pre_filters = non_words\n",
    "post_filters='!\"“”‘’’’’$%&()*+,-./:;=?@[\\\\]^_`{|}~…\\t\\n'\n",
    "\n",
    "df[\"preproc_text\"] = df[\"text\"].apply(lambda x: utils.cleanup_text(x,pre_filters=pre_filters,post_filters=post_filters) )"
   ]
  },
  {
   "cell_type": "code",
   "execution_count": 109,
   "metadata": {},
   "outputs": [
    {
     "data": {
      "text/plain": [
       "[['Join the Speech &amp; Dialogue Research Group to work on cutting edge research and development in:\\n-Speech Recognition\\n-Dialogue\\n-Natural Language Processing\\n-Far Field Audio Capture\\n-Advanced Machine Learning Frameworks\\nApply now: https://t.co/4XKx6Yf4CZ #NeurIPS2018',\n",
       "  'Join the Speech amp Dialogue Research Group to work on cutting edge research and development in Speech Recognition Dialogue Natural Language Processing Far Field Audio Capture Advanced Machine Learning Frameworks Apply now <url> <hashtag> #neurips2018 <stop>',\n",
       "  False],\n",
       " ['Wrote an article on Generative Adversarial Networks (GANs) and the GAN I created to generate handwritten digits! Check it out: https://t.co/D7JjKMrJP6\\n\\n#ArtificialIntelligence #MachineLearning #Technology #NeuralNetworks #Innovation #Art #Creative https://t.co/1yU4aN1sxW',\n",
       "  'Wrote an article on Generative Adversarial Networks GANs and the GAN I created to generate handwritten digits Check it out <url> <hashtag> #artificialintelligence <hashtag> #machinelearning <hashtag> #technology <hashtag> #neuralnetworks <hashtag> #innovation <hashtag> #art <hashtag> #creative <url> <stop>',\n",
       "  False],\n",
       " ['#RT @MikeQuindazzi: RT @MikeQuindazzi: 8 main #technologies supporting #RegTech solutions &gt;&gt;&gt; #PwC via @MikeQuindazzi &gt;&gt;&gt; #AI #BigData #Blockchain #CloudComputing #DataAnalytics #DataViz #MachineLearning &gt;&gt;&gt; https://t.co/ssxX1sHBD0 https://t.co/fxX28SHwWd',\n",
       "  ' <hashtag> #rt <user> RT <user> <number> main <hashtag> #technologies supporting <hashtag> #regtech solutions gt gt gt <hashtag> #pwc via <user> gt gt gt <hashtag> #ai <hashtag> #bigdata <hashtag> #blockchain <hashtag> #cloudcomputing <hashtag> #dataanalytics <hashtag> #dataviz <hashtag> #machinelearning gt gt gt <url> <url> <stop>',\n",
       "  False],\n",
       " ['new release of SANSA is out', 'new release of SANSA is out <stop>', False],\n",
       " ['RT @AI_devr: Deep Learning Prerequisites: Logistic Regression in Python\\n\\n☞ https://t.co/inTsundnLx\\n\\n#machinelearning #ai https://t.co/indPP…',\n",
       "  'RT <user> Deep Learning Prerequisites Logistic Regression in Python <url> <hashtag> #machinelearning <hashtag> #ai  <stop>',\n",
       "  False],\n",
       " ['digitalbazar1: RT iMariaJohnsen: Relevance of #AI #SearchEngine in Business Processes\\n\\nhttps://t.co/0JoJdI6pgr\\n\\n#MariaJohnsen #BusinessIntelligence #SEO #smartweb #blockchain #Crypto &amp; ofcourse 👉 #MachineLearning https://t.co/jtmwyiBy8Z',\n",
       "  'digitalbazar1 RT iMariaJohnsen Relevance of <hashtag> #ai <hashtag> #searchengine in Business Processes <url> <hashtag> #mariajohnsen <hashtag> #businessintelligence <hashtag> #seo <hashtag> #smartweb <hashtag> #blockchain <hashtag> #crypto amp ofcourse <hashtag> #machinelearning <url> <stop>',\n",
       "  False],\n",
       " ['RT @DotCrosse: Leaving comments in your code like:\\n\\nHahahahahha\\n\\n¯\\\\_(ツ)_/¯\\n\\n#MatLab #CodeMode #MachineLearning #Coursera https://t.co/xMeug…',\n",
       "  'RT <user> Leaving comments in your code like Hahahahahha ¯\\\\ ツ ¯ <hashtag> #matlab <hashtag> #codemode <hashtag> #machinelearning <hashtag> #coursera  <stop>',\n",
       "  False],\n",
       " ['Three marketing automation benefits for cross-selling insurance policies - Insurance Business https://t.co/VKIMRHmGOa\\n\\n#DataScience #MachineLearning #DeepLearning #Insurance #NLP #Robots #AI #IoT #BigData',\n",
       "  'Three marketing automation benefits for cross selling insurance policies Insurance Business <url> <hashtag> #datascience <hashtag> #machinelearning <hashtag> #deeplearning <hashtag> #insurance <hashtag> #nlp <hashtag> #robots <hashtag> #ai <hashtag> #iot <hashtag> #bigdata <stop>',\n",
       "  False],\n",
       " ['The Practical Guide for #MachineLearning With #TensorFlow \\n\\nhttps://t.co/2GqbesOxrQ\\n\\n@slashML @Ai_technology @bananapredict @MachinePix @TensorFlow @TensorFlo @TensorBeat @Tensorflow_AI',\n",
       "  'The Practical Guide for <hashtag> #machinelearning With <hashtag> #tensorflow <url> <user> <user> <user> <user> <user> <user> <user> <user> <stop>',\n",
       "  False],\n",
       " ['New MEAP! Math for Programmers: 3D graphics, machine learning, and simulations with Python by Paul Matthew Orland  https://t.co/PMjb0EFkM8 @manningbooks @orlandpm #math #programming #python #machinelearning #ML -- Check out the #liveBook: https://t.co/XR3F0AHc6D https://t.co/25L5BauE1J',\n",
       "  'New MEAP Math for Programmers <number> D graphics machine learning and simulations with Python by Paul Matthew Orland <url> <user> <user> <hashtag> #math <hashtag> #programming <hashtag> #python <hashtag> #machinelearning <hashtag> #ml Check out the <hashtag> #livebook <url> <url> <stop>',\n",
       "  False],\n",
       " ['So many professors, researchers, and industry folk came this time too! \\U0001f929😊\\nLink to slides: https://t.co/uOJM7KiZa5\\nArticle 📄, video 🎥, interactive website 🔗, and @PyTorch 🔥 code coming out soon 🔜! #NeurIPS2018 https://t.co/jpGnXv5MOc',\n",
       "  'So many professors researchers and industry folk came this time too Link to slides <url> Article 📄 video interactive website and <user> code coming out soon 🔜 <hashtag> #neurips2018 <url> <stop>',\n",
       "  False],\n",
       " ['What is the Internet of Things How will it affect pets? This is one of our #blogging themes for 2018. See what is happening right now. https://t.co/tPkjoxvkCW #IoT #InternetOfThings #Digital #ArtificialIntelligence #AI  #DeepLearning #MachineLearning #ML',\n",
       "  'What is the Internet of Things How will it affect pets This is one of our <hashtag> #blogging themes for <number> See what is happening right now <url> <hashtag> #iot <hashtag> #internetofthings <hashtag> #digital <hashtag> #artificialintelligence <hashtag> #ai <hashtag> #deeplearning <hashtag> #machinelearning <hashtag> #ml <stop>',\n",
       "  False],\n",
       " ['Congratulations to Léon Bottou (Facebook AI) and Olivier Bousquet (@GoogleAI ) for receiving the Test of Time award at #NeurIPS2018! Leon shares details on their paper “The Tradeoffs of Large Scale Learning” in this Q&amp;A: https://t.co/67LEQu41RV',\n",
       "  'Congratulations to Léon Bottou Facebook AI and Olivier Bousquet <user> for receiving the Test of Time award at <hashtag> #neurips2018 Leon shares details on their paper The Tradeoffs of Large Scale Learning in this Q amp A <url> <stop>',\n",
       "  False],\n",
       " ['This is what #Tesla’s #ArtificialIntelligence ‘sees’ \\n\\nwhen it’s on the road \\n\\nhttps://t.co/2ee5i0N7d0 … #fintech #insurtech #AI #MachineLearning #DeepLearning #robotics @pierrepinna @Paula_Piccard @alvinfoo @Visible_Banking @chboursin @drivingdotca @jamesdgent https://t.co/ETF5QseZvd',\n",
       "  'This is what <hashtag> #tesla s <hashtag> #artificialintelligence sees when it iss on the road <url> <hashtag> #fintech <hashtag> #insurtech <hashtag> #ai <hashtag> #machinelearning <hashtag> #deeplearning <hashtag> #robotics <user> <user> <user> <user> <user> <user> <user> <url> <stop>',\n",
       "  False],\n",
       " [\"Here's your ☕ #coffee barista #robot 🤖\\n#retail #retailtech #Robotic #AI #Machine #MachineLearning #tech \\n\\n@MikeQuindazzi @SpirosMargaris @jblefevre60 @diioannid @jerome_joffre @chboursin @LouisSerge @JacBurns_Comext @HaroldSinnott @andi_staub @rajat_shrimal @sallyeaves @3itcom https://t.co/v2rDTw3v6Q\",\n",
       "  'Here iss your ☕ <hashtag> #coffee barista <hashtag> #robot <hashtag> #retail <hashtag> #retailtech <hashtag> #robotic <hashtag> #ai <hashtag> #machine <hashtag> #machinelearning <hashtag> #tech <user> <user> <user> <user> <user> <user> <user> <user> <user> <user> <user> <user> <number> itcom <url> <stop>',\n",
       "  False],\n",
       " ['“Train Neural Networks With Noise to Reduce Overfitting”\\n\\n#MachineLearning #DeepLearning #DataScience via @TeachTheMachine https://t.co/gUu7TStl0X',\n",
       "  ' Train Neural Networks With Noise to Reduce Overfitting <hashtag> #machinelearning <hashtag> #deeplearning <hashtag> #datascience via <user> <url> <stop>',\n",
       "  False],\n",
       " ['What every software engineer should know about search -@forwidur #SearchEngines #MachineLearning #Elasticsearch #ArtificialIntelligence https://t.co/WcOKiGXTJr',\n",
       "  'What every software engineer should know about search <user> <hashtag> #searchengines <hashtag> #machinelearning <hashtag> #elasticsearch <hashtag> #artificialintelligence <url> <stop>',\n",
       "  False],\n",
       " ['Highlight of #NeurIPS2018 was feeling of belonging for first time in years..last I felt that way was 2012. Countless women and men said that I spoke on their behalf when they could not. Hope this is the return of civility to our #MachineLearning conferences',\n",
       "  'Highlight of <hashtag> #neurips2018 was feeling of belonging for first time in years <repeat>last I felt that way was <number> Countless women and men said that I spoke on their behalf when they could not Hope this is the return of civility to our <hashtag> #machinelearning conferences <stop>',\n",
       "  False],\n",
       " ['6 behaviors common to KPI power users \\n1. Use KPIs to lead \\n2. Develop an integrated view of the customer\\n3. See KPIs as data sets for #machinelearning\\n4. Drill down into KPI components \\n5. Share trusted data \\n6. Aim for parsimony \\nLearn more. https://t.co/lvxnerS8h3',\n",
       "  ' <number> behaviors common to KPI power users <number> Use KPIs to lead <number> Develop an integrated view of the customer <number> See KPIs as data sets for <hashtag> #machinelearning <number> Drill down into KPI components <number> Share trusted data <number> Aim for parsimony Learn more <url> <stop>',\n",
       "  False],\n",
       " ['Big List of ~80 Resources &amp; Tools to become a [better] #DataScientist and to Boost Your Data #Analytics: https://t.co/SeSZpivxBz #abdsc\\n\\n#BigData #DataScience #AI #MachineLearning #Algorithms #DataLiteracy #BI #VisualAnalytics #Statistics #Coding #Python #DataStorytelling https://t.co/Cbi3pzYZQN',\n",
       "  'Big List of <number> Resources amp Tools to become a better <hashtag> #datascientist and to Boost Your Data <hashtag> #analytics <url> <hashtag> #abdsc <hashtag> #bigdata <hashtag> #datascience <hashtag> #ai <hashtag> #machinelearning <hashtag> #algorithms <hashtag> #dataliteracy <hashtag> #bi <hashtag> #visualanalytics <hashtag> #statistics <hashtag> #coding <hashtag> #python <hashtag> #datastorytelling <url> <stop>',\n",
       "  False]]"
      ]
     },
     "execution_count": 109,
     "metadata": {},
     "output_type": "execute_result"
    }
   ],
   "source": [
    "df[[\"text\",\"preproc_text\"# ,\"user/name\"\n",
    "    ,\"truncated\"\n",
    "   ]].sample(20).values.tolist()"
   ]
  },
  {
   "cell_type": "code",
   "execution_count": 110,
   "metadata": {},
   "outputs": [],
   "source": [
    "from keras.preprocessing.text import Tokenizer"
   ]
  },
  {
   "cell_type": "code",
   "execution_count": 111,
   "metadata": {},
   "outputs": [
    {
     "name": "stdout",
     "output_type": "stream",
     "text": [
      "duplicated tweets: 54358/81282 0.668758\n"
     ]
    }
   ],
   "source": [
    "tmptk = Tokenizer(filters=\"\", # already applied\n",
    "               lower=True,\n",
    "               split=\" \")\n",
    "tmptk.fit_on_texts(df[\"preproc_text\"].apply(lambda x: x.replace(\"RT <user>\",\"\")))\n",
    "\n",
    "last = None\n",
    "def duplicate(x):\n",
    "    global last\n",
    "    if x == last:\n",
    "        return True\n",
    "    last = x\n",
    "    return False\n",
    "\n",
    "df[\"sequences\"] = tmptk.texts_to_sequences(df[\"preproc_text\"])\n",
    "duplicates = df[\"sequences\"].sort_values().apply(duplicate)\n",
    "duplicates.sort_index(inplace=True)\n",
    "\n",
    "print(\"duplicated tweets: %d/%d %f\" % ( duplicates.sum(), duplicates.shape[0], duplicates.sum()/duplicates.shape[0]) )"
   ]
  },
  {
   "cell_type": "code",
   "execution_count": 112,
   "metadata": {},
   "outputs": [],
   "source": [
    "df = df[~duplicates]\n",
    "\n",
    "del df[\"sequences\"]"
   ]
  },
  {
   "cell_type": "code",
   "execution_count": 113,
   "metadata": {},
   "outputs": [
    {
     "name": "stderr",
     "output_type": "stream",
     "text": [
      "/home/musella/anaconda3/lib/python3.6/site-packages/pandas/core/generic.py:1471: PerformanceWarning: \n",
      "your performance may suffer as PyTables will pickle object types that it cannot\n",
      "map directly to c-types [inferred_type->mixed,key->block2_values] [items->['extended_tweet/full_text', 'lang', 'retweeted_status/extended_tweet/full_text', 'text', 'user/name', 'preproc_text']]\n",
      "\n",
      "  return pytables.to_hdf(path_or_buf, key, self, **kwargs)\n"
     ]
    }
   ],
   "source": [
    "df.to_hdf(\"../data/preproc/tweets.hd5\",\"tweets\")"
   ]
  },
  {
   "cell_type": "code",
   "execution_count": 114,
   "metadata": {},
   "outputs": [],
   "source": [
    "tk = Tokenizer(filters=\"\", # already applied\n",
    "               lower=True,\n",
    "               split=\" \")\n",
    "tk.fit_on_texts(df[\"preproc_text\"])"
   ]
  },
  {
   "cell_type": "code",
   "execution_count": 115,
   "metadata": {},
   "outputs": [
    {
     "data": {
      "text/plain": [
       "[('<hashtag>', 1),\n",
       " ('<url>', 2),\n",
       " ('<user>', 3),\n",
       " ('<stop>', 4),\n",
       " ('#machinelearning', 5),\n",
       " ('the', 6),\n",
       " ('#ai', 7),\n",
       " ('to', 8),\n",
       " ('and', 9),\n",
       " ('<number>', 10),\n",
       " ('of', 11),\n",
       " ('in', 12),\n",
       " ('gt', 13),\n",
       " ('a', 14),\n",
       " ('#datascience', 15),\n",
       " ('for', 16),\n",
       " ('#bigdata', 17),\n",
       " ('#deeplearning', 18),\n",
       " ('#artificialintelligence', 19),\n",
       " ('rt', 20)]"
      ]
     },
     "execution_count": 115,
     "metadata": {},
     "output_type": "execute_result"
    }
   ],
   "source": [
    "list( tk.word_index.items() )[:20]"
   ]
  },
  {
   "cell_type": "code",
   "execution_count": 116,
   "metadata": {},
   "outputs": [
    {
     "data": {
      "text/plain": [
       "['<hashtag>',\n",
       " '<url>',\n",
       " '<user>',\n",
       " '<stop>',\n",
       " '#machinelearning',\n",
       " 'the',\n",
       " '#ai',\n",
       " 'to',\n",
       " 'and',\n",
       " '<number>',\n",
       " 'of',\n",
       " 'in',\n",
       " 'gt',\n",
       " 'a',\n",
       " '#datascience',\n",
       " 'for',\n",
       " '#bigdata',\n",
       " '#deeplearning',\n",
       " '#artificialintelligence',\n",
       " 'rt']"
      ]
     },
     "execution_count": 116,
     "metadata": {},
     "output_type": "execute_result"
    }
   ],
   "source": [
    "list( tk.word_index.keys() )[:20]"
   ]
  },
  {
   "cell_type": "code",
   "execution_count": 117,
   "metadata": {},
   "outputs": [
    {
     "data": {
      "text/plain": [
       "Text(0,0.5,'fraction of words in corpus')"
      ]
     },
     "execution_count": 117,
     "metadata": {},
     "output_type": "execute_result"
    },
    {
     "data": {
      "image/png": "[encoded data removed]",
      "text/plain": [
       "<matplotlib.figure.Figure at 0x7fd2682ab908>"
      ]
     },
     "metadata": {},
     "output_type": "display_data"
    }
   ],
   "source": [
    "pdf = np.array(list(map(lambda x: x[1], sorted( tk.word_counts.items(), key=lambda x: x[1], reverse=True)))).astype(np.float)\n",
    "cdf = pdf.cumsum()\n",
    "# pdf //= cdf[-1]\n",
    "cdf /= cdf[-1]\n",
    " \n",
    "plt.plot( pdf[pdf<100],1-cdf[pdf<100] )\n",
    "# plt.plot( cdf[pdf<10] )\n",
    "plt.grid()\n",
    "plt.xlabel(\"# of occurences\")\n",
    "plt.ylabel(\"fraction of words in corpus\")\n"
   ]
  },
  {
   "cell_type": "code",
   "execution_count": 118,
   "metadata": {},
   "outputs": [
    {
     "name": "stdout",
     "output_type": "stream",
     "text": [
      "Fraction of corpus: 0.9.\n",
      "Fraction of dictionary: 2500 / 28611.\n",
      "Max ingored occurence: 20.0 \n"
     ]
    }
   ],
   "source": [
    "threshold = 0.90\n",
    "max_words = int( np.ceil( (cdf>threshold).argmax() / 100) * 100 )\n",
    "\n",
    "print( \"Fraction of corpus: {}.\\nFraction of dictionary: {} / {}.\\nMax ingored occurence: {} \" .format(threshold, max_words, len(tk.word_index), pdf[max_words]) )"
   ]
  },
  {
   "cell_type": "code",
   "execution_count": 119,
   "metadata": {},
   "outputs": [],
   "source": [
    "# max_words = 1700\n",
    "missing,hashtags = utils.get_uknown_words(tk.word_index,emb_dict,max_words)\n"
   ]
  },
  {
   "cell_type": "code",
   "execution_count": 120,
   "metadata": {},
   "outputs": [
    {
     "data": {
      "text/plain": [
       "[('<stop>', 4)]"
      ]
     },
     "execution_count": 120,
     "metadata": {},
     "output_type": "execute_result"
    }
   ],
   "source": [
    "list(filter(lambda x: \"<\" in x[0] or \">\" in x[0],missing))\n"
   ]
  },
  {
   "cell_type": "code",
   "execution_count": 121,
   "metadata": {},
   "outputs": [
    {
     "data": {
      "text/plain": [
       "(50, 433, 2500)"
      ]
     },
     "execution_count": 121,
     "metadata": {},
     "output_type": "execute_result"
    }
   ],
   "source": [
    "len(missing), len(hashtags), max_words"
   ]
  },
  {
   "cell_type": "code",
   "execution_count": 122,
   "metadata": {},
   "outputs": [
    {
     "data": {
      "text/plain": [
       "'<>'"
      ]
     },
     "execution_count": 122,
     "metadata": {},
     "output_type": "execute_result"
    }
   ],
   "source": [
    "import re\n",
    "non_words = map(lambda x: re.sub(\"\\w\",\"\",x[0]), missing)\n",
    "\n",
    "non_words = list(non_words)\n",
    "\n",
    "''.join(non_words).replace(\"#\",\"\")"
   ]
  },
  {
   "cell_type": "code",
   "execution_count": 123,
   "metadata": {},
   "outputs": [
    {
     "data": {
      "text/plain": [
       "[('<stop>', 4),\n",
       " ('vanloon', 150),\n",
       " ('mikequindazzi', 164),\n",
       " ('tensorflow', 347),\n",
       " ('machinelearning', 483),\n",
       " ('kirkdborne', 499),\n",
       " ('daysofcode', 526),\n",
       " ('ipfconline1', 549),\n",
       " ('neurips', 562),\n",
       " ('whova', 663),\n",
       " ('spirosmargaris', 783),\n",
       " ('evankirstel', 807),\n",
       " ('poptimize', 808),\n",
       " ('deeplearn007', 817),\n",
       " ('convolutional', 858),\n",
       " ('daysofmlcode', 863),\n",
       " ('fisher85m', 899),\n",
       " ('v1', 924),\n",
       " ('kdnuggets', 930),\n",
       " ('chatbots', 940)]"
      ]
     },
     "execution_count": 123,
     "metadata": {},
     "output_type": "execute_result"
    }
   ],
   "source": [
    "missing[:20]"
   ]
  },
  {
   "cell_type": "code",
   "execution_count": 124,
   "metadata": {},
   "outputs": [],
   "source": [
    "sequences = tk.texts_to_sequences(df[\"preproc_text\"])"
   ]
  },
  {
   "cell_type": "code",
   "execution_count": 125,
   "metadata": {},
   "outputs": [],
   "source": [
    "id_to_hash = { x[1] : x[0] for x in hashtags }#+missing  }\n",
    "\n",
    "def hashtags_from_seq(seq):   \n",
    "    return filter(lambda y: y is not None, map(lambda x: id_to_hash.get(x,None), seq))\n",
    "        \n",
    "hastags_seqs = map(lambda x: \" \".join(list(hashtags_from_seq(x))), sequences)    \n",
    "\n",
    "with open(\"../data/preproc/hash_corpus.txt\",\"w+\") as co:\n",
    "    co.write( \"\\n\".join(list(filter(lambda x: len(x)>0,hastags_seqs))))"
   ]
  },
  {
   "cell_type": "code",
   "execution_count": null,
   "metadata": {},
   "outputs": [],
   "source": []
  }
 ],
 "metadata": {
  "kernelspec": {
   "display_name": "Python 3",
   "language": "python",
   "name": "python3"
  },
  "language_info": {
   "codemirror_mode": {
    "name": "ipython",
    "version": 3
   },
   "file_extension": ".py",
   "mimetype": "text/x-python",
   "name": "python",
   "nbconvert_exporter": "python",
   "pygments_lexer": "ipython3",
   "version": "3.6.4"
  }
 },
 "nbformat": 4,
 "nbformat_minor": 2
}
