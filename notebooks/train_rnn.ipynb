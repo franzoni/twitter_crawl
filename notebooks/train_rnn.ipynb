{
 "cells": [
  {
   "cell_type": "markdown",
   "metadata": {},
   "source": [
    "# Train the language model"
   ]
  },
  {
   "cell_type": "code",
   "execution_count": 1,
   "metadata": {
    "colab": {
     "base_uri": "https://localhost:8080/",
     "height": 35
    },
    "colab_type": "code",
    "executionInfo": {
     "elapsed": 2278,
     "status": "ok",
     "timestamp": 1544915064245,
     "user": {
      "displayName": "Pasquale Musella",
      "photoUrl": "https://lh4.googleusercontent.com/-wYshGVLKA-Y/AAAAAAAAAAI/AAAAAAAAAFY/fcboV81u2Bk/s64/photo.jpg",
      "userId": "05769533030800036539"
     },
     "user_tz": -60
    },
    "id": "iZoa-8QozLL3",
    "outputId": "c56de9f5-071c-495d-b74e-87f78a9ea02d"
   },
   "outputs": [
    {
     "name": "stderr",
     "output_type": "stream",
     "text": [
      "Using TensorFlow backend.\n"
     ]
    }
   ],
   "source": [
    "import pandas as pd\n",
    "import numpy as np\n",
    "import matplotlib.pyplot as plt\n",
    "from keras.preprocessing.sequence import pad_sequences\n",
    "from keras.utils import to_categorical\n",
    "\n",
    "from keras.callbacks import ModelCheckpoint"
   ]
  },
  {
   "cell_type": "code",
   "execution_count": 2,
   "metadata": {
    "colab": {
     "base_uri": "https://localhost:8080/",
     "height": 128
    },
    "colab_type": "code",
    "executionInfo": {
     "elapsed": 51480,
     "status": "ok",
     "timestamp": 1544915115694,
     "user": {
      "displayName": "Pasquale Musella",
      "photoUrl": "https://lh4.googleusercontent.com/-wYshGVLKA-Y/AAAAAAAAAAI/AAAAAAAAAFY/fcboV81u2Bk/s64/photo.jpg",
      "userId": "05769533030800036539"
     },
     "user_tz": -60
    },
    "id": "-UPaK0HxzxJI",
    "outputId": "fed9d92e-36cf-4bc7-b654-c7fcdc6d04d5"
   },
   "outputs": [
    {
     "name": "stdout",
     "output_type": "stream",
     "text": [
      "Go to this URL in a browser: https://accounts.google.com/o/oauth2/auth?client_id=947318989803-6bn6qk8qdgf4n4g3pfee6491hc0brc4i.apps.googleusercontent.com&redirect_uri=urn%3Aietf%3Awg%3Aoauth%3A2.0%3Aoob&scope=email%20https%3A%2F%2Fwww.googleapis.com%2Fauth%2Fdocs.test%20https%3A%2F%2Fwww.googleapis.com%2Fauth%2Fdrive%20https%3A%2F%2Fwww.googleapis.com%2Fauth%2Fdrive.photos.readonly%20https%3A%2F%2Fwww.googleapis.com%2Fauth%2Fpeopleapi.readonly&response_type=code\n",
      "\n",
      "Enter your authorization code:\n",
      "··········\n",
      "Mounted at /gdrive\n"
     ]
    }
   ],
   "source": [
    "from google.colab import drive\n",
    "drive.mount('/gdrive')"
   ]
  },
  {
   "cell_type": "markdown",
   "metadata": {},
   "source": [
    "## Load data"
   ]
  },
  {
   "cell_type": "code",
   "execution_count": null,
   "metadata": {
    "colab": {},
    "colab_type": "code",
    "id": "PKjbKMmp2T77"
   },
   "outputs": [],
   "source": [
    "data_folder = '/gdrive/My Drive/data/twitter_crawl/data'"
   ]
  },
  {
   "cell_type": "code",
   "execution_count": null,
   "metadata": {
    "colab": {},
    "colab_type": "code",
    "id": "2bpIPK-QzLMc"
   },
   "outputs": [],
   "source": [
    "sequences = pd.read_hdf(data_folder+\"/preproc/sequences.hd5\")\n"
   ]
  },
  {
   "cell_type": "code",
   "execution_count": null,
   "metadata": {
    "colab": {},
    "colab_type": "code",
    "id": "0W80RZZaKz1P"
   },
   "outputs": [],
   "source": [
    "X = sequences[\"sequences\"].apply(lambda x: x[:-1])\n",
    "y = sequences[\"sequences\"].apply(lambda x: x[1:])"
   ]
  },
  {
   "cell_type": "code",
   "execution_count": 19,
   "metadata": {
    "colab": {
     "base_uri": "https://localhost:8080/",
     "height": 349
    },
    "colab_type": "code",
    "executionInfo": {
     "elapsed": 1255,
     "status": "ok",
     "timestamp": 1544915973124,
     "user": {
      "displayName": "Pasquale Musella",
      "photoUrl": "https://lh4.googleusercontent.com/-wYshGVLKA-Y/AAAAAAAAAAI/AAAAAAAAAFY/fcboV81u2Bk/s64/photo.jpg",
      "userId": "05769533030800036539"
     },
     "user_tz": -60
    },
    "id": "FHN79Ub83jle",
    "outputId": "748c6dc3-03c6-4ee4-f6a0-9530ad2273e7"
   },
   "outputs": [
    {
     "data": {
      "image/png": "[encoded data removed]",
      "text/plain": [
       "<matplotlib.figure.Figure at 0x7fd49c22c438>"
      ]
     },
     "metadata": {
      "tags": []
     },
     "output_type": "display_data"
    }
   ],
   "source": [
    "lengths = X.apply(len)\n",
    "\n",
    "plt.hist(lengths, bins=100)\n",
    "plt.show()"
   ]
  },
  {
   "cell_type": "markdown",
   "metadata": {},
   "source": [
    "## Pad sequences"
   ]
  },
  {
   "cell_type": "code",
   "execution_count": null,
   "metadata": {
    "colab": {},
    "colab_type": "code",
    "id": "WqOFu4YEzLMy"
   },
   "outputs": [],
   "source": [
    "# maximum number of words per sequence\n",
    "max_len = 30"
   ]
  },
  {
   "cell_type": "code",
   "execution_count": null,
   "metadata": {
    "colab": {},
    "colab_type": "code",
    "id": "QEf_eSCkzLNp"
   },
   "outputs": [],
   "source": [
    "X_padded = pad_sequences(X,max_len)\n",
    "y_padded = pad_sequences(y,max_len)"
   ]
  },
  {
   "cell_type": "markdown",
   "metadata": {},
   "source": [
    "### Data generator used during training"
   ]
  },
  {
   "cell_type": "code",
   "execution_count": null,
   "metadata": {
    "colab": {},
    "colab_type": "code",
    "id": "dWeUbFpDzLN4"
   },
   "outputs": [],
   "source": [
    "# targets = to_categorical(padded)\n",
    "\n",
    "from sklearn.preprocessing import OneHotEncoder\n",
    "\n",
    "class Generate:\n",
    "    \"Makes batched and generates one-hot encoding for labels\"\n",
    "    \n",
    "    def __init__(self,X,y,max_words,batch_size=32):\n",
    "        self._X = X\n",
    "        self._y = y\n",
    "        self._batch_size = batch_size\n",
    "        self._nbatches = X.shape[0] // batch_size\n",
    "        self._remind = X.shape[0] % batch_size\n",
    "        self.nbatches = self._nbatches + 1 if self._remind > 0 else 0\n",
    "\n",
    "        self._max_words = max_words\n",
    "        \n",
    "        \n",
    "    def __call__(self):\n",
    "        index = np.arange(self._X.shape[0])\n",
    "        while True:\n",
    "            np.random.shuffle(index)            \n",
    "            def xy(Xb,yb):\n",
    "                return Xb, to_categorical(yb,self._max_words)\n",
    "            for ibatch in range(self._nbatches):\n",
    "                bindex = index[ibatch*self._batch_size:(ibatch+1)*self._batch_size]\n",
    "                Xb = self._X[bindex]\n",
    "                yb = self._y[bindex]\n",
    "                yield xy(Xb,yb)\n",
    "            if self._remind > 0:\n",
    "                Xb = self._X[index[-self._remind:]]\n",
    "                yb = self._y[index[-self._remind:]]\n",
    "                yield xy(Xb,yb)\n",
    "    \n"
   ]
  },
  {
   "cell_type": "code",
   "execution_count": null,
   "metadata": {
    "colab": {},
    "colab_type": "code",
    "id": "hyltjDSFzLOG"
   },
   "outputs": [],
   "source": [
    "# generate._encode.transform(padded[0,1])"
   ]
  },
  {
   "cell_type": "code",
   "execution_count": 29,
   "metadata": {
    "colab": {
     "base_uri": "https://localhost:8080/",
     "height": 35
    },
    "colab_type": "code",
    "executionInfo": {
     "elapsed": 473,
     "status": "ok",
     "timestamp": 1544916060275,
     "user": {
      "displayName": "Pasquale Musella",
      "photoUrl": "https://lh4.googleusercontent.com/-wYshGVLKA-Y/AAAAAAAAAAI/AAAAAAAAAFY/fcboV81u2Bk/s64/photo.jpg",
      "userId": "05769533030800036539"
     },
     "user_tz": -60
    },
    "id": "hkcbzFJDzLOc",
    "outputId": "d50629cb-8700-4878-f32e-5318c9e321d0"
   },
   "outputs": [
    {
     "data": {
      "text/plain": [
       "(26786, 60)"
      ]
     },
     "execution_count": 29,
     "metadata": {
      "tags": []
     },
     "output_type": "execute_result"
    }
   ],
   "source": [
    "X_padded.shape"
   ]
  },
  {
   "cell_type": "markdown",
   "metadata": {},
   "source": [
    "## Model definition"
   ]
  },
  {
   "cell_type": "code",
   "execution_count": null,
   "metadata": {
    "colab": {},
    "colab_type": "code",
    "id": "Vr25igoOzLO7"
   },
   "outputs": [],
   "source": [
    "from keras.layers import Embedding, Input, Concatenate, GRU, Dense, Activation, Convolution1D, TimeDistributed\n",
    "from keras.layers import GaussianNoise, Dropout\n",
    "\n",
    "from keras.callbacks import CSVLogger\n"
   ]
  },
  {
   "cell_type": "markdown",
   "metadata": {},
   "source": [
    "### Load previously prepared data\n",
    "\n",
    "1. Embedding matrixes\n",
    "1. Tokenizer and related information\n"
   ]
  },
  {
   "cell_type": "code",
   "execution_count": null,
   "metadata": {
    "colab": {},
    "colab_type": "code",
    "id": "H8Bu6m4EzLPR"
   },
   "outputs": [],
   "source": [
    "words_embed_mtx = np.load(data_folder+'/models/sequences/embed_mtx.npy')\n",
    "hash_embed_mtx = np.load(data_folder+'/models/sequences/hash_mtx.npy')\n",
    "stop_mtx = np.load(data_folder+'/models/sequences/hash_mtx.npy')\n"
   ]
  },
  {
   "cell_type": "code",
   "execution_count": null,
   "metadata": {
    "colab": {},
    "colab_type": "code",
    "id": "tX8aurouzLPg"
   },
   "outputs": [],
   "source": [
    "import json"
   ]
  },
  {
   "cell_type": "code",
   "execution_count": 33,
   "metadata": {
    "colab": {
     "base_uri": "https://localhost:8080/",
     "height": 55
    },
    "colab_type": "code",
    "executionInfo": {
     "elapsed": 1211,
     "status": "ok",
     "timestamp": 1544916072011,
     "user": {
      "displayName": "Pasquale Musella",
      "photoUrl": "https://lh4.googleusercontent.com/-wYshGVLKA-Y/AAAAAAAAAAI/AAAAAAAAAFY/fcboV81u2Bk/s64/photo.jpg",
      "userId": "05769533030800036539"
     },
     "user_tz": -60
    },
    "id": "XzrBz8rVzLP9",
    "outputId": "95f7cbe0-9605-47ad-9099-8f7b57b3efbf"
   },
   "outputs": [
    {
     "name": "stdout",
     "output_type": "stream",
     "text": [
      "{'max_words': 2500, 'unk_idx': [1862, 1469, 500, 809, 1064, 550, 1302, 484, 2366, 151, 563, 2044, 941, 2489, 1582, 1747, 2495, 818, 808, 784, 864, 900, 1195, 1871, 1749, 2058, 527, 1135, 1337, 664, 2386, 2420, 1258, 1844, 165, 2312, 1554, 925, 859, 2295, 931, 2346, 1381, 2394, 348, 1658, 2352, 1692, 2458]}\n"
     ]
    }
   ],
   "source": [
    "with open(data_folder+\"/models/sequences/info.json\",\"r\") as fin:\n",
    "    info = json.loads(fin.read())\n",
    "\n",
    "print(info)"
   ]
  },
  {
   "cell_type": "code",
   "execution_count": null,
   "metadata": {
    "colab": {},
    "colab_type": "code",
    "id": "-IgpxwyLzLWZ"
   },
   "outputs": [],
   "source": [
    "import pickle\n",
    "\n",
    "with open(data_folder+\"/models/sequences/tokenizer.pkl\",\"rb\") as fin:\n",
    "    tk = pickle.loads(fin.read())"
   ]
  },
  {
   "cell_type": "code",
   "execution_count": null,
   "metadata": {
    "colab": {},
    "colab_type": "code",
    "id": "wb3R6VLQzLQS"
   },
   "outputs": [],
   "source": [
    "words_embed_layer = Embedding(words_embed_mtx.shape[0],words_embed_mtx.shape[1],\n",
    "                              weights=[words_embed_mtx],\n",
    "                              input_length=max_len,mask_zero=True)f\n",
    "hash_embed_layer = Embedding(hash_embed_mtx.shape[0],hash_embed_mtx.shape[1],\n",
    "                             weights=[hash_embed_mtx],\n",
    "                             input_length=max_len,mask_zero=True)\n",
    "stop_layer = Embedding(stop_mtx.shape[0],stop_mtx.shape[1],\n",
    "                       weights=[stop_mtx],\n",
    "                       input_length=max_len,mask_zero=True)\n"
   ]
  },
  {
   "cell_type": "markdown",
   "metadata": {},
   "source": [
    "### No fine-tuning of the embeddings"
   ]
  },
  {
   "cell_type": "code",
   "execution_count": null,
   "metadata": {
    "colab": {},
    "colab_type": "code",
    "id": "jnDMM_dMzLQg"
   },
   "outputs": [],
   "source": [
    "words_embed_layer.trainable = False\n",
    "hash_embed_layer.trainable = False\n",
    "stop_layer.trainable = False\n"
   ]
  },
  {
   "cell_type": "markdown",
   "metadata": {},
   "source": [
    "### Actual model definition"
   ]
  },
  {
   "cell_type": "code",
   "execution_count": null,
   "metadata": {
    "colab": {},
    "colab_type": "code",
    "id": "7Kw5gG89zLQ7"
   },
   "outputs": [],
   "source": [
    "from keras.models import Model\n",
    "from keras.optimizers import Adam\n",
    "from keras.metrics import top_k_categorical_accuracy"
   ]
  },
  {
   "cell_type": "code",
   "execution_count": 38,
   "metadata": {
    "colab": {
     "base_uri": "https://localhost:8080/",
     "height": 839
    },
    "colab_type": "code",
    "executionInfo": {
     "elapsed": 6794,
     "status": "ok",
     "timestamp": 1544916093816,
     "user": {
      "displayName": "Pasquale Musella",
      "photoUrl": "https://lh4.googleusercontent.com/-wYshGVLKA-Y/AAAAAAAAAAI/AAAAAAAAAFY/fcboV81u2Bk/s64/photo.jpg",
      "userId": "05769533030800036539"
     },
     "user_tz": -60
    },
    "id": "5QDGbJG8zLRG",
    "outputId": "efc53c66-538d-4d37-d496-60e22d06a866"
   },
   "outputs": [
    {
     "name": "stdout",
     "output_type": "stream",
     "text": [
      "__________________________________________________________________________________________________\n",
      "Layer (type)                    Output Shape         Param #     Connected to                     \n",
      "==================================================================================================\n",
      "input_1 (InputLayer)            (None, 60)           0                                            \n",
      "__________________________________________________________________________________________________\n",
      "embedding_1 (Embedding)         (None, 60, 25)       62525       input_1[0][0]                    \n",
      "__________________________________________________________________________________________________\n",
      "embedding_2 (Embedding)         (None, 60, 2)        5004        input_1[0][0]                    \n",
      "__________________________________________________________________________________________________\n",
      "embedding_3 (Embedding)         (None, 60, 2)        5004        input_1[0][0]                    \n",
      "__________________________________________________________________________________________________\n",
      "concatenate_1 (Concatenate)     (None, 60, 29)       0           embedding_1[0][0]                \n",
      "                                                                 embedding_2[0][0]                \n",
      "                                                                 embedding_3[0][0]                \n",
      "__________________________________________________________________________________________________\n",
      "gaussian_noise_1 (GaussianNoise (None, 60, 29)       0           concatenate_1[0][0]              \n",
      "__________________________________________________________________________________________________\n",
      "gru_1 (GRU)                     (None, 60, 500)      795000      gaussian_noise_1[0][0]           \n",
      "__________________________________________________________________________________________________\n",
      "gru_2 (GRU)                     (None, 60, 500)      1501500     gru_1[0][0]                      \n",
      "__________________________________________________________________________________________________\n",
      "time_distributed_1 (TimeDistrib (None, 60, 250)      125250      gru_2[0][0]                      \n",
      "__________________________________________________________________________________________________\n",
      "gaussian_noise_2 (GaussianNoise (None, 60, 250)      0           time_distributed_1[0][0]         \n",
      "__________________________________________________________________________________________________\n",
      "activation_1 (Activation)       (None, 60, 250)      0           gaussian_noise_2[0][0]           \n",
      "__________________________________________________________________________________________________\n",
      "time_distributed_2 (TimeDistrib (None, 60, 250)      62750       activation_1[0][0]               \n",
      "__________________________________________________________________________________________________\n",
      "activation_2 (Activation)       (None, 60, 250)      0           time_distributed_2[0][0]         \n",
      "__________________________________________________________________________________________________\n",
      "time_distributed_3 (TimeDistrib (None, 60, 250)      62750       activation_2[0][0]               \n",
      "__________________________________________________________________________________________________\n",
      "gaussian_noise_3 (GaussianNoise (None, 60, 250)      0           time_distributed_3[0][0]         \n",
      "__________________________________________________________________________________________________\n",
      "activation_3 (Activation)       (None, 60, 250)      0           gaussian_noise_3[0][0]           \n",
      "__________________________________________________________________________________________________\n",
      "time_distributed_4 (TimeDistrib (None, 60, 2503)     628253      activation_3[0][0]               \n",
      "__________________________________________________________________________________________________\n",
      "activation_4 (Activation)       (None, 60, 2503)     0           time_distributed_4[0][0]         \n",
      "==================================================================================================\n",
      "Total params: 3,248,036\n",
      "Trainable params: 3,175,503\n",
      "Non-trainable params: 72,533\n",
      "__________________________________________________________________________________________________\n"
     ]
    }
   ],
   "source": [
    "nwords = info[\"max_words\"]+3\n",
    "\n",
    "inp = Input(X_padded.shape[1:])\n",
    "W = words_embed_layer(inp)\n",
    "H = hash_embed_layer(inp)\n",
    "S = stop_layer(inp)\n",
    "\n",
    "concat = Concatenate()([W,H,S])\n",
    "L = concat\n",
    "\n",
    "L = GaussianNoise(0.1)(L)\n",
    "L = GRU(500,return_sequences=True)(L)\n",
    "L = GRU(500,return_sequences=True)(L)\n",
    "\n",
    "#L = Dropout(0.5)(L)\n",
    "\n",
    "L = TimeDistributed(Dense(250))(L)\n",
    "L = GaussianNoise(0.05)(L)\n",
    "L = Activation('tanh')(L)\n",
    "\n",
    "L = TimeDistributed(Dense(250))(L)\n",
    "L = Activation('tanh')(L)\n",
    "\n",
    "#L = Dropout(0.5)(L)\n",
    "\n",
    "L = TimeDistributed(Dense(250))(L)\n",
    "L = GaussianNoise(0.05)(L)\n",
    "L = Activation('tanh')(L)\n",
    "\n",
    "L = TimeDistributed(Dense(nwords))(L)\n",
    "L = Activation('softmax')(L)\n",
    "# out = rnn(concat)\n",
    "out = L\n",
    "embed_model = Model(inputs=inp,outputs=concat)\n",
    "\n",
    "model = Model(inputs=inp,outputs=out)\n",
    "optimzier = Adam(lr=1.e-3)\n",
    "# ,decay=0.005\n",
    "\n",
    "import keras.backend as K\n",
    "\n",
    "def top3_accuracy(y_true,y_pred):\n",
    "    y_pred = K.reshape(y_pred,(-1,y_pred.shape[-1]))\n",
    "    y_true = K.reshape(K.argmax(y_true, axis=-1), (-1,))\n",
    "    mask = K.cast( K.greater(y_true, 0), K.floatx()  )\n",
    "    return K.sum( mask*K.cast(K.in_top_k(y_pred, y_true, 3),K.floatx()),axis=-1)/K.sum(mask)\n",
    "\n",
    "\n",
    "# def top5_accuracy(y_true,y_pred):\n",
    "#   return top_k_categorical_accuracy(y_true,y_pred,5)\n",
    "\n",
    "model.compile(loss=\"categorical_crossentropy\",optimizer=optimzier,metrics=['categorical_accuracy',top3_accuracy])\n",
    "\n",
    "model_folder = data_folder+\"/models/gru\"\n",
    "! mkdir -p \"$model_folder\"\n",
    "\n",
    "model.summary()"
   ]
  },
  {
   "cell_type": "markdown",
   "metadata": {
    "colab": {},
    "colab_type": "code",
    "id": "RBwC0K9cKhpq"
   },
   "source": [
    "### Visialize input sequences"
   ]
  },
  {
   "cell_type": "code",
   "execution_count": 39,
   "metadata": {
    "colab": {
     "base_uri": "https://localhost:8080/",
     "height": 1274
    },
    "colab_type": "code",
    "executionInfo": {
     "elapsed": 6047,
     "status": "ok",
     "timestamp": 1544916106995,
     "user": {
      "displayName": "Pasquale Musella",
      "photoUrl": "https://lh4.googleusercontent.com/-wYshGVLKA-Y/AAAAAAAAAAI/AAAAAAAAAFY/fcboV81u2Bk/s64/photo.jpg",
      "userId": "05769533030800036539"
     },
     "user_tz": -60
    },
    "id": "cq8ENlcdzLRh",
    "outputId": "4bb0a903-9fb3-4dd2-82a4-09475109c764"
   },
   "outputs": [
    {
     "data": {
      "image/png": "[encoded data removed]",
      "text/plain": [
       "<matplotlib.figure.Figure at 0x7fd4a0571710>"
      ]
     },
     "metadata": {
      "tags": []
     },
     "output_type": "display_data"
    }
   ],
   "source": [
    "sentences = embed_model.predict(X_padded[:100])\n",
    "\n",
    "fig = plt.figure(figsize=(20,20))\n",
    "for isnt, snt in enumerate( np.random.choice(np.arange(sentences.shape[0]),25) ):\n",
    "    plt.subplot(5,5,isnt+1)\n",
    "    plt.imshow(sentences[snt].T)\n",
    "plt.tight_layout()\n",
    "plt.savefig(\"sentences.png\")\n",
    "plt.show()\n"
   ]
  },
  {
   "cell_type": "markdown",
   "metadata": {},
   "source": [
    "### Keras callback to sample model predictions during training"
   ]
  },
  {
   "cell_type": "code",
   "execution_count": null,
   "metadata": {
    "colab": {},
    "colab_type": "code",
    "id": "0A5UctrDzLSz"
   },
   "outputs": [],
   "source": [
    "from keras.callbacks import LambdaCallback\n",
    "\n",
    "class Sample:\n",
    "  \n",
    "  def __init__(self,X,y,nsamples,model,tokenizer,min_epoch,freq,prefix=model_folder):\n",
    "    self._X = X\n",
    "    self._y = y\n",
    "    self._index = np.arange(X.shape[0])\n",
    "    self._nsamples = nsamples\n",
    "    self._tokenizer = tokenizer\n",
    "    self._min_epoch = min_epoch\n",
    "    self._freq = freq\n",
    "    self._model = model\n",
    "    self._prefix = prefix\n",
    "    \n",
    "  def __call__(self,epoch,logs):\n",
    "    print(epoch)\n",
    "    if epoch < self._min_epoch: return\n",
    "    \n",
    "    if (epoch - self._min_epoch ) % self._freq != 0: return\n",
    "    \n",
    "    samples = np.random.choice(self._index,self._nsamples)\n",
    "    samples_X = self._X[samples]\n",
    "    targets = self._y[samples]\n",
    "    predictions = model.predict(samples_X).argsort(2)[:,:,-2:]\n",
    "    # \n",
    "    with open(self._prefix+\"/sample_%d.txt\" % epoch, \"w+\") as fout:\n",
    "      for target,prediction,inp in zip(targets,predictions,samples_X):\n",
    "        first_word = (target>0).argmax()\n",
    "        fout.write(self._tokenizer.sequences_to_texts([inp[first_word:]])[0]+'\\n')\n",
    "        fout.write(self._tokenizer.sequences_to_texts([target[first_word:]])[0]+'\\n')\n",
    "        fout.write(self._tokenizer.sequences_to_texts([prediction[first_word:,-1]])[0]+'\\n')\n",
    "        fout.write(self._tokenizer.sequences_to_texts([prediction[first_word:,-2]])[0]+'\\n')\n",
    "        # fout.write(self._tokenizer.sequences_to_texts([prediction[first_word+1:,-3]]))\n",
    "        fout.write(\"----\\n\")\n",
    "      \n",
    "    \n",
    "    \n",
    "    \n",
    "     \n",
    "    \n",
    "  \n"
   ]
  },
  {
   "cell_type": "markdown",
   "metadata": {
    "colab": {},
    "colab_type": "code",
    "id": "7zCY4bWD3v92"
   },
   "source": [
    "### Train the model"
   ]
  },
  {
   "cell_type": "code",
   "execution_count": null,
   "metadata": {
    "colab": {},
    "colab_type": "code",
    "id": "72T7xKj5zLTL"
   },
   "outputs": [],
   "source": [
    "from sklearn.model_selection import train_test_split\n",
    "\n",
    "X_train, X_test, y_train, y_test = train_test_split(X_padded,y_padded,test_size=0.2,random_state=12345)\n",
    "\n",
    "X_train, X_valid, y_train, y_valid  = train_test_split(X_train,y_train,test_size=0.2,random_state=12345)\n",
    "\n",
    "generate_train = Generate(X_train,y_train,nwords,batch_size=512)\n",
    "generate_valid = Generate(X_valid,y_valid,nwords,batch_size=512)\n",
    "\n",
    "gen_train = generate_train()\n",
    "gen_valid = generate_valid()\n",
    "\n",
    "# for ii in range(5):\n",
    "#     X,y = next(gen)\n",
    "#     print(X.shape,y.shape)"
   ]
  },
  {
   "cell_type": "code",
   "execution_count": null,
   "metadata": {
    "colab": {
     "base_uri": "https://localhost:8080/",
     "height": 6321
    },
    "colab_type": "code",
    "executionInfo": {
     "elapsed": 4329671,
     "status": "ok",
     "timestamp": 1544753360302,
     "user": {
      "displayName": "Pasquale Musella",
      "photoUrl": "https://lh4.googleusercontent.com/-wYshGVLKA-Y/AAAAAAAAAAI/AAAAAAAAAFY/fcboV81u2Bk/s64/photo.jpg",
      "userId": "05769533030800036539"
     },
     "user_tz": -60
    },
    "id": "yjCTiaoOzLTf",
    "outputId": "3097dc04-4f82-48a8-fcda-4d6567f2daf7"
   },
   "outputs": [
    {
     "name": "stdout",
     "output_type": "stream",
     "text": [
      "Epoch 1/150\n",
      "34/34 [==============================] - 44s 1s/step - loss: 5.4159 - categorical_accuracy: 0.1930 - top3_accuracy: 0.3166 - val_loss: 4.8847 - val_categorical_accuracy: 0.1961 - val_top3_accuracy: 0.3373\n",
      "0\n",
      "Epoch 2/150\n",
      "34/34 [==============================] - 38s 1s/step - loss: 4.7864 - categorical_accuracy: 0.2073 - top3_accuracy: 0.3436 - val_loss: 4.6745 - val_categorical_accuracy: 0.2206 - val_top3_accuracy: 0.3402\n",
      "1\n",
      "Epoch 3/150\n",
      "34/34 [==============================] - 39s 1s/step - loss: 4.5546 - categorical_accuracy: 0.2229 - top3_accuracy: 0.3546 - val_loss: 4.4716 - val_categorical_accuracy: 0.2219 - val_top3_accuracy: 0.3696\n",
      "2\n",
      "Epoch 4/150\n",
      "34/34 [==============================] - 38s 1s/step - loss: 4.3953 - categorical_accuracy: 0.2239 - top3_accuracy: 0.3756 - val_loss: 4.2975 - val_categorical_accuracy: 0.2204 - val_top3_accuracy: 0.3770\n",
      "3\n",
      "Epoch 5/150\n",
      "34/34 [==============================] - 39s 1s/step - loss: 4.1803 - categorical_accuracy: 0.2502 - top3_accuracy: 0.4069 - val_loss: 4.1035 - val_categorical_accuracy: 0.2668 - val_top3_accuracy: 0.4389\n",
      "4\n",
      "Epoch 6/150\n",
      "34/34 [==============================] - 38s 1s/step - loss: 4.0501 - categorical_accuracy: 0.2817 - top3_accuracy: 0.4431 - val_loss: 4.0240 - val_categorical_accuracy: 0.2849 - val_top3_accuracy: 0.4428\n",
      "5\n",
      "Epoch 7/150\n",
      "34/34 [==============================] - 39s 1s/step - loss: 3.9846 - categorical_accuracy: 0.2895 - top3_accuracy: 0.4465 - val_loss: 3.9669 - val_categorical_accuracy: 0.2901 - val_top3_accuracy: 0.4462\n",
      "6\n",
      "Epoch 8/150\n",
      "34/34 [==============================] - 39s 1s/step - loss: 3.9279 - categorical_accuracy: 0.2936 - top3_accuracy: 0.4508 - val_loss: 3.9127 - val_categorical_accuracy: 0.2947 - val_top3_accuracy: 0.4520\n",
      "7\n",
      "Epoch 9/150\n",
      "34/34 [==============================] - 38s 1s/step - loss: 3.8744 - categorical_accuracy: 0.3010 - top3_accuracy: 0.4545 - val_loss: 3.8615 - val_categorical_accuracy: 0.3065 - val_top3_accuracy: 0.4555\n",
      "8\n",
      "Epoch 10/150\n",
      "34/34 [==============================] - 39s 1s/step - loss: 3.8256 - categorical_accuracy: 0.3092 - top3_accuracy: 0.4602 - val_loss: 3.8084 - val_categorical_accuracy: 0.3113 - val_top3_accuracy: 0.4630\n",
      "9\n",
      "Epoch 11/150\n",
      "34/34 [==============================] - 38s 1s/step - loss: 3.7687 - categorical_accuracy: 0.3133 - top3_accuracy: 0.4675 - val_loss: 3.7478 - val_categorical_accuracy: 0.3177 - val_top3_accuracy: 0.4707\n",
      "10\n",
      "Epoch 12/150\n",
      "34/34 [==============================] - 39s 1s/step - loss: 3.7116 - categorical_accuracy: 0.3197 - top3_accuracy: 0.4737 - val_loss: 3.6939 - val_categorical_accuracy: 0.3218 - val_top3_accuracy: 0.4765\n",
      "11\n",
      "Epoch 13/150\n",
      "34/34 [==============================] - 38s 1s/step - loss: 3.6560 - categorical_accuracy: 0.3248 - top3_accuracy: 0.4800 - val_loss: 3.6461 - val_categorical_accuracy: 0.3271 - val_top3_accuracy: 0.4830\n",
      "12\n",
      "Epoch 14/150\n",
      "34/34 [==============================] - 39s 1s/step - loss: 3.6095 - categorical_accuracy: 0.3300 - top3_accuracy: 0.4863 - val_loss: 3.6029 - val_categorical_accuracy: 0.3310 - val_top3_accuracy: 0.4891\n",
      "13\n",
      "Epoch 15/150\n",
      "34/34 [==============================] - 39s 1s/step - loss: 3.5656 - categorical_accuracy: 0.3354 - top3_accuracy: 0.4924 - val_loss: 3.5718 - val_categorical_accuracy: 0.3356 - val_top3_accuracy: 0.4928\n",
      "14\n",
      "Epoch 16/150\n",
      "34/34 [==============================] - 39s 1s/step - loss: 3.5279 - categorical_accuracy: 0.3401 - top3_accuracy: 0.4973 - val_loss: 3.5312 - val_categorical_accuracy: 0.3404 - val_top3_accuracy: 0.4979\n",
      "15\n",
      "Epoch 17/150\n",
      "34/34 [==============================] - 39s 1s/step - loss: 3.4863 - categorical_accuracy: 0.3447 - top3_accuracy: 0.5026 - val_loss: 3.4905 - val_categorical_accuracy: 0.3449 - val_top3_accuracy: 0.5045\n",
      "16\n",
      "Epoch 18/150\n",
      "34/34 [==============================] - 39s 1s/step - loss: 3.4446 - categorical_accuracy: 0.3490 - top3_accuracy: 0.5074 - val_loss: 3.4600 - val_categorical_accuracy: 0.3505 - val_top3_accuracy: 0.5095\n",
      "17\n",
      "Epoch 19/150\n",
      "34/34 [==============================] - 39s 1s/step - loss: 3.4116 - categorical_accuracy: 0.3528 - top3_accuracy: 0.5122 - val_loss: 3.4297 - val_categorical_accuracy: 0.3529 - val_top3_accuracy: 0.5135\n",
      "18\n",
      "Epoch 20/150\n",
      "34/34 [==============================] - 39s 1s/step - loss: 3.3770 - categorical_accuracy: 0.3575 - top3_accuracy: 0.5178 - val_loss: 3.3953 - val_categorical_accuracy: 0.3578 - val_top3_accuracy: 0.5181\n",
      "19\n",
      "Epoch 21/150\n",
      "34/34 [==============================] - 39s 1s/step - loss: 3.3375 - categorical_accuracy: 0.3640 - top3_accuracy: 0.5231 - val_loss: 3.3700 - val_categorical_accuracy: 0.3618 - val_top3_accuracy: 0.5224\n",
      "20\n",
      "Epoch 22/150\n",
      "34/34 [==============================] - 39s 1s/step - loss: 3.3044 - categorical_accuracy: 0.3683 - top3_accuracy: 0.5277 - val_loss: 3.3382 - val_categorical_accuracy: 0.3674 - val_top3_accuracy: 0.5282\n",
      "21\n",
      "Epoch 23/150\n",
      "34/34 [==============================] - 39s 1s/step - loss: 3.2750 - categorical_accuracy: 0.3720 - top3_accuracy: 0.5319 - val_loss: 3.3285 - val_categorical_accuracy: 0.3676 - val_top3_accuracy: 0.5291\n",
      "22\n",
      "Epoch 24/150\n",
      "34/34 [==============================] - 39s 1s/step - loss: 3.2443 - categorical_accuracy: 0.3763 - top3_accuracy: 0.5360 - val_loss: 3.2974 - val_categorical_accuracy: 0.3727 - val_top3_accuracy: 0.5327\n",
      "23\n",
      "Epoch 25/150\n",
      "34/34 [==============================] - 38s 1s/step - loss: 3.2132 - categorical_accuracy: 0.3810 - top3_accuracy: 0.5397 - val_loss: 3.2770 - val_categorical_accuracy: 0.3750 - val_top3_accuracy: 0.5362\n",
      "24\n",
      "Epoch 26/150\n",
      "34/34 [==============================] - 39s 1s/step - loss: 3.1854 - categorical_accuracy: 0.3842 - top3_accuracy: 0.5437 - val_loss: 3.2630 - val_categorical_accuracy: 0.3767 - val_top3_accuracy: 0.5389\n",
      "25\n",
      "Epoch 27/150\n",
      "34/34 [==============================] - 39s 1s/step - loss: 3.1549 - categorical_accuracy: 0.3888 - top3_accuracy: 0.5482 - val_loss: 3.2486 - val_categorical_accuracy: 0.3808 - val_top3_accuracy: 0.5416\n",
      "26\n",
      "Epoch 28/150\n",
      "34/34 [==============================] - 38s 1s/step - loss: 3.1249 - categorical_accuracy: 0.3931 - top3_accuracy: 0.5524 - val_loss: 3.2289 - val_categorical_accuracy: 0.3837 - val_top3_accuracy: 0.5441\n",
      "27\n",
      "Epoch 29/150\n",
      "34/34 [==============================] - 39s 1s/step - loss: 3.1021 - categorical_accuracy: 0.3954 - top3_accuracy: 0.5551 - val_loss: 3.2157 - val_categorical_accuracy: 0.3862 - val_top3_accuracy: 0.5463\n",
      "28\n",
      "Epoch 30/150\n",
      "34/34 [==============================] - 39s 1s/step - loss: 3.0663 - categorical_accuracy: 0.4016 - top3_accuracy: 0.5602 - val_loss: 3.2010 - val_categorical_accuracy: 0.3869 - val_top3_accuracy: 0.5476\n",
      "29\n",
      "Epoch 31/150\n",
      "34/34 [==============================] - 39s 1s/step - loss: 3.0402 - categorical_accuracy: 0.4044 - top3_accuracy: 0.5637 - val_loss: 3.1942 - val_categorical_accuracy: 0.3889 - val_top3_accuracy: 0.5491\n",
      "30\n",
      "Epoch 32/150\n",
      "34/34 [==============================] - 39s 1s/step - loss: 3.0129 - categorical_accuracy: 0.4088 - top3_accuracy: 0.5674 - val_loss: 3.1892 - val_categorical_accuracy: 0.3893 - val_top3_accuracy: 0.5507\n",
      "31\n",
      "Epoch 33/150\n",
      "34/34 [==============================] - 39s 1s/step - loss: 2.9814 - categorical_accuracy: 0.4134 - top3_accuracy: 0.5723 - val_loss: 3.1698 - val_categorical_accuracy: 0.3931 - val_top3_accuracy: 0.5536\n",
      "32\n",
      "Epoch 34/150\n",
      "34/34 [==============================] - 39s 1s/step - loss: 2.9498 - categorical_accuracy: 0.4181 - top3_accuracy: 0.5765 - val_loss: 3.1589 - val_categorical_accuracy: 0.3942 - val_top3_accuracy: 0.5551\n",
      "33\n",
      "Epoch 35/150\n",
      "34/34 [==============================] - 38s 1s/step - loss: 2.9207 - categorical_accuracy: 0.4226 - top3_accuracy: 0.5810 - val_loss: 3.1535 - val_categorical_accuracy: 0.3968 - val_top3_accuracy: 0.5563\n",
      "34\n",
      "Epoch 36/150\n",
      "34/34 [==============================] - 39s 1s/step - loss: 2.8900 - categorical_accuracy: 0.4271 - top3_accuracy: 0.5848 - val_loss: 3.1542 - val_categorical_accuracy: 0.3959 - val_top3_accuracy: 0.5573\n",
      "35\n",
      "Epoch 37/150\n",
      "34/34 [==============================] - 39s 1s/step - loss: 2.8623 - categorical_accuracy: 0.4316 - top3_accuracy: 0.5893 - val_loss: 3.1473 - val_categorical_accuracy: 0.3996 - val_top3_accuracy: 0.5576\n",
      "36\n",
      "Epoch 38/150\n",
      "34/34 [==============================] - 39s 1s/step - loss: 2.8284 - categorical_accuracy: 0.4367 - top3_accuracy: 0.5942 - val_loss: 3.1426 - val_categorical_accuracy: 0.4004 - val_top3_accuracy: 0.5595\n",
      "37\n",
      "Epoch 39/150\n",
      "34/34 [==============================] - 39s 1s/step - loss: 2.8021 - categorical_accuracy: 0.4405 - top3_accuracy: 0.5983 - val_loss: 3.1333 - val_categorical_accuracy: 0.4009 - val_top3_accuracy: 0.5591\n",
      "38\n",
      "Epoch 40/150\n",
      "34/34 [==============================] - 39s 1s/step - loss: 2.7665 - categorical_accuracy: 0.4467 - top3_accuracy: 0.6030 - val_loss: 3.1413 - val_categorical_accuracy: 0.3982 - val_top3_accuracy: 0.5594\n",
      "39\n",
      "Epoch 41/150\n",
      "34/34 [==============================] - 39s 1s/step - loss: 2.7391 - categorical_accuracy: 0.4500 - top3_accuracy: 0.6073 - val_loss: 3.1320 - val_categorical_accuracy: 0.4030 - val_top3_accuracy: 0.5612\n",
      "40\n",
      "Epoch 42/150\n",
      "34/34 [==============================] - 39s 1s/step - loss: 2.6996 - categorical_accuracy: 0.4567 - top3_accuracy: 0.6130 - val_loss: 3.1374 - val_categorical_accuracy: 0.4018 - val_top3_accuracy: 0.5623\n",
      "41\n",
      "Epoch 43/150\n",
      "34/34 [==============================] - 38s 1s/step - loss: 2.6714 - categorical_accuracy: 0.4610 - top3_accuracy: 0.6175 - val_loss: 3.1345 - val_categorical_accuracy: 0.4026 - val_top3_accuracy: 0.5636\n",
      "42\n",
      "Epoch 44/150\n",
      "34/34 [==============================] - 39s 1s/step - loss: 2.6361 - categorical_accuracy: 0.4672 - top3_accuracy: 0.6228 - val_loss: 3.1446 - val_categorical_accuracy: 0.4036 - val_top3_accuracy: 0.5643\n",
      "43\n",
      "Epoch 45/150\n",
      "34/34 [==============================] - 38s 1s/step - loss: 2.6042 - categorical_accuracy: 0.4720 - top3_accuracy: 0.6270 - val_loss: 3.1470 - val_categorical_accuracy: 0.4047 - val_top3_accuracy: 0.5628\n",
      "44\n",
      "Epoch 46/150\n",
      "34/34 [==============================] - 38s 1s/step - loss: 2.5711 - categorical_accuracy: 0.4773 - top3_accuracy: 0.6320 - val_loss: 3.1471 - val_categorical_accuracy: 0.4079 - val_top3_accuracy: 0.5654\n",
      "45\n",
      "Epoch 47/150\n",
      "34/34 [==============================] - 39s 1s/step - loss: 2.5498 - categorical_accuracy: 0.4807 - top3_accuracy: 0.6354 - val_loss: 3.1548 - val_categorical_accuracy: 0.4041 - val_top3_accuracy: 0.5627\n",
      "46\n",
      "Epoch 48/150\n",
      "34/34 [==============================] - 39s 1s/step - loss: 2.5134 - categorical_accuracy: 0.4862 - top3_accuracy: 0.6408 - val_loss: 3.1547 - val_categorical_accuracy: 0.4079 - val_top3_accuracy: 0.5633\n",
      "47\n",
      "Epoch 49/150\n",
      "34/34 [==============================] - 39s 1s/step - loss: 2.4769 - categorical_accuracy: 0.4927 - top3_accuracy: 0.6466 - val_loss: 3.1676 - val_categorical_accuracy: 0.4057 - val_top3_accuracy: 0.5611\n",
      "48\n",
      "Epoch 50/150\n",
      "34/34 [==============================] - 39s 1s/step - loss: 2.4464 - categorical_accuracy: 0.4977 - top3_accuracy: 0.6511 - val_loss: 3.1692 - val_categorical_accuracy: 0.4110 - val_top3_accuracy: 0.5670\n",
      "49\n",
      "Epoch 51/150\n",
      "34/34 [==============================] - 38s 1s/step - loss: 2.4126 - categorical_accuracy: 0.5033 - top3_accuracy: 0.6565 - val_loss: 3.1761 - val_categorical_accuracy: 0.4079 - val_top3_accuracy: 0.5669\n",
      "50\n",
      "Epoch 52/150\n",
      "34/34 [==============================] - 38s 1s/step - loss: 2.3823 - categorical_accuracy: 0.5090 - top3_accuracy: 0.6607 - val_loss: 3.2023 - val_categorical_accuracy: 0.4061 - val_top3_accuracy: 0.5616\n",
      "51\n",
      "Epoch 53/150\n",
      "34/34 [==============================] - 39s 1s/step - loss: 2.3515 - categorical_accuracy: 0.5138 - top3_accuracy: 0.6659 - val_loss: 3.1970 - val_categorical_accuracy: 0.4076 - val_top3_accuracy: 0.5656\n",
      "52\n",
      "Epoch 54/150\n",
      "34/34 [==============================] - 38s 1s/step - loss: 2.3190 - categorical_accuracy: 0.5190 - top3_accuracy: 0.6708 - val_loss: 3.2068 - val_categorical_accuracy: 0.4068 - val_top3_accuracy: 0.5609\n",
      "53\n",
      "Epoch 55/150\n",
      "34/34 [==============================] - 39s 1s/step - loss: 2.2882 - categorical_accuracy: 0.5249 - top3_accuracy: 0.6756 - val_loss: 3.2275 - val_categorical_accuracy: 0.4086 - val_top3_accuracy: 0.5640\n",
      "54\n",
      "Epoch 56/150\n",
      "34/34 [==============================] - 39s 1s/step - loss: 2.2613 - categorical_accuracy: 0.5292 - top3_accuracy: 0.6796 - val_loss: 3.2318 - val_categorical_accuracy: 0.4082 - val_top3_accuracy: 0.5643\n",
      "55\n",
      "Epoch 57/150\n",
      "34/34 [==============================] - 39s 1s/step - loss: 2.2300 - categorical_accuracy: 0.5343 - top3_accuracy: 0.6842 - val_loss: 3.2370 - val_categorical_accuracy: 0.4084 - val_top3_accuracy: 0.5627\n",
      "56\n",
      "Epoch 58/150\n",
      "34/34 [==============================] - 39s 1s/step - loss: 2.1986 - categorical_accuracy: 0.5399 - top3_accuracy: 0.6888 - val_loss: 3.2529 - val_categorical_accuracy: 0.4073 - val_top3_accuracy: 0.5605\n",
      "57\n",
      "Epoch 59/150\n",
      "34/34 [==============================] - 38s 1s/step - loss: 2.1753 - categorical_accuracy: 0.5439 - top3_accuracy: 0.6926 - val_loss: 3.2698 - val_categorical_accuracy: 0.4110 - val_top3_accuracy: 0.5650\n",
      "58\n",
      "Epoch 60/150\n",
      "34/34 [==============================] - 38s 1s/step - loss: 2.1458 - categorical_accuracy: 0.5492 - top3_accuracy: 0.6970 - val_loss: 3.2735 - val_categorical_accuracy: 0.4097 - val_top3_accuracy: 0.5625\n",
      "59\n",
      "Epoch 61/150\n",
      "34/34 [==============================] - 38s 1s/step - loss: 2.1181 - categorical_accuracy: 0.5538 - top3_accuracy: 0.7015 - val_loss: 3.2878 - val_categorical_accuracy: 0.4100 - val_top3_accuracy: 0.5636\n",
      "60\n",
      "Epoch 62/150\n",
      "34/34 [==============================] - 39s 1s/step - loss: 2.0896 - categorical_accuracy: 0.5585 - top3_accuracy: 0.7054 - val_loss: 3.3099 - val_categorical_accuracy: 0.4059 - val_top3_accuracy: 0.5590\n",
      "61\n",
      "Epoch 63/150\n",
      "34/34 [==============================] - 38s 1s/step - loss: 2.0637 - categorical_accuracy: 0.5644 - top3_accuracy: 0.7096 - val_loss: 3.3439 - val_categorical_accuracy: 0.4082 - val_top3_accuracy: 0.5590\n",
      "62\n",
      "Epoch 64/150\n",
      "34/34 [==============================] - 39s 1s/step - loss: 2.0370 - categorical_accuracy: 0.5681 - top3_accuracy: 0.7138 - val_loss: 3.3271 - val_categorical_accuracy: 0.4097 - val_top3_accuracy: 0.5601\n",
      "63\n",
      "Epoch 65/150\n",
      "34/34 [==============================] - 38s 1s/step - loss: 2.0149 - categorical_accuracy: 0.5717 - top3_accuracy: 0.7176 - val_loss: 3.3531 - val_categorical_accuracy: 0.4107 - val_top3_accuracy: 0.5601\n",
      "64\n",
      "Epoch 66/150\n",
      "34/34 [==============================] - 38s 1s/step - loss: 1.9844 - categorical_accuracy: 0.5778 - top3_accuracy: 0.7214 - val_loss: 3.3714 - val_categorical_accuracy: 0.4083 - val_top3_accuracy: 0.5614\n",
      "65\n",
      "Epoch 67/150\n",
      "34/34 [==============================] - 38s 1s/step - loss: 1.9623 - categorical_accuracy: 0.5816 - top3_accuracy: 0.7249 - val_loss: 3.3851 - val_categorical_accuracy: 0.4076 - val_top3_accuracy: 0.5559\n",
      "66\n",
      "Epoch 68/150\n",
      "34/34 [==============================] - 38s 1s/step - loss: 1.9379 - categorical_accuracy: 0.5859 - top3_accuracy: 0.7290 - val_loss: 3.3910 - val_categorical_accuracy: 0.4143 - val_top3_accuracy: 0.5622\n",
      "67\n",
      "Epoch 69/150\n",
      "34/34 [==============================] - 38s 1s/step - loss: 1.9191 - categorical_accuracy: 0.5886 - top3_accuracy: 0.7319 - val_loss: 3.4258 - val_categorical_accuracy: 0.4095 - val_top3_accuracy: 0.5574\n",
      "68\n",
      "Epoch 70/150\n",
      "34/34 [==============================] - 38s 1s/step - loss: 1.8994 - categorical_accuracy: 0.5925 - top3_accuracy: 0.7354 - val_loss: 3.4180 - val_categorical_accuracy: 0.4087 - val_top3_accuracy: 0.5587\n",
      "69\n",
      "Epoch 71/150\n",
      "34/34 [==============================] - 39s 1s/step - loss: 1.8696 - categorical_accuracy: 0.5974 - top3_accuracy: 0.7391 - val_loss: 3.4387 - val_categorical_accuracy: 0.4122 - val_top3_accuracy: 0.5601\n",
      "70\n",
      "Epoch 72/150\n",
      "34/34 [==============================] - 39s 1s/step - loss: 1.8504 - categorical_accuracy: 0.6011 - top3_accuracy: 0.7423 - val_loss: 3.4503 - val_categorical_accuracy: 0.4097 - val_top3_accuracy: 0.5563\n",
      "71\n",
      "Epoch 73/150\n",
      "34/34 [==============================] - 38s 1s/step - loss: 1.8234 - categorical_accuracy: 0.6062 - top3_accuracy: 0.7465 - val_loss: 3.4878 - val_categorical_accuracy: 0.4102 - val_top3_accuracy: 0.5557\n",
      "72\n",
      "Epoch 74/150\n",
      "34/34 [==============================] - 38s 1s/step - loss: 1.8056 - categorical_accuracy: 0.6090 - top3_accuracy: 0.7496 - val_loss: 3.4880 - val_categorical_accuracy: 0.4095 - val_top3_accuracy: 0.5562\n",
      "73\n",
      "Epoch 75/150\n",
      "34/34 [==============================] - 38s 1s/step - loss: 1.7817 - categorical_accuracy: 0.6128 - top3_accuracy: 0.7532 - val_loss: 3.5188 - val_categorical_accuracy: 0.4045 - val_top3_accuracy: 0.5540\n",
      "74\n",
      "Epoch 76/150\n",
      "34/34 [==============================] - 38s 1s/step - loss: 1.7582 - categorical_accuracy: 0.6178 - top3_accuracy: 0.7568 - val_loss: 3.5063 - val_categorical_accuracy: 0.4141 - val_top3_accuracy: 0.5570\n",
      "75\n",
      "Epoch 77/150\n",
      "34/34 [==============================] - 38s 1s/step - loss: 1.7411 - categorical_accuracy: 0.6201 - top3_accuracy: 0.7596 - val_loss: 3.5421 - val_categorical_accuracy: 0.4126 - val_top3_accuracy: 0.5563\n",
      "76\n",
      "Epoch 78/150\n",
      "34/34 [==============================] - 38s 1s/step - loss: 1.7245 - categorical_accuracy: 0.6238 - top3_accuracy: 0.7624 - val_loss: 3.5557 - val_categorical_accuracy: 0.4133 - val_top3_accuracy: 0.5548\n",
      "77\n",
      "Epoch 79/150\n",
      "34/34 [==============================] - 38s 1s/step - loss: 1.6999 - categorical_accuracy: 0.6278 - top3_accuracy: 0.7658 - val_loss: 3.5846 - val_categorical_accuracy: 0.4111 - val_top3_accuracy: 0.5539\n",
      "78\n",
      "Epoch 80/150\n",
      "34/34 [==============================] - 38s 1s/step - loss: 1.6823 - categorical_accuracy: 0.6310 - top3_accuracy: 0.7682 - val_loss: 3.5804 - val_categorical_accuracy: 0.4132 - val_top3_accuracy: 0.5529\n",
      "79\n",
      "Epoch 81/150\n",
      "34/34 [==============================] - 39s 1s/step - loss: 1.6637 - categorical_accuracy: 0.6354 - top3_accuracy: 0.7714 - val_loss: 3.6117 - val_categorical_accuracy: 0.4146 - val_top3_accuracy: 0.5559\n",
      "80\n",
      "Epoch 82/150\n",
      "34/34 [==============================] - 39s 1s/step - loss: 1.6474 - categorical_accuracy: 0.6376 - top3_accuracy: 0.7741 - val_loss: 3.6088 - val_categorical_accuracy: 0.4106 - val_top3_accuracy: 0.5543\n",
      "81\n",
      "Epoch 83/150\n",
      "34/34 [==============================] - 38s 1s/step - loss: 1.6267 - categorical_accuracy: 0.6416 - top3_accuracy: 0.7772 - val_loss: 3.6238 - val_categorical_accuracy: 0.4092 - val_top3_accuracy: 0.5522\n",
      "82\n",
      "Epoch 84/150\n",
      "34/34 [==============================] - 39s 1s/step - loss: 1.6116 - categorical_accuracy: 0.6439 - top3_accuracy: 0.7793 - val_loss: 3.6627 - val_categorical_accuracy: 0.4102 - val_top3_accuracy: 0.5541\n",
      "83\n",
      "Epoch 85/150\n",
      "34/34 [==============================] - 39s 1s/step - loss: 1.5957 - categorical_accuracy: 0.6476 - top3_accuracy: 0.7825 - val_loss: 3.6746 - val_categorical_accuracy: 0.4096 - val_top3_accuracy: 0.5504\n",
      "84\n",
      "Epoch 86/150\n",
      "34/34 [==============================] - 39s 1s/step - loss: 1.5787 - categorical_accuracy: 0.6498 - top3_accuracy: 0.7847 - val_loss: 3.6764 - val_categorical_accuracy: 0.4093 - val_top3_accuracy: 0.5515\n",
      "85\n",
      "Epoch 87/150\n",
      "34/34 [==============================] - 39s 1s/step - loss: 1.5628 - categorical_accuracy: 0.6528 - top3_accuracy: 0.7872 - val_loss: 3.6924 - val_categorical_accuracy: 0.4147 - val_top3_accuracy: 0.5553\n",
      "86\n",
      "Epoch 88/150\n",
      "34/34 [==============================] - 39s 1s/step - loss: 1.5455 - categorical_accuracy: 0.6558 - top3_accuracy: 0.7898 - val_loss: 3.7130 - val_categorical_accuracy: 0.4133 - val_top3_accuracy: 0.5561\n",
      "87\n",
      "Epoch 89/150\n",
      "34/34 [==============================] - 38s 1s/step - loss: 1.5299 - categorical_accuracy: 0.6590 - top3_accuracy: 0.7923 - val_loss: 3.7172 - val_categorical_accuracy: 0.4113 - val_top3_accuracy: 0.5529\n",
      "88\n",
      "Epoch 90/150\n",
      "34/34 [==============================] - 39s 1s/step - loss: 1.5116 - categorical_accuracy: 0.6620 - top3_accuracy: 0.7951 - val_loss: 3.7422 - val_categorical_accuracy: 0.4105 - val_top3_accuracy: 0.5521\n",
      "89\n",
      "Epoch 91/150\n",
      "34/34 [==============================] - 38s 1s/step - loss: 1.5021 - categorical_accuracy: 0.6640 - top3_accuracy: 0.7974 - val_loss: 3.7515 - val_categorical_accuracy: 0.4149 - val_top3_accuracy: 0.5486\n",
      "90\n",
      "Epoch 92/150\n",
      "34/34 [==============================] - 38s 1s/step - loss: 1.4907 - categorical_accuracy: 0.6655 - top3_accuracy: 0.7987 - val_loss: 3.7931 - val_categorical_accuracy: 0.4037 - val_top3_accuracy: 0.5464\n",
      "91\n",
      "Epoch 93/150\n",
      "34/34 [==============================] - 38s 1s/step - loss: 1.4769 - categorical_accuracy: 0.6680 - top3_accuracy: 0.8011 - val_loss: 3.7826 - val_categorical_accuracy: 0.4067 - val_top3_accuracy: 0.5475\n",
      "92\n",
      "Epoch 94/150\n",
      "34/34 [==============================] - 39s 1s/step - loss: 1.4533 - categorical_accuracy: 0.6731 - top3_accuracy: 0.8042 - val_loss: 3.8035 - val_categorical_accuracy: 0.4105 - val_top3_accuracy: 0.5475\n",
      "93\n",
      "Epoch 95/150\n",
      "34/34 [==============================] - 39s 1s/step - loss: 1.4347 - categorical_accuracy: 0.6772 - top3_accuracy: 0.8077 - val_loss: 3.8082 - val_categorical_accuracy: 0.4163 - val_top3_accuracy: 0.5515\n",
      "94\n",
      "Epoch 96/150\n",
      "34/34 [==============================] - 39s 1s/step - loss: 1.4237 - categorical_accuracy: 0.6785 - top3_accuracy: 0.8093 - val_loss: 3.8266 - val_categorical_accuracy: 0.4112 - val_top3_accuracy: 0.5462\n",
      "95\n",
      "Epoch 97/150\n",
      "34/34 [==============================] - 39s 1s/step - loss: 1.4090 - categorical_accuracy: 0.6818 - top3_accuracy: 0.8115 - val_loss: 3.8481 - val_categorical_accuracy: 0.4109 - val_top3_accuracy: 0.5483\n",
      "96\n",
      "Epoch 98/150\n",
      "34/34 [==============================] - 39s 1s/step - loss: 1.4071 - categorical_accuracy: 0.6815 - top3_accuracy: 0.8122 - val_loss: 3.8557 - val_categorical_accuracy: 0.4064 - val_top3_accuracy: 0.5455\n",
      "97\n",
      "Epoch 99/150\n",
      "34/34 [==============================] - 38s 1s/step - loss: 1.3906 - categorical_accuracy: 0.6842 - top3_accuracy: 0.8148 - val_loss: 3.8596 - val_categorical_accuracy: 0.4144 - val_top3_accuracy: 0.5522\n",
      "98\n",
      "Epoch 100/150\n",
      "34/34 [==============================] - 39s 1s/step - loss: 1.3774 - categorical_accuracy: 0.6867 - top3_accuracy: 0.8171 - val_loss: 3.8618 - val_categorical_accuracy: 0.4169 - val_top3_accuracy: 0.5498\n",
      "99\n",
      "Epoch 101/150\n",
      "34/34 [==============================] - 39s 1s/step - loss: 1.3564 - categorical_accuracy: 0.6912 - top3_accuracy: 0.8200 - val_loss: 3.8989 - val_categorical_accuracy: 0.4083 - val_top3_accuracy: 0.5442\n",
      "100\n",
      "Epoch 102/150\n",
      "34/34 [==============================] - 39s 1s/step - loss: 1.3477 - categorical_accuracy: 0.6927 - top3_accuracy: 0.8215 - val_loss: 3.9267 - val_categorical_accuracy: 0.4103 - val_top3_accuracy: 0.5458\n",
      "101\n",
      "Epoch 103/150\n",
      "34/34 [==============================] - 38s 1s/step - loss: 1.3351 - categorical_accuracy: 0.6947 - top3_accuracy: 0.8236 - val_loss: 3.9087 - val_categorical_accuracy: 0.4108 - val_top3_accuracy: 0.5426\n",
      "102\n",
      "Epoch 104/150\n",
      "34/34 [==============================] - 39s 1s/step - loss: 1.3222 - categorical_accuracy: 0.6978 - top3_accuracy: 0.8253 - val_loss: 3.9457 - val_categorical_accuracy: 0.4115 - val_top3_accuracy: 0.5458\n",
      "103\n",
      "Epoch 105/150\n",
      "34/34 [==============================] - 39s 1s/step - loss: 1.3133 - categorical_accuracy: 0.6990 - top3_accuracy: 0.8269 - val_loss: 3.9587 - val_categorical_accuracy: 0.4086 - val_top3_accuracy: 0.5398\n",
      "104\n",
      "Epoch 106/150\n",
      "34/34 [==============================] - 39s 1s/step - loss: 1.2987 - categorical_accuracy: 0.7021 - top3_accuracy: 0.8292 - val_loss: 3.9860 - val_categorical_accuracy: 0.4125 - val_top3_accuracy: 0.5448\n",
      "105\n",
      "Epoch 107/150\n",
      "34/34 [==============================] - 39s 1s/step - loss: 1.2946 - categorical_accuracy: 0.7023 - top3_accuracy: 0.8301 - val_loss: 3.9549 - val_categorical_accuracy: 0.4142 - val_top3_accuracy: 0.5474\n",
      "106\n",
      "Epoch 108/150\n",
      "34/34 [==============================] - 39s 1s/step - loss: 1.2780 - categorical_accuracy: 0.7054 - top3_accuracy: 0.8325 - val_loss: 3.9829 - val_categorical_accuracy: 0.4145 - val_top3_accuracy: 0.5467\n",
      "107\n",
      "Epoch 109/150\n",
      "34/34 [==============================] - 39s 1s/step - loss: 1.2672 - categorical_accuracy: 0.7077 - top3_accuracy: 0.8346 - val_loss: 4.0085 - val_categorical_accuracy: 0.4111 - val_top3_accuracy: 0.5400\n",
      "108\n",
      "Epoch 110/150\n",
      "34/34 [==============================] - 39s 1s/step - loss: 1.2520 - categorical_accuracy: 0.7105 - top3_accuracy: 0.8368 - val_loss: 4.0162 - val_categorical_accuracy: 0.4135 - val_top3_accuracy: 0.5446\n",
      "109\n",
      "Epoch 111/150\n",
      "34/34 [==============================] - 39s 1s/step - loss: 1.2399 - categorical_accuracy: 0.7129 - top3_accuracy: 0.8392 - val_loss: 4.0393 - val_categorical_accuracy: 0.4112 - val_top3_accuracy: 0.5475\n",
      "110\n",
      "Epoch 112/150\n",
      "34/34 [==============================] - 39s 1s/step - loss: 1.2360 - categorical_accuracy: 0.7135 - top3_accuracy: 0.8398 - val_loss: 4.0487 - val_categorical_accuracy: 0.4074 - val_top3_accuracy: 0.5402\n",
      "111\n",
      "Epoch 113/150\n",
      "34/34 [==============================] - 39s 1s/step - loss: 1.2253 - categorical_accuracy: 0.7162 - top3_accuracy: 0.8413 - val_loss: 4.0699 - val_categorical_accuracy: 0.4130 - val_top3_accuracy: 0.5413\n",
      "112\n",
      "Epoch 114/150\n",
      "34/34 [==============================] - 39s 1s/step - loss: 1.2116 - categorical_accuracy: 0.7185 - top3_accuracy: 0.8432 - val_loss: 4.0664 - val_categorical_accuracy: 0.4143 - val_top3_accuracy: 0.5449\n",
      "113\n",
      "Epoch 115/150\n",
      " 4/34 [==>...........................] - ETA: 30s - loss: 1.1543 - categorical_accuracy: 0.7310 - top3_accuracy: 0.8526"
     ]
    }
   ],
   "source": [
    "model.fit_generator(gen_train,steps_per_epoch=generate_train.nbatches,epochs=150,\n",
    "                    validation_data=gen_valid,validation_steps=generate_valid.nbatches,\n",
    "                    callbacks=[ModelCheckpoint(model_folder+\"/gru-model.hd5\",save_best_only=True,monitor='val_top3_accuracy'),\n",
    "                               LambdaCallback(on_epoch_end=Sample(X_test,y_test,15,model,tk,20,10,prefix=model_folder)),\n",
    "                               CSVLogger(model_folder+'/metrics.csv')\n",
    "                              ])"
   ]
  },
  {
   "cell_type": "code",
   "execution_count": null,
   "metadata": {
    "colab": {},
    "colab_type": "code",
    "id": "nzE7HXwodivd"
   },
   "outputs": [],
   "source": [
    "# ! ls"
   ]
  },
  {
   "cell_type": "code",
   "execution_count": null,
   "metadata": {
    "colab": {},
    "colab_type": "code",
    "id": "gv2M49gDhXdz"
   },
   "outputs": [],
   "source": [
    "# ! mkdir -p \"$data_folder\"/models/gru_v0\n",
    "# ! cp -p *.* \"$data_folder\"/models/gru_v0"
   ]
  },
  {
   "cell_type": "code",
   "execution_count": null,
   "metadata": {
    "colab": {},
    "colab_type": "code",
    "id": "MQ3Xr-XqiB0g"
   },
   "outputs": [],
   "source": [
    "# ! ls \"$data_folder\"/models/gru_v0"
   ]
  },
  {
   "cell_type": "code",
   "execution_count": null,
   "metadata": {
    "colab": {},
    "colab_type": "code",
    "id": "FjIodAHGiYqD"
   },
   "outputs": [],
   "source": []
  }
 ],
 "metadata": {
  "accelerator": "GPU",
  "colab": {
   "collapsed_sections": [],
   "name": "train_rnn.ipynb",
   "provenance": [
    {
     "file_id": "https://github.com/musella/twitter_crawl/blob/master/notebooks/train_rnn.ipynb",
     "timestamp": 1544611437671
    }
   ],
   "version": "0.3.2"
  },
  "kernelspec": {
   "display_name": "Python 3",
   "language": "python",
   "name": "python3"
  },
  "language_info": {
   "codemirror_mode": {
    "name": "ipython",
    "version": 3
   },
   "file_extension": ".py",
   "mimetype": "text/x-python",
   "name": "python",
   "nbconvert_exporter": "python",
   "pygments_lexer": "ipython3",
   "version": "3.6.4"
  }
 },
 "nbformat": 4,
 "nbformat_minor": 2
}
