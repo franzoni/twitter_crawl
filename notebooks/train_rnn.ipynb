{
 "cells": [
  {
   "cell_type": "markdown",
   "metadata": {
    "colab_type": "text",
    "id": "view-in-github"
   },
   "source": [
    "<a href=\"https://colab.research.google.com/github/musella/twitter_crawl/blob/master/notebooks/train_rnn.ipynb\" target=\"_parent\"><img src=\"https://colab.research.google.com/assets/colab-badge.svg\" alt=\"Open In Colab\"/></a>"
   ]
  },
  "cells": [
    {
      "cell_type": "markdown",
      "metadata": {
        "id": "view-in-github",
        "colab_type": "text"
      },
      "source": [
        "<a href=\"https://colab.research.google.com/github/musella/twitter_crawl/blob/master/notebooks/train_rnn.ipynb\" target=\"_parent\"><img src=\"https://colab.research.google.com/assets/colab-badge.svg\" alt=\"Open In Colab\"/></a>"
      ]
    },
    {
      "metadata": {
        "id": "iZoa-8QozLL3",
        "colab_type": "code",
        "colab": {
          "base_uri": "https://localhost:8080/",
          "height": 35
        },
        "outputId": "43d292f5-8ed2-4fb2-c39d-3386d7e5c52c"
      },
      "cell_type": "code",
      "source": [
        "import pandas as pd\n",
        "import numpy as np\n",
        "import matplotlib.pyplot as plt\n",
        "from keras.preprocessing.sequence import pad_sequences\n",
        "from keras.utils import to_categorical\n",
        "\n",
        "from keras.callbacks import ModelCheckpoint"
      ],
      "execution_count": 1,
      "outputs": [
        {
          "output_type": "stream",
          "text": [
            "Using TensorFlow backend.\n"
          ],
          "name": "stderr"
        }
      ]
    },
    {
      "metadata": {
        "id": "-UPaK0HxzxJI",
        "colab_type": "code",
        "outputId": "7dbaa5f4-cfb7-4557-df50-9dd659ae3722",
        "colab": {
          "base_uri": "https://localhost:8080/",
          "height": 127
        }
      },
      "cell_type": "code",
      "source": [
        "from google.colab import drive\n",
        "drive.mount('/gdrive')"
      ],
      "execution_count": 2,
      "outputs": [
        {
          "output_type": "stream",
          "text": [
            "Go to this URL in a browser: https://accounts.google.com/o/oauth2/auth?client_id=947318989803-6bn6qk8qdgf4n4g3pfee6491hc0brc4i.apps.googleusercontent.com&redirect_uri=urn%3Aietf%3Awg%3Aoauth%3A2.0%3Aoob&scope=email%20https%3A%2F%2Fwww.googleapis.com%2Fauth%2Fdocs.test%20https%3A%2F%2Fwww.googleapis.com%2Fauth%2Fdrive%20https%3A%2F%2Fwww.googleapis.com%2Fauth%2Fdrive.photos.readonly%20https%3A%2F%2Fwww.googleapis.com%2Fauth%2Fpeopleapi.readonly&response_type=code\n",
            "\n",
            "Enter your authorization code:\n",
            "··········\n",
            "Mounted at /gdrive\n"
          ],
          "name": "stdout"
        }
      ]
    },
    {
      "metadata": {
        "id": "PKjbKMmp2T77",
        "colab_type": "code",
        "colab": {}
      },
      "cell_type": "code",
      "source": [
        "data_folder = '/gdrive/My Drive/data/twitter_crawl/data'"
      ],
      "execution_count": 0,
      "outputs": []
    },
    {
      "metadata": {
        "id": "2bpIPK-QzLMc",
        "colab_type": "code",
        "colab": {}
      },
      "cell_type": "code",
      "source": [
        "sequences = pd.read_hdf(data_folder+\"/preproc/sequences.hd5\")\n",
        "\n"
      ],
      "execution_count": 0,
      "outputs": []
    },
    {
      "metadata": {
        "id": "OHnebNrrIw1c",
        "colab_type": "code",
        "colab": {}
      },
      "cell_type": "code",
      "source": [
        "def remove_rt(x):\n",
        "  if x[0:2] == [5,2]: return x[2:]\n",
        "  return x\n",
        "  \n",
        "last = None\n",
        "def duplicate(x):\n",
        "  global last\n",
        "  if x == last:\n",
        "    return True\n",
        "  last = x\n",
        "  return False\n",
        "  \n",
        "duplicates = sequences[\"sequences\"].apply(remove_rt).sort_values().apply(duplicate)\n",
        "duplicates.sort_index(inplace=True)"
      ],
      "execution_count": 0,
      "outputs": []
    },
    {
      "metadata": {
        "id": "fketcnfyKmYd",
        "colab_type": "code",
        "outputId": "a8eb45f3-51be-424f-886b-5f660fe1bade",
        "colab": {
          "base_uri": "https://localhost:8080/",
          "height": 35
        }
      },
      "cell_type": "code",
      "source": [
        "duplicates.sum() / duplicates.shape[0]"
      ],
      "execution_count": 6,
      "outputs": [
        {
          "output_type": "execute_result",
          "data": {
            "text/plain": [
              "0.6050014563308784"
            ]
          },
          "metadata": {
            "tags": []
          },
          "execution_count": 6
        }
      ]
    },
    {
      "metadata": {
        "id": "0W80RZZaKz1P",
        "colab_type": "code",
        "colab": {}
      },
      "cell_type": "code",
      "source": [
        "X = sequences[~duplicates][\"sequences\"].apply(lambda x: x[:-1])\n",
        "y = sequences[~duplicates][\"sequences\"].apply(lambda x: x[1:])"
      ],
      "execution_count": 0,
      "outputs": []
    },
    {
      "metadata": {
        "id": "WqOFu4YEzLMy",
        "colab_type": "code",
        "colab": {}
      },
      "cell_type": "code",
      "source": [
        "max_len = X.apply(len).max()"
      ],
      "execution_count": 0,
      "outputs": []
    },
    {
      "metadata": {
        "id": "yuYSOnVRzLNP",
        "colab_type": "code",
        "outputId": "1fea315b-49c8-41b0-c0cf-0972e340096c",
        "colab": {
          "base_uri": "https://localhost:8080/",
          "height": 35
        }
      },
      "cell_type": "code",
      "source": [
        "print(max_len)"
      ],
      "execution_count": 9,
      "outputs": [
        {
          "output_type": "stream",
          "text": [
            "34\n"
          ],
          "name": "stdout"
        }
      ]
    },
    {
      "metadata": {
        "id": "QEf_eSCkzLNp",
        "colab_type": "code",
        "colab": {}
      },
      "cell_type": "code",
      "source": [
        "X_padded = pad_sequences(X)\n",
        "y_padded = pad_sequences(y)"
      ],
      "execution_count": 0,
      "outputs": []
    },
    {
      "metadata": {
        "id": "dWeUbFpDzLN4",
        "colab_type": "code",
        "colab": {}
      },
      "cell_type": "code",
      "source": [
        "# targets = to_categorical(padded)\n",
        "\n",
        "from sklearn.preprocessing import OneHotEncoder\n",
        "\n",
        "class Generate:\n",
        "\n",
        "    def __init__(self,X,y,max_words,batch_size=32):\n",
        "        self._X = X\n",
        "        self._y = y\n",
        "        self._batch_size = batch_size\n",
        "        self._nbatches = X.shape[0] // batch_size\n",
        "        self._remind = X.shape[0] % batch_size\n",
        "        self.nbatches = self._nbatches + 1 if self._remind > 0 else 0\n",
        "\n",
        "        self._max_words = max_words\n",
        "        \n",
        "        \n",
        "    def __call__(self):\n",
        "        index = np.arange(self._X.shape[0])\n",
        "        while True:\n",
        "            np.random.shuffle(index)            \n",
        "            def xy(Xb,yb):\n",
        "                return Xb, to_categorical(yb,self._max_words)\n",
        "            for ibatch in range(self._nbatches):\n",
        "                bindex = index[ibatch*self._batch_size:(ibatch+1)*self._batch_size]\n",
        "                Xb = self._X[bindex]\n",
        "                yb = self._y[bindex]\n",
        "                yield xy(Xb,yb)\n",
        "            if self._remind > 0:\n",
        "                Xb = self._X[index[-self._remind:]]\n",
        "                yb = self._y[index[-self._remind:]]\n",
        "                yield xy(Xb,yb)\n",
        "    \n"
      ],
      "execution_count": 0,
      "outputs": []
    },
    {
      "metadata": {
        "id": "hyltjDSFzLOG",
        "colab_type": "code",
        "colab": {}
      },
      "cell_type": "code",
      "source": [
        "# generate._encode.transform(padded[0,1])"
      ],
      "execution_count": 0,
      "outputs": []
    },
    {
      "metadata": {
        "id": "hkcbzFJDzLOc",
        "colab_type": "code",
        "outputId": "294f0c55-b757-46f7-e7ab-aac70422c7dd",
        "colab": {
          "base_uri": "https://localhost:8080/",
          "height": 35
        }
      },
      "cell_type": "code",
      "source": [
        "X_padded.shape"
      ],
      "execution_count": 13,
      "outputs": [
        {
          "output_type": "execute_result",
          "data": {
            "text/plain": [
              "(18986, 34)"
            ]
          },
          "metadata": {
            "tags": []
          },
          "execution_count": 13
        }
      ]
    },
    {
      "metadata": {
        "id": "Vr25igoOzLO7",
        "colab_type": "code",
        "colab": {}
      },
      "cell_type": "code",
      "source": [
        "from keras.layers import Embedding, Input, Concatenate, GRU, Dense, Activation, Convolution1D, TimeDistributed\n",
        "from keras.layers import GaussianNoise, Dropout\n",
        "\n",
        "from keras.callbacks import CSVLogger\n"
      ],
      "execution_count": 0,
      "outputs": []
    },
    {
      "metadata": {
        "id": "H8Bu6m4EzLPR",
        "colab_type": "code",
        "colab": {}
      },
      "cell_type": "code",
      "source": [
        "words_embed_mtx = np.load(data_folder+'/models/sequences/embed_mtx.npy')\n",
        "hash_embed_mtx = np.load(data_folder+'/models/sequences/hash_mtx.npy')\n",
        "stop_mtx = np.load(data_folder+'/models/sequences/hash_mtx.npy')\n"
      ],
      "execution_count": 0,
      "outputs": []
    },
    {
      "metadata": {
        "id": "tX8aurouzLPg",
        "colab_type": "code",
        "colab": {}
      },
      "cell_type": "code",
      "source": [
        "import json"
      ],
      "execution_count": 0,
      "outputs": []
    },
    {
      "metadata": {
        "id": "XzrBz8rVzLP9",
        "colab_type": "code",
        "outputId": "7c57aaaf-d1af-4b84-b52c-1f2e450d94f3",
        "colab": {
          "base_uri": "https://localhost:8080/",
          "height": 55
        }
      },
      "cell_type": "code",
      "source": [
        "with open(data_folder+\"/models/sequences/info.json\",\"r\") as fin:\n",
        "    info = json.loads(fin.read())\n",
        "\n",
        "print(info)"
      ],
      "execution_count": 17,
      "outputs": [
        {
          "output_type": "stream",
          "text": [
            "{'max_words': 1600, 'unk_idx': [902, 1171, 623, 1065, 1274, 1329, 1284, 254, 1339, 1527, 583, 1020, 1097, 1239, 492, 1285, 888, 1133, 1227, 265, 174, 1357, 970, 1543, 620, 700, 1398, 1013, 1438, 1582, 1041, 1233, 1512, 1322, 575, 325]}\n"
          ],
          "name": "stdout"
        }
      ]
    },
    {
      "metadata": {
        "id": "-IgpxwyLzLWZ",
        "colab_type": "code",
        "colab": {}
      },
      "cell_type": "code",
      "source": [
        "import pickle\n",
        "\n",
        "with open(data_folder+\"/models/sequences/tokenizer.pkl\",\"rb\") as fin:\n",
        "    tk = pickle.loads(fin.read())"
      ],
      "execution_count": 0,
      "outputs": []
    },
    {
      "metadata": {
        "id": "wb3R6VLQzLQS",
        "colab_type": "code",
        "colab": {}
      },
      "cell_type": "code",
      "source": [
        "words_embed_layer = Embedding(words_embed_mtx.shape[0],words_embed_mtx.shape[1],\n",
        "                              weights=[words_embed_mtx],\n",
        "                              input_length=max_len,mask_zero=True)\n",
        "hash_embed_layer = Embedding(hash_embed_mtx.shape[0],hash_embed_mtx.shape[1],\n",
        "                             weights=[hash_embed_mtx],\n",
        "                             input_length=max_len,mask_zero=True)\n",
        "stop_layer = Embedding(stop_mtx.shape[0],stop_mtx.shape[1],\n",
        "                       weights=[stop_mtx],\n",
        "                       input_length=max_len,mask_zero=True)\n"
      ],
      "execution_count": 0,
      "outputs": []
    },
    {
     "name": "stderr",
     "output_type": "stream",
     "text": [
      "Using TensorFlow backend.\n"
     ]
    }
   ],
   "source": [
    "import pandas as pd\n",
    "import numpy as np\n",
    "import matplotlib.pyplot as plt\n",
    "from keras.preprocessing.sequence import pad_sequences\n",
    "from keras.utils import to_categorical\n",
    "\n",
    "from keras.callbacks import ModelCheckpoint"
   ]
  },
  {
   "cell_type": "code",
   "execution_count": 2,
   "metadata": {
    "colab": {
     "base_uri": "https://localhost:8080/",
     "height": 55
    },
    "colab_type": "code",
    "id": "-UPaK0HxzxJI",
    "outputId": "03dd5c69-4c8c-4359-b31a-3558ab5185d3"
   },
   "outputs": [
    {
     "name": "stdout",
     "output_type": "stream",
     "text": [
      "Drive already mounted at /gdrive; to attempt to forcibly remount, call drive.mount(\"/gdrive\", force_remount=True).\n"
     ]
    }
   ],
   "source": [
    "from google.colab import drive\n",
    "drive.mount('/gdrive')"
   ]
  },
  {
   "cell_type": "code",
   "execution_count": null,
   "metadata": {
    "colab": {},
    "colab_type": "code",
    "id": "PKjbKMmp2T77"
   },
   "outputs": [],
   "source": [
    "data_folder = '/gdrive/My Drive/data/twitter_crawl/data'"
   ]
  },
  {
   "cell_type": "code",
   "execution_count": null,
   "metadata": {
    "colab": {},
    "colab_type": "code",
    "id": "2bpIPK-QzLMc"
   },
   "outputs": [],
   "source": [
    "sequences = pd.read_hdf(data_folder+\"/preproc/sequences.hd5\")"
   ]
  },
  {
   "cell_type": "code",
   "execution_count": null,
   "metadata": {
    "colab": {},
    "colab_type": "code",
    "id": "WqOFu4YEzLMy"
   },
   "outputs": [],
   "source": [
    "max_len = sequences[\"sequences\"].apply(len).max()"
   ]
  },
  {
   "cell_type": "code",
   "execution_count": 6,
   "metadata": {
    "colab": {
     "base_uri": "https://localhost:8080/",
     "height": 35
    },
    "colab_type": "code",
    "id": "yuYSOnVRzLNP",
    "outputId": "d9e0c440-cebc-490f-b66c-8461197a3085"
   },
   "outputs": [
    {
      "metadata": {
        "id": "5QDGbJG8zLRG",
        "colab_type": "code",
        "outputId": "8757d7f4-e702-4f10-acf5-ee3a860f636e",
        "colab": {
          "base_uri": "https://localhost:8080/",
          "height": 831
        }
      },
      "cell_type": "code",
      "source": [
        "nwords = info[\"max_words\"]+2\n",
        "\n",
        "inp = Input(X_padded.shape[1:])\n",
        "W = words_embed_layer(inp)\n",
        "H = hash_embed_layer(inp)\n",
        "S = stop_layer(inp)\n",
        "\n",
        "concat = Concatenate()([W,H,S])\n",
        "L = concat\n",
        "\n",
        "L = GaussianNoise(0.1)(L)\n",
        "L = GRU(500,return_sequences=True)(L)\n",
        "L = GRU(500,return_sequences=True)(L)\n",
        "\n",
        "#L = Dropout(0.5)(L)\n",
        "\n",
        "L = TimeDistributed(Dense(250))(L)\n",
        "L = GaussianNoise(0.05)(L)\n",
        "L = Activation('tanh')(L)\n",
        "\n",
        "L = TimeDistributed(Dense(250))(L)\n",
        "L = Activation('tanh')(L)\n",
        "\n",
        "#L = Dropout(0.5)(L)\n",
        "\n",
        "L = TimeDistributed(Dense(250))(L)\n",
        "L = GaussianNoise(0.05)(L)\n",
        "L = Activation('tanh')(L)\n",
        "\n",
        "L = TimeDistributed(Dense(nwords))(L)\n",
        "L = Activation('softmax')(L)\n",
        "# out = rnn(concat)\n",
        "out = L\n",
        "embed_model = Model(inputs=inp,outputs=concat)\n",
        "\n",
        "model = Model(inputs=inp,outputs=out)\n",
        "optimzier = Adam(lr=1.e-3)\n",
        "# ,decay=0.005\n",
        "model.compile(loss=\"categorical_crossentropy\",optimizer=optimzier,metrics=['categorical_accuracy'])\n",
        "\n",
        "model.summary()"
      ],
      "execution_count": 22,
      "outputs": [
        {
          "output_type": "stream",
          "text": [
            "__________________________________________________________________________________________________\n",
            "Layer (type)                    Output Shape         Param #     Connected to                     \n",
            "==================================================================================================\n",
            "input_1 (InputLayer)            (None, 34)           0                                            \n",
            "__________________________________________________________________________________________________\n",
            "embedding_1 (Embedding)         (None, 34, 25)       40025       input_1[0][0]                    \n",
            "__________________________________________________________________________________________________\n",
            "embedding_2 (Embedding)         (None, 34, 2)        3202        input_1[0][0]                    \n",
            "__________________________________________________________________________________________________\n",
            "embedding_3 (Embedding)         (None, 34, 2)        3202        input_1[0][0]                    \n",
            "__________________________________________________________________________________________________\n",
            "concatenate_1 (Concatenate)     (None, 34, 29)       0           embedding_1[0][0]                \n",
            "                                                                 embedding_2[0][0]                \n",
            "                                                                 embedding_3[0][0]                \n",
            "__________________________________________________________________________________________________\n",
            "gaussian_noise_1 (GaussianNoise (None, 34, 29)       0           concatenate_1[0][0]              \n",
            "__________________________________________________________________________________________________\n",
            "gru_1 (GRU)                     (None, 34, 500)      795000      gaussian_noise_1[0][0]           \n",
            "__________________________________________________________________________________________________\n",
            "gru_2 (GRU)                     (None, 34, 500)      1501500     gru_1[0][0]                      \n",
            "__________________________________________________________________________________________________\n",
            "time_distributed_1 (TimeDistrib (None, 34, 250)      125250      gru_2[0][0]                      \n",
            "__________________________________________________________________________________________________\n",
            "gaussian_noise_2 (GaussianNoise (None, 34, 250)      0           time_distributed_1[0][0]         \n",
            "__________________________________________________________________________________________________\n",
            "activation_1 (Activation)       (None, 34, 250)      0           gaussian_noise_2[0][0]           \n",
            "__________________________________________________________________________________________________\n",
            "time_distributed_2 (TimeDistrib (None, 34, 250)      62750       activation_1[0][0]               \n",
            "__________________________________________________________________________________________________\n",
            "activation_2 (Activation)       (None, 34, 250)      0           time_distributed_2[0][0]         \n",
            "__________________________________________________________________________________________________\n",
            "time_distributed_3 (TimeDistrib (None, 34, 250)      62750       activation_2[0][0]               \n",
            "__________________________________________________________________________________________________\n",
            "gaussian_noise_3 (GaussianNoise (None, 34, 250)      0           time_distributed_3[0][0]         \n",
            "__________________________________________________________________________________________________\n",
            "activation_3 (Activation)       (None, 34, 250)      0           gaussian_noise_3[0][0]           \n",
            "__________________________________________________________________________________________________\n",
            "time_distributed_4 (TimeDistrib (None, 34, 1602)     402102      activation_3[0][0]               \n",
            "__________________________________________________________________________________________________\n",
            "activation_4 (Activation)       (None, 34, 1602)     0           time_distributed_4[0][0]         \n",
            "==================================================================================================\n",
            "Total params: 2,995,781\n",
            "Trainable params: 2,949,352\n",
            "Non-trainable params: 46,429\n",
            "__________________________________________________________________________________________________\n"
          ],
          "name": "stdout"
        }
      ]
    },
    {
      "metadata": {
        "id": "cq8ENlcdzLRh",
        "colab_type": "code",
        "outputId": "3ea06efc-6dc0-4e1f-f70b-053628eb8618",
        "colab": {
          "base_uri": "https://localhost:8080/",
          "height": 1418
        }
      },
      "cell_type": "code",
      "source": [
        "sentences = embed_model.predict(X_padded[:100])\n",
        "\n",
        "fig = plt.figure(figsize=(20,20))\n",
        "for isnt, snt in enumerate( np.random.choice(np.arange(sentences.shape[0]),25) ):\n",
        "    plt.subplot(5,5,isnt+1)\n",
        "    plt.imshow(sentences[snt].T)\n",
        "plt.tight_layout()\n",
        "plt.savefig(\"sentences.png\")\n",
        "plt.show()\n"
      ],
      "execution_count": 23,
      "outputs": [
        {
          "output_type": "display_data",
          "data": {
            "image/png": "iVBORw0KGgoAAAANSUhEUgAABZQAAAVlCAYAAACInUmNAAAABHNCSVQICAgIfAhkiAAAAAlwSFlz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\nAAAAAAAAgC8sKAMAAAAAAAAAfPk/acMWdex7LcsAAAAASUVORK5CYII=\n",
            "text/plain": [
              "<matplotlib.figure.Figure at 0x7f3d71e8d860>"
            ]
          },
          "metadata": {
            "tags": []
          }
        }
      ]
    },
    {
      "metadata": {
        "id": "0A5UctrDzLSz",
        "colab_type": "code",
        "colab": {}
      },
      "cell_type": "code",
      "source": [
        "from keras.callbacks import LambdaCallback\n",
        "\n",
        "class Sample:\n",
        "  \n",
        "  def __init__(self,X,y,nsamples,model,tokenizer,min_epoch,freq):\n",
        "    self._X = X\n",
        "    self._y = y\n",
        "    self._index = np.arange(X.shape[0])\n",
        "    self._nsamples = nsamples\n",
        "    self._tokenizer = tokenizer\n",
        "    self._min_epoch = min_epoch\n",
        "    self._freq = freq\n",
        "    self._model = model\n",
        "    \n",
        "  def __call__(self,epoch,logs):\n",
        "    print(epoch)\n",
        "    if epoch < self._min_epoch: return\n",
        "    \n",
        "    if (epoch - self._min_epoch ) % self._freq != 0: return\n",
        "    \n",
        "    samples = np.random.choice(self._index,self._nsamples)\n",
        "    samples_X = self._X[samples]\n",
        "    targets = self._y[samples]\n",
        "    predictions = model.predict(samples_X).argsort(2)[:,:,-2:]\n",
        "    # \n",
        "    with open(\"sample_%d.txt\" % epoch, \"w+\") as fout:\n",
        "      for target,prediction,inp in zip(targets,predictions,samples_X):\n",
        "        first_word = (target>0).argmax()\n",
        "        fout.write(self._tokenizer.sequences_to_texts([inp])[0]+'\\n')\n",
        "        fout.write(self._tokenizer.sequences_to_texts([target])[0]+'\\n')\n",
        "        fout.write(self._tokenizer.sequences_to_texts([prediction[first_word:,-1]])[0]+'\\n')\n",
        "        fout.write(self._tokenizer.sequences_to_texts([prediction[first_word:,-2]])[0]+'\\n')\n",
        "        # fout.write(self._tokenizer.sequences_to_texts([prediction[first_word+1:,-3]]))\n",
        "        fout.write(\"----\\n\")\n",
        "      \n",
        "    \n",
        "    \n",
        "    \n",
        "     \n",
        "    \n",
        "  \n"
      ],
      "execution_count": 0,
      "outputs": []
    },
    {
      "metadata": {
        "id": "72T7xKj5zLTL",
        "colab_type": "code",
        "colab": {}
      },
      "cell_type": "code",
      "source": [
        "from sklearn.model_selection import train_test_split\n",
        "\n",
        "X_train, X_test, y_train, y_test = train_test_split(X_padded,y_padded,test_size=0.2,random_state=12345)\n",
        "\n",
        "X_train, X_valid, y_train, y_valid  = train_test_split(X_train,y_train,test_size=0.2,random_state=12345)\n",
        "\n",
        "generate_train = Generate(X_train,y_train,nwords,batch_size=512)\n",
        "generate_valid = Generate(X_valid,y_valid,nwords,batch_size=512)\n",
        "\n",
        "gen_train = generate_train()\n",
        "gen_valid = generate_valid()\n",
        "\n",
        "# for ii in range(5):\n",
        "#     X,y = next(gen)\n",
        "#     print(X.shape,y.shape)"
      ],
      "execution_count": 0,
      "outputs": []
    },
    {
      "metadata": {
        "id": "yjCTiaoOzLTf",
        "colab_type": "code",
        "outputId": "cea95bbc-56ef-4c48-e740-165ffd20b6fd",
        "colab": {
          "base_uri": "https://localhost:8080/",
          "height": 7913
        }
      },
      "cell_type": "code",
      "source": [
        "model.fit_generator(gen_train,steps_per_epoch=generate_train.nbatches,epochs=500,\n",
        "                    validation_data=gen_valid,validation_steps=generate_valid.nbatches,\n",
        "                    callbacks=[ModelCheckpoint(\"gru-model.hd5\",save_best_only=True),\n",
        "                               LambdaCallback(on_epoch_end=Sample(X_test,y_test,10,model,tk,30,30)),\n",
        "                               \n",
        "                              ])"
      ],
      "execution_count": 26,
      "outputs": [
        {
          "output_type": "stream",
          "text": [
            "Epoch 1/500\n",
            "24/24 [==============================] - 16s 680ms/step - loss: 5.6192 - categorical_accuracy: 0.1076 - val_loss: 5.0757 - val_categorical_accuracy: 0.1193\n",
            "0\n",
            "Epoch 2/500\n",
            "24/24 [==============================] - 13s 527ms/step - loss: 5.0061 - categorical_accuracy: 0.1324 - val_loss: 4.8580 - val_categorical_accuracy: 0.1618\n",
            "1\n",
            "Epoch 3/500\n",
            "24/24 [==============================] - 13s 530ms/step - loss: 4.7993 - categorical_accuracy: 0.1623 - val_loss: 4.6694 - val_categorical_accuracy: 0.1899\n",
            "2\n",
            "Epoch 4/500\n",
            "24/24 [==============================] - 13s 529ms/step - loss: 4.6153 - categorical_accuracy: 0.1906 - val_loss: 4.4955 - val_categorical_accuracy: 0.2117\n",
            "3\n",
            "Epoch 5/500\n",
            "24/24 [==============================] - 13s 532ms/step - loss: 4.4630 - categorical_accuracy: 0.2099 - val_loss: 4.3582 - val_categorical_accuracy: 0.2265\n",
            "4\n",
            "Epoch 6/500\n",
            "24/24 [==============================] - 13s 531ms/step - loss: 4.3510 - categorical_accuracy: 0.2224 - val_loss: 4.2709 - val_categorical_accuracy: 0.2321\n",
            "5\n",
            "Epoch 7/500\n",
            "24/24 [==============================] - 13s 530ms/step - loss: 4.2711 - categorical_accuracy: 0.2325 - val_loss: 4.1919 - val_categorical_accuracy: 0.2496\n",
            "6\n",
            "Epoch 8/500\n",
            "24/24 [==============================] - 13s 530ms/step - loss: 4.1914 - categorical_accuracy: 0.2555 - val_loss: 4.1238 - val_categorical_accuracy: 0.2690\n",
            "7\n",
            "Epoch 9/500\n",
            "24/24 [==============================] - 13s 530ms/step - loss: 4.1267 - categorical_accuracy: 0.2652 - val_loss: 4.0646 - val_categorical_accuracy: 0.2755\n",
            "8\n",
            "Epoch 10/500\n",
            "24/24 [==============================] - 13s 531ms/step - loss: 4.0705 - categorical_accuracy: 0.2728 - val_loss: 4.0158 - val_categorical_accuracy: 0.2831\n",
            "9\n",
            "Epoch 11/500\n",
            "24/24 [==============================] - 13s 532ms/step - loss: 4.0146 - categorical_accuracy: 0.2795 - val_loss: 3.9650 - val_categorical_accuracy: 0.2890\n",
            "10\n",
            "Epoch 12/500\n",
            "24/24 [==============================] - 13s 530ms/step - loss: 3.9674 - categorical_accuracy: 0.2848 - val_loss: 3.9240 - val_categorical_accuracy: 0.2930\n",
            "11\n",
            "Epoch 13/500\n",
            "24/24 [==============================] - 13s 529ms/step - loss: 3.9190 - categorical_accuracy: 0.2896 - val_loss: 3.8791 - val_categorical_accuracy: 0.2962\n",
            "12\n",
            "Epoch 14/500\n",
            "24/24 [==============================] - 13s 531ms/step - loss: 3.8691 - categorical_accuracy: 0.2950 - val_loss: 3.8380 - val_categorical_accuracy: 0.3017\n",
            "13\n",
            "Epoch 15/500\n",
            "24/24 [==============================] - 13s 531ms/step - loss: 3.8250 - categorical_accuracy: 0.2990 - val_loss: 3.7998 - val_categorical_accuracy: 0.3030\n",
            "14\n",
            "Epoch 16/500\n",
            "24/24 [==============================] - 13s 531ms/step - loss: 3.7829 - categorical_accuracy: 0.3018 - val_loss: 3.7641 - val_categorical_accuracy: 0.3102\n",
            "15\n",
            "Epoch 17/500\n",
            "24/24 [==============================] - 13s 529ms/step - loss: 3.7423 - categorical_accuracy: 0.3069 - val_loss: 3.7271 - val_categorical_accuracy: 0.3143\n",
            "16\n",
            "Epoch 18/500\n",
            "24/24 [==============================] - 13s 529ms/step - loss: 3.6997 - categorical_accuracy: 0.3114 - val_loss: 3.6926 - val_categorical_accuracy: 0.3149\n",
            "17\n",
            "Epoch 19/500\n",
            "24/24 [==============================] - 13s 529ms/step - loss: 3.6572 - categorical_accuracy: 0.3158 - val_loss: 3.6610 - val_categorical_accuracy: 0.3226\n",
            "18\n",
            "Epoch 20/500\n",
            "24/24 [==============================] - 13s 531ms/step - loss: 3.6226 - categorical_accuracy: 0.3205 - val_loss: 3.6338 - val_categorical_accuracy: 0.3271\n",
            "19\n",
            "Epoch 21/500\n",
            "24/24 [==============================] - 13s 530ms/step - loss: 3.5852 - categorical_accuracy: 0.3245 - val_loss: 3.6097 - val_categorical_accuracy: 0.3276\n",
            "20\n",
            "Epoch 22/500\n",
            "24/24 [==============================] - 13s 530ms/step - loss: 3.5488 - categorical_accuracy: 0.3292 - val_loss: 3.5796 - val_categorical_accuracy: 0.3311\n",
            "21\n",
            "Epoch 23/500\n",
            "24/24 [==============================] - 13s 531ms/step - loss: 3.5141 - categorical_accuracy: 0.3337 - val_loss: 3.5576 - val_categorical_accuracy: 0.3366\n",
            "22\n",
            "Epoch 24/500\n",
            "24/24 [==============================] - 13s 531ms/step - loss: 3.4750 - categorical_accuracy: 0.3389 - val_loss: 3.5284 - val_categorical_accuracy: 0.3394\n",
            "23\n",
            "Epoch 25/500\n",
            "24/24 [==============================] - 13s 529ms/step - loss: 3.4392 - categorical_accuracy: 0.3443 - val_loss: 3.5132 - val_categorical_accuracy: 0.3440\n",
            "24\n",
            "Epoch 26/500\n",
            "24/24 [==============================] - 13s 527ms/step - loss: 3.4027 - categorical_accuracy: 0.3489 - val_loss: 3.4976 - val_categorical_accuracy: 0.3441\n",
            "25\n",
            "Epoch 27/500\n",
            "24/24 [==============================] - 13s 529ms/step - loss: 3.3704 - categorical_accuracy: 0.3530 - val_loss: 3.4792 - val_categorical_accuracy: 0.3487\n",
            "26\n",
            "Epoch 28/500\n",
            "24/24 [==============================] - 13s 530ms/step - loss: 3.3317 - categorical_accuracy: 0.3592 - val_loss: 3.4552 - val_categorical_accuracy: 0.3502\n",
            "27\n",
            "Epoch 29/500\n",
            "24/24 [==============================] - 13s 530ms/step - loss: 3.2893 - categorical_accuracy: 0.3641 - val_loss: 3.4369 - val_categorical_accuracy: 0.3532\n",
            "28\n",
            "Epoch 30/500\n",
            "24/24 [==============================] - 13s 531ms/step - loss: 3.2512 - categorical_accuracy: 0.3710 - val_loss: 3.4272 - val_categorical_accuracy: 0.3557\n",
            "29\n",
            "Epoch 31/500\n",
            "24/24 [==============================] - 13s 530ms/step - loss: 3.2131 - categorical_accuracy: 0.3761 - val_loss: 3.3997 - val_categorical_accuracy: 0.3594\n",
            "30\n",
            "Epoch 32/500\n",
            "24/24 [==============================] - 13s 530ms/step - loss: 3.1671 - categorical_accuracy: 0.3836 - val_loss: 3.3831 - val_categorical_accuracy: 0.3619\n",
            "31\n",
            "Epoch 33/500\n",
            "24/24 [==============================] - 13s 529ms/step - loss: 3.1219 - categorical_accuracy: 0.3910 - val_loss: 3.3724 - val_categorical_accuracy: 0.3635\n",
            "32\n",
            "Epoch 34/500\n",
            "24/24 [==============================] - 13s 531ms/step - loss: 3.0792 - categorical_accuracy: 0.3966 - val_loss: 3.3597 - val_categorical_accuracy: 0.3662\n",
            "33\n",
            "Epoch 35/500\n",
            "24/24 [==============================] - 13s 531ms/step - loss: 3.0387 - categorical_accuracy: 0.4023 - val_loss: 3.3626 - val_categorical_accuracy: 0.3663\n",
            "34\n",
            "Epoch 36/500\n",
            "24/24 [==============================] - 13s 531ms/step - loss: 3.0002 - categorical_accuracy: 0.4085 - val_loss: 3.3398 - val_categorical_accuracy: 0.3676\n",
            "35\n",
            "Epoch 37/500\n",
            "24/24 [==============================] - 13s 530ms/step - loss: 2.9477 - categorical_accuracy: 0.4175 - val_loss: 3.3333 - val_categorical_accuracy: 0.3736\n",
            "36\n",
            "Epoch 38/500\n",
            "24/24 [==============================] - 13s 532ms/step - loss: 2.8924 - categorical_accuracy: 0.4279 - val_loss: 3.3354 - val_categorical_accuracy: 0.3730\n",
            "37\n",
            "Epoch 39/500\n",
            "24/24 [==============================] - 13s 531ms/step - loss: 2.8416 - categorical_accuracy: 0.4347 - val_loss: 3.3258 - val_categorical_accuracy: 0.3778\n",
            "38\n",
            "Epoch 40/500\n",
            "24/24 [==============================] - 13s 529ms/step - loss: 2.7852 - categorical_accuracy: 0.4452 - val_loss: 3.3243 - val_categorical_accuracy: 0.3779\n",
            "39\n",
            "Epoch 41/500\n",
            "24/24 [==============================] - 13s 529ms/step - loss: 2.7373 - categorical_accuracy: 0.4533 - val_loss: 3.3248 - val_categorical_accuracy: 0.3792\n",
            "40\n",
            "Epoch 42/500\n",
            "24/24 [==============================] - 13s 532ms/step - loss: 2.6935 - categorical_accuracy: 0.4600 - val_loss: 3.3539 - val_categorical_accuracy: 0.3785\n",
            "41\n",
            "Epoch 43/500\n",
            "24/24 [==============================] - 13s 530ms/step - loss: 2.6390 - categorical_accuracy: 0.4693 - val_loss: 3.3394 - val_categorical_accuracy: 0.3845\n",
            "42\n",
            "Epoch 44/500\n",
            "24/24 [==============================] - 13s 531ms/step - loss: 2.5874 - categorical_accuracy: 0.4794 - val_loss: 3.3296 - val_categorical_accuracy: 0.3873\n",
            "43\n",
            "Epoch 45/500\n",
            "24/24 [==============================] - 13s 530ms/step - loss: 2.5327 - categorical_accuracy: 0.4885 - val_loss: 3.3404 - val_categorical_accuracy: 0.3875\n",
            "44\n",
            "Epoch 46/500\n",
            "24/24 [==============================] - 13s 530ms/step - loss: 2.4808 - categorical_accuracy: 0.4976 - val_loss: 3.3424 - val_categorical_accuracy: 0.3909\n",
            "45\n",
            "Epoch 47/500\n",
            "24/24 [==============================] - 13s 529ms/step - loss: 2.4241 - categorical_accuracy: 0.5084 - val_loss: 3.3579 - val_categorical_accuracy: 0.3910\n",
            "46\n",
            "Epoch 48/500\n",
            "24/24 [==============================] - 13s 530ms/step - loss: 2.3760 - categorical_accuracy: 0.5155 - val_loss: 3.3653 - val_categorical_accuracy: 0.3968\n",
            "47\n",
            "Epoch 49/500\n",
            "24/24 [==============================] - 13s 529ms/step - loss: 2.3247 - categorical_accuracy: 0.5261 - val_loss: 3.3647 - val_categorical_accuracy: 0.3942\n",
            "48\n",
            "Epoch 50/500\n",
            "24/24 [==============================] - 13s 528ms/step - loss: 2.2740 - categorical_accuracy: 0.5348 - val_loss: 3.3834 - val_categorical_accuracy: 0.3987\n",
            "49\n",
            "Epoch 51/500\n",
            "24/24 [==============================] - 13s 529ms/step - loss: 2.2261 - categorical_accuracy: 0.5430 - val_loss: 3.4038 - val_categorical_accuracy: 0.3970\n",
            "50\n",
            "Epoch 52/500\n",
            "24/24 [==============================] - 13s 531ms/step - loss: 2.1804 - categorical_accuracy: 0.5517 - val_loss: 3.3957 - val_categorical_accuracy: 0.4029\n",
            "51\n",
            "Epoch 53/500\n",
            "24/24 [==============================] - 13s 530ms/step - loss: 2.1234 - categorical_accuracy: 0.5629 - val_loss: 3.4076 - val_categorical_accuracy: 0.4039\n",
            "52\n",
            "Epoch 54/500\n",
            "24/24 [==============================] - 13s 528ms/step - loss: 2.0784 - categorical_accuracy: 0.5714 - val_loss: 3.4612 - val_categorical_accuracy: 0.4034\n",
            "53\n",
            "Epoch 55/500\n",
            "24/24 [==============================] - 13s 530ms/step - loss: 2.0399 - categorical_accuracy: 0.5784 - val_loss: 3.4495 - val_categorical_accuracy: 0.4039\n",
            "54\n",
            "Epoch 56/500\n",
            "24/24 [==============================] - 13s 528ms/step - loss: 1.9916 - categorical_accuracy: 0.5883 - val_loss: 3.4620 - val_categorical_accuracy: 0.4066\n",
            "55\n",
            "Epoch 57/500\n",
            "24/24 [==============================] - 13s 529ms/step - loss: 1.9420 - categorical_accuracy: 0.5976 - val_loss: 3.4865 - val_categorical_accuracy: 0.4083\n",
            "56\n",
            "Epoch 58/500\n",
            "24/24 [==============================] - 13s 531ms/step - loss: 1.8975 - categorical_accuracy: 0.6065 - val_loss: 3.5005 - val_categorical_accuracy: 0.4110\n",
            "57\n",
            "Epoch 59/500\n",
            "24/24 [==============================] - 13s 529ms/step - loss: 1.8605 - categorical_accuracy: 0.6127 - val_loss: 3.5192 - val_categorical_accuracy: 0.4124\n",
            "58\n",
            "Epoch 60/500\n",
            "24/24 [==============================] - 13s 528ms/step - loss: 1.8190 - categorical_accuracy: 0.6216 - val_loss: 3.5384 - val_categorical_accuracy: 0.4143\n",
            "59\n",
            "Epoch 61/500\n",
            "24/24 [==============================] - 13s 529ms/step - loss: 1.7779 - categorical_accuracy: 0.6291 - val_loss: 3.5527 - val_categorical_accuracy: 0.4147\n",
            "60\n",
            "Epoch 62/500\n",
            "24/24 [==============================] - 13s 530ms/step - loss: 1.7433 - categorical_accuracy: 0.6356 - val_loss: 3.5564 - val_categorical_accuracy: 0.4144\n",
            "61\n",
            "Epoch 63/500\n",
            "24/24 [==============================] - 13s 530ms/step - loss: 1.7031 - categorical_accuracy: 0.6437 - val_loss: 3.5928 - val_categorical_accuracy: 0.4161\n",
            "62\n",
            "Epoch 64/500\n",
            "24/24 [==============================] - 13s 528ms/step - loss: 1.6634 - categorical_accuracy: 0.6520 - val_loss: 3.6123 - val_categorical_accuracy: 0.4171\n",
            "63\n",
            "Epoch 65/500\n",
            "24/24 [==============================] - 13s 529ms/step - loss: 1.6333 - categorical_accuracy: 0.6577 - val_loss: 3.6342 - val_categorical_accuracy: 0.4181\n",
            "64\n",
            "Epoch 66/500\n",
            "24/24 [==============================] - 13s 530ms/step - loss: 1.5982 - categorical_accuracy: 0.6649 - val_loss: 3.6475 - val_categorical_accuracy: 0.4198\n",
            "65\n",
            "Epoch 67/500\n",
            "24/24 [==============================] - 13s 532ms/step - loss: 1.5591 - categorical_accuracy: 0.6722 - val_loss: 3.6585 - val_categorical_accuracy: 0.4210\n",
            "66\n",
            "Epoch 68/500\n",
            "24/24 [==============================] - 13s 531ms/step - loss: 1.5319 - categorical_accuracy: 0.6775 - val_loss: 3.6705 - val_categorical_accuracy: 0.4227\n",
            "67\n",
            "Epoch 69/500\n",
            "24/24 [==============================] - 13s 530ms/step - loss: 1.4937 - categorical_accuracy: 0.6860 - val_loss: 3.7209 - val_categorical_accuracy: 0.4228\n",
            "68\n",
            "Epoch 70/500\n",
            "24/24 [==============================] - 13s 530ms/step - loss: 1.4660 - categorical_accuracy: 0.6909 - val_loss: 3.7089 - val_categorical_accuracy: 0.4244\n",
            "69\n",
            "Epoch 71/500\n",
            "24/24 [==============================] - 13s 530ms/step - loss: 1.4382 - categorical_accuracy: 0.6972 - val_loss: 3.7224 - val_categorical_accuracy: 0.4270\n",
            "70\n",
            "Epoch 72/500\n",
            "24/24 [==============================] - 13s 530ms/step - loss: 1.4149 - categorical_accuracy: 0.7012 - val_loss: 3.7465 - val_categorical_accuracy: 0.4256\n",
            "71\n",
            "Epoch 73/500\n",
            "24/24 [==============================] - 13s 530ms/step - loss: 1.3877 - categorical_accuracy: 0.7058 - val_loss: 3.7720 - val_categorical_accuracy: 0.4274\n",
            "72\n",
            "Epoch 74/500\n",
            "24/24 [==============================] - 13s 531ms/step - loss: 1.3570 - categorical_accuracy: 0.7135 - val_loss: 3.7942 - val_categorical_accuracy: 0.4263\n",
            "73\n",
            "Epoch 75/500\n",
            "24/24 [==============================] - 13s 526ms/step - loss: 1.3360 - categorical_accuracy: 0.7175 - val_loss: 3.8090 - val_categorical_accuracy: 0.4285\n",
            "74\n",
            "Epoch 76/500\n",
            "24/24 [==============================] - 13s 530ms/step - loss: 1.3081 - categorical_accuracy: 0.7225 - val_loss: 3.8124 - val_categorical_accuracy: 0.4278\n",
            "75\n",
            "Epoch 77/500\n",
            "24/24 [==============================] - 13s 530ms/step - loss: 1.2821 - categorical_accuracy: 0.7289 - val_loss: 3.8354 - val_categorical_accuracy: 0.4313\n",
            "76\n",
            "Epoch 78/500\n",
            "24/24 [==============================] - 13s 529ms/step - loss: 1.2597 - categorical_accuracy: 0.7332 - val_loss: 3.8491 - val_categorical_accuracy: 0.4290\n",
            "77\n",
            "Epoch 79/500\n",
            "24/24 [==============================] - 13s 530ms/step - loss: 1.2381 - categorical_accuracy: 0.7379 - val_loss: 3.8601 - val_categorical_accuracy: 0.4329\n",
            "78\n",
            "Epoch 80/500\n",
            "24/24 [==============================] - 13s 531ms/step - loss: 1.2131 - categorical_accuracy: 0.7422 - val_loss: 3.8760 - val_categorical_accuracy: 0.4352\n",
            "79\n",
            "Epoch 81/500\n",
            "24/24 [==============================] - 13s 529ms/step - loss: 1.1921 - categorical_accuracy: 0.7471 - val_loss: 3.8943 - val_categorical_accuracy: 0.4339\n",
            "80\n",
            "Epoch 82/500\n",
            "24/24 [==============================] - 13s 529ms/step - loss: 1.1702 - categorical_accuracy: 0.7515 - val_loss: 3.9125 - val_categorical_accuracy: 0.4346\n",
            "81\n",
            "Epoch 83/500\n",
            "24/24 [==============================] - 13s 530ms/step - loss: 1.1516 - categorical_accuracy: 0.7557 - val_loss: 3.9268 - val_categorical_accuracy: 0.4351\n",
            "82\n",
            "Epoch 84/500\n",
            "24/24 [==============================] - 13s 530ms/step - loss: 1.1285 - categorical_accuracy: 0.7604 - val_loss: 3.9325 - val_categorical_accuracy: 0.4371\n",
            "83\n",
            "Epoch 85/500\n",
            "24/24 [==============================] - 13s 528ms/step - loss: 1.1125 - categorical_accuracy: 0.7642 - val_loss: 3.9606 - val_categorical_accuracy: 0.4375\n",
            "84\n",
            "Epoch 86/500\n",
            "24/24 [==============================] - 13s 530ms/step - loss: 1.0946 - categorical_accuracy: 0.7668 - val_loss: 3.9722 - val_categorical_accuracy: 0.4351\n",
            "85\n",
            "Epoch 87/500\n",
            "24/24 [==============================] - 13s 531ms/step - loss: 1.0780 - categorical_accuracy: 0.7703 - val_loss: 3.9744 - val_categorical_accuracy: 0.4386\n",
            "86\n",
            "Epoch 88/500\n",
            "24/24 [==============================] - 13s 531ms/step - loss: 1.0576 - categorical_accuracy: 0.7749 - val_loss: 4.0096 - val_categorical_accuracy: 0.4367\n",
            "87\n",
            "Epoch 89/500\n",
            "24/24 [==============================] - 13s 527ms/step - loss: 1.0411 - categorical_accuracy: 0.7787 - val_loss: 4.0079 - val_categorical_accuracy: 0.4412\n",
            "88\n",
            "Epoch 90/500\n",
            "24/24 [==============================] - 13s 530ms/step - loss: 1.0266 - categorical_accuracy: 0.7809 - val_loss: 4.0491 - val_categorical_accuracy: 0.4376\n",
            "89\n",
            "Epoch 91/500\n",
            "24/24 [==============================] - 13s 531ms/step - loss: 1.0187 - categorical_accuracy: 0.7831 - val_loss: 4.0427 - val_categorical_accuracy: 0.4417\n",
            "90\n",
            "Epoch 92/500\n",
            "24/24 [==============================] - 13s 531ms/step - loss: 1.0002 - categorical_accuracy: 0.7872 - val_loss: 4.0449 - val_categorical_accuracy: 0.4419\n",
            "91\n",
            "Epoch 93/500\n",
            "24/24 [==============================] - 13s 529ms/step - loss: 0.9814 - categorical_accuracy: 0.7905 - val_loss: 4.0648 - val_categorical_accuracy: 0.4414\n",
            "92\n",
            "Epoch 94/500\n",
            "24/24 [==============================] - 13s 530ms/step - loss: 0.9693 - categorical_accuracy: 0.7937 - val_loss: 4.0675 - val_categorical_accuracy: 0.4440\n",
            "93\n",
            "Epoch 95/500\n",
            "24/24 [==============================] - 13s 530ms/step - loss: 0.9566 - categorical_accuracy: 0.7957 - val_loss: 4.0878 - val_categorical_accuracy: 0.4420\n",
            "94\n",
            "Epoch 96/500\n",
            "24/24 [==============================] - 13s 531ms/step - loss: 0.9426 - categorical_accuracy: 0.7986 - val_loss: 4.0897 - val_categorical_accuracy: 0.4437\n",
            "95\n",
            "Epoch 97/500\n",
            "24/24 [==============================] - 13s 530ms/step - loss: 0.9318 - categorical_accuracy: 0.8014 - val_loss: 4.1099 - val_categorical_accuracy: 0.4441\n",
            "96\n",
            "Epoch 98/500\n",
            "24/24 [==============================] - 13s 531ms/step - loss: 0.9254 - categorical_accuracy: 0.8014 - val_loss: 4.1298 - val_categorical_accuracy: 0.4431\n",
            "97\n",
            "Epoch 99/500\n",
            "24/24 [==============================] - 13s 528ms/step - loss: 0.9132 - categorical_accuracy: 0.8042 - val_loss: 4.1184 - val_categorical_accuracy: 0.4457\n",
            "98\n",
            "Epoch 100/500\n",
            "24/24 [==============================] - 13s 534ms/step - loss: 0.9024 - categorical_accuracy: 0.8061 - val_loss: 4.1559 - val_categorical_accuracy: 0.4456\n",
            "99\n",
            "Epoch 101/500\n",
            "24/24 [==============================] - 13s 532ms/step - loss: 0.8864 - categorical_accuracy: 0.8095 - val_loss: 4.1662 - val_categorical_accuracy: 0.4441\n",
            "100\n",
            "Epoch 102/500\n",
            "24/24 [==============================] - 13s 529ms/step - loss: 0.8728 - categorical_accuracy: 0.8132 - val_loss: 4.1899 - val_categorical_accuracy: 0.4443\n",
            "101\n",
            "Epoch 103/500\n",
            "24/24 [==============================] - 13s 535ms/step - loss: 0.8602 - categorical_accuracy: 0.8159 - val_loss: 4.1720 - val_categorical_accuracy: 0.4479\n",
            "102\n",
            "Epoch 104/500\n",
            "24/24 [==============================] - 13s 534ms/step - loss: 0.8499 - categorical_accuracy: 0.8175 - val_loss: 4.2030 - val_categorical_accuracy: 0.4469\n",
            "103\n",
            "Epoch 105/500\n",
            "24/24 [==============================] - 13s 534ms/step - loss: 0.8426 - categorical_accuracy: 0.8197 - val_loss: 4.2072 - val_categorical_accuracy: 0.4475\n",
            "104\n",
            "Epoch 106/500\n",
            "24/24 [==============================] - 13s 533ms/step - loss: 0.8320 - categorical_accuracy: 0.8210 - val_loss: 4.2116 - val_categorical_accuracy: 0.4481\n",
            "105\n",
            "Epoch 107/500\n",
            "24/24 [==============================] - 13s 533ms/step - loss: 0.8262 - categorical_accuracy: 0.8222 - val_loss: 4.2362 - val_categorical_accuracy: 0.4456\n",
            "106\n",
            "Epoch 108/500\n",
            "24/24 [==============================] - 13s 534ms/step - loss: 0.8191 - categorical_accuracy: 0.8235 - val_loss: 4.2232 - val_categorical_accuracy: 0.4489\n",
            "107\n",
            "Epoch 109/500\n",
            "24/24 [==============================] - 13s 529ms/step - loss: 0.8112 - categorical_accuracy: 0.8256 - val_loss: 4.2408 - val_categorical_accuracy: 0.4482\n",
            "108\n",
            "Epoch 110/500\n",
            "24/24 [==============================] - 13s 528ms/step - loss: 0.8009 - categorical_accuracy: 0.8270 - val_loss: 4.2480 - val_categorical_accuracy: 0.4486\n",
            "109\n",
            "Epoch 111/500\n",
            "24/24 [==============================] - 13s 529ms/step - loss: 0.7903 - categorical_accuracy: 0.8300 - val_loss: 4.2580 - val_categorical_accuracy: 0.4500\n",
            "110\n",
            "Epoch 112/500\n",
            "24/24 [==============================] - 13s 527ms/step - loss: 0.7845 - categorical_accuracy: 0.8300 - val_loss: 4.2920 - val_categorical_accuracy: 0.4476\n",
            "111\n",
            "Epoch 113/500\n",
            "24/24 [==============================] - 13s 534ms/step - loss: 0.7796 - categorical_accuracy: 0.8311 - val_loss: 4.2834 - val_categorical_accuracy: 0.4487\n",
            "112\n",
            "Epoch 114/500\n",
            "24/24 [==============================] - 13s 534ms/step - loss: 0.7703 - categorical_accuracy: 0.8328 - val_loss: 4.2830 - val_categorical_accuracy: 0.4518\n",
            "113\n",
            "Epoch 115/500\n",
            "24/24 [==============================] - 13s 531ms/step - loss: 0.7612 - categorical_accuracy: 0.8352 - val_loss: 4.2845 - val_categorical_accuracy: 0.4480\n",
            "114\n",
            "Epoch 116/500\n",
            "24/24 [==============================] - 13s 531ms/step - loss: 0.7553 - categorical_accuracy: 0.8367 - val_loss: 4.2934 - val_categorical_accuracy: 0.4510\n",
            "115\n",
            "Epoch 117/500\n",
            "24/24 [==============================] - 13s 529ms/step - loss: 0.7497 - categorical_accuracy: 0.8374 - val_loss: 4.3156 - val_categorical_accuracy: 0.4480\n",
            "116\n",
            "Epoch 118/500\n",
            "24/24 [==============================] - 13s 531ms/step - loss: 0.7442 - categorical_accuracy: 0.8373 - val_loss: 4.3225 - val_categorical_accuracy: 0.4523\n",
            "117\n",
            "Epoch 119/500\n",
            "24/24 [==============================] - 13s 531ms/step - loss: 0.7391 - categorical_accuracy: 0.8394 - val_loss: 4.3379 - val_categorical_accuracy: 0.4508\n",
            "118\n",
            "Epoch 120/500\n",
            "24/24 [==============================] - 13s 530ms/step - loss: 0.7323 - categorical_accuracy: 0.8399 - val_loss: 4.3363 - val_categorical_accuracy: 0.4518\n",
            "119\n",
            "Epoch 121/500\n",
            "24/24 [==============================] - 13s 529ms/step - loss: 0.7235 - categorical_accuracy: 0.8424 - val_loss: 4.3477 - val_categorical_accuracy: 0.4510\n",
            "120\n",
            "Epoch 122/500\n",
            "24/24 [==============================] - 13s 530ms/step - loss: 0.7184 - categorical_accuracy: 0.8428 - val_loss: 4.3571 - val_categorical_accuracy: 0.4521\n",
            "121\n",
            "Epoch 123/500\n",
            "24/24 [==============================] - 13s 529ms/step - loss: 0.7115 - categorical_accuracy: 0.8449 - val_loss: 4.3757 - val_categorical_accuracy: 0.4482\n",
            "122\n",
            "Epoch 124/500\n",
            "24/24 [==============================] - 13s 530ms/step - loss: 0.7082 - categorical_accuracy: 0.8445 - val_loss: 4.3929 - val_categorical_accuracy: 0.4503\n",
            "123\n",
            "Epoch 125/500\n",
            "15/24 [=================>............] - ETA: 4s - loss: 0.6880 - categorical_accuracy: 0.8487"
          ],
          "name": "stdout"
        },
        {
          "output_type": "error",
          "ename": "KeyboardInterrupt",
          "evalue": "ignored",
          "traceback": [
            "\u001b[0;31m---------------------------------------------------------------------------\u001b[0m",
            "\u001b[0;31mKeyboardInterrupt\u001b[0m                         Traceback (most recent call last)",
            "\u001b[0;32m<ipython-input-26-11b793b32c8e>\u001b[0m in \u001b[0;36m<module>\u001b[0;34m()\u001b[0m\n\u001b[1;32m      2\u001b[0m                     \u001b[0mvalidation_data\u001b[0m\u001b[0;34m=\u001b[0m\u001b[0mgen_valid\u001b[0m\u001b[0;34m,\u001b[0m\u001b[0mvalidation_steps\u001b[0m\u001b[0;34m=\u001b[0m\u001b[0mgenerate_valid\u001b[0m\u001b[0;34m.\u001b[0m\u001b[0mnbatches\u001b[0m\u001b[0;34m,\u001b[0m\u001b[0;34m\u001b[0m\u001b[0;34m\u001b[0m\u001b[0m\n\u001b[1;32m      3\u001b[0m                     callbacks=[ModelCheckpoint(\"gru-model.hd5\",save_best_only=True),\n\u001b[0;32m----> 4\u001b[0;31m                                \u001b[0mLambdaCallback\u001b[0m\u001b[0;34m(\u001b[0m\u001b[0mon_epoch_end\u001b[0m\u001b[0;34m=\u001b[0m\u001b[0mSample\u001b[0m\u001b[0;34m(\u001b[0m\u001b[0mX_test\u001b[0m\u001b[0;34m,\u001b[0m\u001b[0my_test\u001b[0m\u001b[0;34m,\u001b[0m\u001b[0;36m10\u001b[0m\u001b[0;34m,\u001b[0m\u001b[0mmodel\u001b[0m\u001b[0;34m,\u001b[0m\u001b[0mtk\u001b[0m\u001b[0;34m,\u001b[0m\u001b[0;36m30\u001b[0m\u001b[0;34m,\u001b[0m\u001b[0;36m30\u001b[0m\u001b[0;34m)\u001b[0m\u001b[0;34m)\u001b[0m\u001b[0;34m,\u001b[0m\u001b[0;34m\u001b[0m\u001b[0;34m\u001b[0m\u001b[0m\n\u001b[0m\u001b[1;32m      5\u001b[0m \u001b[0;34m\u001b[0m\u001b[0m\n\u001b[1;32m      6\u001b[0m                               ])\n",
            "\u001b[0;32m/usr/local/lib/python3.6/dist-packages/keras/legacy/interfaces.py\u001b[0m in \u001b[0;36mwrapper\u001b[0;34m(*args, **kwargs)\u001b[0m\n\u001b[1;32m     89\u001b[0m                 warnings.warn('Update your `' + object_name + '` call to the ' +\n\u001b[1;32m     90\u001b[0m                               'Keras 2 API: ' + signature, stacklevel=2)\n\u001b[0;32m---> 91\u001b[0;31m             \u001b[0;32mreturn\u001b[0m \u001b[0mfunc\u001b[0m\u001b[0;34m(\u001b[0m\u001b[0;34m*\u001b[0m\u001b[0margs\u001b[0m\u001b[0;34m,\u001b[0m \u001b[0;34m**\u001b[0m\u001b[0mkwargs\u001b[0m\u001b[0;34m)\u001b[0m\u001b[0;34m\u001b[0m\u001b[0;34m\u001b[0m\u001b[0m\n\u001b[0m\u001b[1;32m     92\u001b[0m         \u001b[0mwrapper\u001b[0m\u001b[0;34m.\u001b[0m\u001b[0m_original_function\u001b[0m \u001b[0;34m=\u001b[0m \u001b[0mfunc\u001b[0m\u001b[0;34m\u001b[0m\u001b[0;34m\u001b[0m\u001b[0m\n\u001b[1;32m     93\u001b[0m         \u001b[0;32mreturn\u001b[0m \u001b[0mwrapper\u001b[0m\u001b[0;34m\u001b[0m\u001b[0;34m\u001b[0m\u001b[0m\n",
            "\u001b[0;32m/usr/local/lib/python3.6/dist-packages/keras/engine/training.py\u001b[0m in \u001b[0;36mfit_generator\u001b[0;34m(self, generator, steps_per_epoch, epochs, verbose, callbacks, validation_data, validation_steps, class_weight, max_queue_size, workers, use_multiprocessing, shuffle, initial_epoch)\u001b[0m\n\u001b[1;32m   1416\u001b[0m             \u001b[0muse_multiprocessing\u001b[0m\u001b[0;34m=\u001b[0m\u001b[0muse_multiprocessing\u001b[0m\u001b[0;34m,\u001b[0m\u001b[0;34m\u001b[0m\u001b[0;34m\u001b[0m\u001b[0m\n\u001b[1;32m   1417\u001b[0m             \u001b[0mshuffle\u001b[0m\u001b[0;34m=\u001b[0m\u001b[0mshuffle\u001b[0m\u001b[0;34m,\u001b[0m\u001b[0;34m\u001b[0m\u001b[0;34m\u001b[0m\u001b[0m\n\u001b[0;32m-> 1418\u001b[0;31m             initial_epoch=initial_epoch)\n\u001b[0m\u001b[1;32m   1419\u001b[0m \u001b[0;34m\u001b[0m\u001b[0m\n\u001b[1;32m   1420\u001b[0m     \u001b[0;34m@\u001b[0m\u001b[0minterfaces\u001b[0m\u001b[0;34m.\u001b[0m\u001b[0mlegacy_generator_methods_support\u001b[0m\u001b[0;34m\u001b[0m\u001b[0;34m\u001b[0m\u001b[0m\n",
            "\u001b[0;32m/usr/local/lib/python3.6/dist-packages/keras/engine/training_generator.py\u001b[0m in \u001b[0;36mfit_generator\u001b[0;34m(model, generator, steps_per_epoch, epochs, verbose, callbacks, validation_data, validation_steps, class_weight, max_queue_size, workers, use_multiprocessing, shuffle, initial_epoch)\u001b[0m\n\u001b[1;32m    215\u001b[0m                 outs = model.train_on_batch(x, y,\n\u001b[1;32m    216\u001b[0m                                             \u001b[0msample_weight\u001b[0m\u001b[0;34m=\u001b[0m\u001b[0msample_weight\u001b[0m\u001b[0;34m,\u001b[0m\u001b[0;34m\u001b[0m\u001b[0;34m\u001b[0m\u001b[0m\n\u001b[0;32m--> 217\u001b[0;31m                                             class_weight=class_weight)\n\u001b[0m\u001b[1;32m    218\u001b[0m \u001b[0;34m\u001b[0m\u001b[0m\n\u001b[1;32m    219\u001b[0m                 \u001b[0mouts\u001b[0m \u001b[0;34m=\u001b[0m \u001b[0mto_list\u001b[0m\u001b[0;34m(\u001b[0m\u001b[0mouts\u001b[0m\u001b[0;34m)\u001b[0m\u001b[0;34m\u001b[0m\u001b[0;34m\u001b[0m\u001b[0m\n",
            "\u001b[0;32m/usr/local/lib/python3.6/dist-packages/keras/engine/training.py\u001b[0m in \u001b[0;36mtrain_on_batch\u001b[0;34m(self, x, y, sample_weight, class_weight)\u001b[0m\n\u001b[1;32m   1215\u001b[0m             \u001b[0mins\u001b[0m \u001b[0;34m=\u001b[0m \u001b[0mx\u001b[0m \u001b[0;34m+\u001b[0m \u001b[0my\u001b[0m \u001b[0;34m+\u001b[0m \u001b[0msample_weights\u001b[0m\u001b[0;34m\u001b[0m\u001b[0;34m\u001b[0m\u001b[0m\n\u001b[1;32m   1216\u001b[0m         \u001b[0mself\u001b[0m\u001b[0;34m.\u001b[0m\u001b[0m_make_train_function\u001b[0m\u001b[0;34m(\u001b[0m\u001b[0;34m)\u001b[0m\u001b[0;34m\u001b[0m\u001b[0;34m\u001b[0m\u001b[0m\n\u001b[0;32m-> 1217\u001b[0;31m         \u001b[0moutputs\u001b[0m \u001b[0;34m=\u001b[0m \u001b[0mself\u001b[0m\u001b[0;34m.\u001b[0m\u001b[0mtrain_function\u001b[0m\u001b[0;34m(\u001b[0m\u001b[0mins\u001b[0m\u001b[0;34m)\u001b[0m\u001b[0;34m\u001b[0m\u001b[0;34m\u001b[0m\u001b[0m\n\u001b[0m\u001b[1;32m   1218\u001b[0m         \u001b[0;32mreturn\u001b[0m \u001b[0munpack_singleton\u001b[0m\u001b[0;34m(\u001b[0m\u001b[0moutputs\u001b[0m\u001b[0;34m)\u001b[0m\u001b[0;34m\u001b[0m\u001b[0;34m\u001b[0m\u001b[0m\n\u001b[1;32m   1219\u001b[0m \u001b[0;34m\u001b[0m\u001b[0m\n",
            "\u001b[0;32m/usr/local/lib/python3.6/dist-packages/keras/backend/tensorflow_backend.py\u001b[0m in \u001b[0;36m__call__\u001b[0;34m(self, inputs)\u001b[0m\n\u001b[1;32m   2713\u001b[0m                 \u001b[0;32mreturn\u001b[0m \u001b[0mself\u001b[0m\u001b[0;34m.\u001b[0m\u001b[0m_legacy_call\u001b[0m\u001b[0;34m(\u001b[0m\u001b[0minputs\u001b[0m\u001b[0;34m)\u001b[0m\u001b[0;34m\u001b[0m\u001b[0;34m\u001b[0m\u001b[0m\n\u001b[1;32m   2714\u001b[0m \u001b[0;34m\u001b[0m\u001b[0m\n\u001b[0;32m-> 2715\u001b[0;31m             \u001b[0;32mreturn\u001b[0m \u001b[0mself\u001b[0m\u001b[0;34m.\u001b[0m\u001b[0m_call\u001b[0m\u001b[0;34m(\u001b[0m\u001b[0minputs\u001b[0m\u001b[0;34m)\u001b[0m\u001b[0;34m\u001b[0m\u001b[0;34m\u001b[0m\u001b[0m\n\u001b[0m\u001b[1;32m   2716\u001b[0m         \u001b[0;32melse\u001b[0m\u001b[0;34m:\u001b[0m\u001b[0;34m\u001b[0m\u001b[0;34m\u001b[0m\u001b[0m\n\u001b[1;32m   2717\u001b[0m             \u001b[0;32mif\u001b[0m \u001b[0mpy_any\u001b[0m\u001b[0;34m(\u001b[0m\u001b[0mis_tensor\u001b[0m\u001b[0;34m(\u001b[0m\u001b[0mx\u001b[0m\u001b[0;34m)\u001b[0m \u001b[0;32mfor\u001b[0m \u001b[0mx\u001b[0m \u001b[0;32min\u001b[0m \u001b[0minputs\u001b[0m\u001b[0;34m)\u001b[0m\u001b[0;34m:\u001b[0m\u001b[0;34m\u001b[0m\u001b[0;34m\u001b[0m\u001b[0m\n",
            "\u001b[0;32m/usr/local/lib/python3.6/dist-packages/keras/backend/tensorflow_backend.py\u001b[0m in \u001b[0;36m_call\u001b[0;34m(self, inputs)\u001b[0m\n\u001b[1;32m   2673\u001b[0m             \u001b[0mfetched\u001b[0m \u001b[0;34m=\u001b[0m \u001b[0mself\u001b[0m\u001b[0;34m.\u001b[0m\u001b[0m_callable_fn\u001b[0m\u001b[0;34m(\u001b[0m\u001b[0;34m*\u001b[0m\u001b[0marray_vals\u001b[0m\u001b[0;34m,\u001b[0m \u001b[0mrun_metadata\u001b[0m\u001b[0;34m=\u001b[0m\u001b[0mself\u001b[0m\u001b[0;34m.\u001b[0m\u001b[0mrun_metadata\u001b[0m\u001b[0;34m)\u001b[0m\u001b[0;34m\u001b[0m\u001b[0;34m\u001b[0m\u001b[0m\n\u001b[1;32m   2674\u001b[0m         \u001b[0;32melse\u001b[0m\u001b[0;34m:\u001b[0m\u001b[0;34m\u001b[0m\u001b[0;34m\u001b[0m\u001b[0m\n\u001b[0;32m-> 2675\u001b[0;31m             \u001b[0mfetched\u001b[0m \u001b[0;34m=\u001b[0m \u001b[0mself\u001b[0m\u001b[0;34m.\u001b[0m\u001b[0m_callable_fn\u001b[0m\u001b[0;34m(\u001b[0m\u001b[0;34m*\u001b[0m\u001b[0marray_vals\u001b[0m\u001b[0;34m)\u001b[0m\u001b[0;34m\u001b[0m\u001b[0;34m\u001b[0m\u001b[0m\n\u001b[0m\u001b[1;32m   2676\u001b[0m         \u001b[0;32mreturn\u001b[0m \u001b[0mfetched\u001b[0m\u001b[0;34m[\u001b[0m\u001b[0;34m:\u001b[0m\u001b[0mlen\u001b[0m\u001b[0;34m(\u001b[0m\u001b[0mself\u001b[0m\u001b[0;34m.\u001b[0m\u001b[0moutputs\u001b[0m\u001b[0;34m)\u001b[0m\u001b[0;34m]\u001b[0m\u001b[0;34m\u001b[0m\u001b[0;34m\u001b[0m\u001b[0m\n\u001b[1;32m   2677\u001b[0m \u001b[0;34m\u001b[0m\u001b[0m\n",
            "\u001b[0;32m/usr/local/lib/python3.6/dist-packages/tensorflow/python/client/session.py\u001b[0m in \u001b[0;36m__call__\u001b[0;34m(self, *args, **kwargs)\u001b[0m\n\u001b[1;32m   1437\u001b[0m           ret = tf_session.TF_SessionRunCallable(\n\u001b[1;32m   1438\u001b[0m               \u001b[0mself\u001b[0m\u001b[0;34m.\u001b[0m\u001b[0m_session\u001b[0m\u001b[0;34m.\u001b[0m\u001b[0m_session\u001b[0m\u001b[0;34m,\u001b[0m \u001b[0mself\u001b[0m\u001b[0;34m.\u001b[0m\u001b[0m_handle\u001b[0m\u001b[0;34m,\u001b[0m \u001b[0margs\u001b[0m\u001b[0;34m,\u001b[0m \u001b[0mstatus\u001b[0m\u001b[0;34m,\u001b[0m\u001b[0;34m\u001b[0m\u001b[0;34m\u001b[0m\u001b[0m\n\u001b[0;32m-> 1439\u001b[0;31m               run_metadata_ptr)\n\u001b[0m\u001b[1;32m   1440\u001b[0m         \u001b[0;32mif\u001b[0m \u001b[0mrun_metadata\u001b[0m\u001b[0;34m:\u001b[0m\u001b[0;34m\u001b[0m\u001b[0;34m\u001b[0m\u001b[0m\n\u001b[1;32m   1441\u001b[0m           \u001b[0mproto_data\u001b[0m \u001b[0;34m=\u001b[0m \u001b[0mtf_session\u001b[0m\u001b[0;34m.\u001b[0m\u001b[0mTF_GetBuffer\u001b[0m\u001b[0;34m(\u001b[0m\u001b[0mrun_metadata_ptr\u001b[0m\u001b[0;34m)\u001b[0m\u001b[0;34m\u001b[0m\u001b[0;34m\u001b[0m\u001b[0m\n",
            "\u001b[0;31mKeyboardInterrupt\u001b[0m: "
          ]
        }
      ]
    },
    {
      "metadata": {
        "id": "nzE7HXwodivd",
        "colab_type": "code",
        "colab": {
          "base_uri": "https://localhost:8080/",
          "height": 53
        },
        "outputId": "ba4b1232-9027-47c3-e185-616c977fb783"
      },
      "cell_type": "code",
      "source": [
        "! ls"
      ],
      "execution_count": 27,
      "outputs": [
        {
          "output_type": "stream",
          "text": [
            "gru-model.hd5\tsample_30.txt  sample_90.txt  sentences.png\n",
            "sample_120.txt\tsample_60.txt  sample_data\n"
          ],
          "name": "stdout"
        }
      ]
    },
    {
      "metadata": {
        "id": "gv2M49gDhXdz",
        "colab_type": "code",
        "colab": {}
      },
      "cell_type": "code",
      "source": [
        "! mkdir -p \"$data_folder\"/models/gru_v0\n",
        "! cp -p *.* \"$data_folder\"/models/gru_v0"
      ],
      "execution_count": 0,
      "outputs": []
    },
    {
      "metadata": {
        "id": "MQ3Xr-XqiB0g",
        "colab_type": "code",
        "colab": {
          "base_uri": "https://localhost:8080/",
          "height": 53
        },
        "outputId": "add21f1c-0843-4d33-d6b1-4b0016243f3e"
      },
      "cell_type": "code",
      "source": [
        "! ls \"$data_folder\"/models/gru_v0"
      ],
      "execution_count": 31,
      "outputs": [
        {
          "output_type": "stream",
          "text": [
            "gru-model.hd5\tsample_30.txt  sample_90.txt\n",
            "sample_120.txt\tsample_60.txt  sentences.png\n"
          ],
          "name": "stdout"
        }
      ]
    },
    {
      "metadata": {
        "id": "FjIodAHGiYqD",
        "colab_type": "code",
        "colab": {}
      },
      "cell_type": "code",
      "source": [
        ""
      ],
      "execution_count": 0,
      "outputs": []
    }
   ],
   "source": [
    "model.fit_generator(gen_train,steps_per_epoch=generate_train.nbatches,epochs=500,\n",
    "                    validation_data=gen_valid,validation_steps=generate_valid.nbatches,\n",
    "                    callbacks=[ModelCheckpoint(\"gru-model.hd5\",save_best_only=True),\n",
    "                               LambdaCallback(on_epoch_end=Sample(test,10,model,tk,30,30)),\n",
    "                              ])"
   ]
  },
  {
   "cell_type": "code",
   "execution_count": null,
   "metadata": {
    "colab": {},
    "colab_type": "code",
    "id": "oYSEALTcJYwJ"
   },
   "outputs": [],
   "source": [
    "sampler = Sample(test,10,model,tk,30,30)\n",
    "\n",
    "sampler(30,None)"
   ]
  },
  {
   "cell_type": "code",
   "execution_count": null,
   "metadata": {
    "colab": {},
    "colab_type": "code",
    "id": "j5ucrEsBzLUN"
   },
   "outputs": [],
   "source": [
    "sample = np.random.choice(np.arange(test.shape[0]),5)\n",
    "sample = test[sample]\n",
    "\n",
    "predictions = model.predict(sample[:,:-1])\n",
    "\n"
   ]
  },
  {
   "cell_type": "code",
   "execution_count": null,
   "metadata": {
    "colab": {},
    "colab_type": "code",
    "id": "JI7LHq4rzLVD"
   },
   "outputs": [],
   "source": [
    "sample.shape"
   ]
  },
  {
   "cell_type": "code",
   "execution_count": null,
   "metadata": {
    "colab": {},
    "colab_type": "code",
    "id": "-M17s562zLVK"
   },
   "outputs": [],
   "source": [
    "tk.sequences_to_texts(sample)"
   ]
  },
  {
   "cell_type": "code",
   "execution_count": null,
   "metadata": {
    "colab": {},
    "colab_type": "code",
    "id": "DlnAYPuezLVX"
   },
   "outputs": [],
   "source": [
    "predicted_words = predictions.argsort(axis=2)[:,:,-1]*(sample[:,1:]!=0)\n",
    "\n",
    "tk.sequences_to_texts(predicted_words)"
   ]
  },
  {
   "cell_type": "code",
   "execution_count": null,
   "metadata": {
    "colab": {},
    "colab_type": "code",
    "id": "W3hLQAJvzLWl"
   },
   "outputs": [],
   "source": [
    "tk.word_index"
   ]
  },
  {
   "cell_type": "code",
   "execution_count": null,
   "metadata": {
    "colab": {},
    "colab_type": "code",
    "id": "F94xERo9zLW4"
   },
   "outputs": [],
   "source": []
  }
 ],
 "metadata": {
  "accelerator": "GPU",
  "colab": {
   "collapsed_sections": [],
   "include_colab_link": true,
   "name": "train_rnn.ipynb",
   "provenance": [],
   "version": "0.3.2"
  },
  "kernelspec": {
   "display_name": "Python 3",
   "language": "python",
   "name": "python3"
  },
  "language_info": {
   "codemirror_mode": {
    "name": "ipython",
    "version": 3
   },
   "file_extension": ".py",
   "mimetype": "text/x-python",
   "name": "python",
   "nbconvert_exporter": "python",
   "pygments_lexer": "ipython3",
   "version": "3.6.4"
  }
 },
 "nbformat": 4,
 "nbformat_minor": 2
}
